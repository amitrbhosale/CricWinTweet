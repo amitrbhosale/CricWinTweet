{
 "cells": [
  {
   "cell_type": "code",
   "execution_count": null,
   "metadata": {
    "collapsed": true
   },
   "outputs": [],
   "source": []
  },
  {
   "cell_type": "code",
   "execution_count": null,
   "outputs": [],
   "source": [
    "import pandas as pd\n",
    "import nltk\n",
    "import os\n",
    "from textblob import TextBlob"
   ],
   "metadata": {
    "collapsed": false,
    "pycharm": {
     "name": "#%%\n"
    }
   }
  },
  {
   "cell_type": "code",
   "execution_count": null,
   "outputs": [],
   "source": [
    "#CSV file with extracted tweets for CWC19Final hash-tag during before the event\n",
    "file_1 = pd.read_csv(\"D:\\\\LJMU\\\\Project Topics\\\\Data\\\\Cleansed Data\\\\output_got_beforematch.csv\",error_bad_lines=False,delimiter=\";\")\n",
    "#CSV file with extracted tweets for EngVsNZ hash-tag during before the event\n",
    "file_2 = pd.read_csv(\"D:\\\\LJMU\\\\Project Topics\\\\Data\\\\Cleansed Data\\\\output_got_ENGvsNZ.csv\",error_bad_lines=False, delimiter =\";\", quotechar='\\\"')\n",
    "#CSV file with extracted tweets for NZVsENG hash-tag during before the event\n",
    "file_3 = pd.read_csv(\"D:\\\\LJMU\\\\Project Topics\\\\Data\\\\Cleansed Data\\\\output_got_NZvsENG.csv\",error_bad_lines=False,delimiter=\";\")\n",
    "\n",
    "\n",
    "#Combine the dataframes\n",
    "interim = file_1.append(file_2)\n",
    "combine = interim.append(file_3)\n",
    "\n",
    "len(combine)\n"
   ],
   "metadata": {
    "collapsed": false,
    "pycharm": {
     "name": "#%%\n"
    }
   }
  },
  {
   "cell_type": "code",
   "execution_count": null,
   "outputs": [],
   "source": [
    "combine.head(10)\n"
   ],
   "metadata": {
    "collapsed": false,
    "pycharm": {
     "name": "#%%\n"
    }
   }
  },
  {
   "cell_type": "code",
   "execution_count": null,
   "outputs": [],
   "source": [
    "#Remove duplicates from the dataset\n",
    "combine = combine.drop_duplicates()\n",
    "\n",
    "len(combine)"
   ],
   "metadata": {
    "collapsed": false,
    "pycharm": {
     "name": "#%%\n"
    }
   }
  },
  {
   "cell_type": "code",
   "execution_count": null,
   "outputs": [],
   "source": [
    "# Removing redundant columns\n",
    "combine = combine.drop(['hashtags'],axis=1)\n",
    "combine = combine.drop(['geo'],axis=1)\n",
    "combine = combine.drop(['mentions'],axis=1)\n",
    "combine = combine.drop(['permalink'],axis=1)\n",
    "combine = combine.drop(['permalink,,,,,,,,'],axis=1)\n",
    "#combine = combine.drop(index=[7,8],axis=1)"
   ],
   "metadata": {
    "collapsed": false,
    "pycharm": {
     "name": "#%%\n"
    }
   }
  },
  {
   "cell_type": "code",
   "execution_count": null,
   "outputs": [],
   "source": [
    "combine.head(3)"
   ],
   "metadata": {
    "collapsed": false,
    "pycharm": {
     "name": "#%%\n"
    }
   }
  },
  {
   "cell_type": "code",
   "execution_count": null,
   "outputs": [],
   "source": [
    "#Data cleaning starts from here. Processing of text column\n",
    "\n",
    "\n",
    "\n",
    "\n"
   ],
   "metadata": {
    "collapsed": false,
    "pycharm": {
     "name": "#%%\n"
    }
   }
  }
 ],
 "metadata": {
  "kernelspec": {
   "display_name": "Python 3",
   "language": "python",
   "name": "python3"
  },
  "language_info": {
   "codemirror_mode": {
    "name": "ipython",
    "version": 2
   },
   "file_extension": ".py",
   "mimetype": "text/x-python",
   "name": "python",
   "nbconvert_exporter": "python",
   "pygments_lexer": "ipython2",
   "version": "2.7.6"
  },
  "pycharm": {
   "stem_cell": {
    "cell_type": "raw",
    "source": [],
    "metadata": {
     "collapsed": false
    }
   }
  }
 },
 "nbformat": 4,
 "nbformat_minor": 0
}