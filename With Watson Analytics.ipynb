{
 "cells": [
  {
   "cell_type": "code",
   "execution_count": 1,
   "metadata": {
    "pycharm": {
     "is_executing": false
    }
   },
   "outputs": [],
   "source": [
    "# Semantic analyis of Twitter data"
   ]
  },
  {
   "cell_type": "code",
   "execution_count": 2,
   "metadata": {
    "pycharm": {
     "is_executing": false,
     "name": "#%%\n"
    }
   },
   "outputs": [],
   "source": [
    "import pandas as pd\n",
    "import nltk\n",
    "import os\n",
    "from textblob import TextBlob\n",
    "import re"
   ]
  },
  {
   "cell_type": "code",
   "execution_count": 3,
   "metadata": {
    "pycharm": {
     "is_executing": false,
     "name": "#%%\n"
    }
   },
   "outputs": [
    {
     "name": "stderr",
     "output_type": "stream",
     "text": [
      "b'Skipping line 13: expected 10 fields, saw 11\\nSkipping line 365: expected 10 fields, saw 11\\nSkipping line 505: expected 10 fields, saw 11\\nSkipping line 1188: expected 10 fields, saw 11\\nSkipping line 1195: expected 10 fields, saw 11\\nSkipping line 1202: expected 10 fields, saw 11\\nSkipping line 1321: expected 10 fields, saw 11\\nSkipping line 1451: expected 10 fields, saw 11\\n'\n",
      "b'Skipping line 2209: expected 10 fields, saw 11\\nSkipping line 8854: expected 10 fields, saw 11\\n'\n"
     ]
    },
    {
     "data": {
      "text/plain": [
       "15108"
      ]
     },
     "execution_count": 3,
     "metadata": {},
     "output_type": "execute_result"
    }
   ],
   "source": [
    "#CSV file with extracted tweets for CWC19Final hash-tag before the event\n",
    "file_1 = pd.read_csv(\"D:\\\\LJMU\\\\Project Topics\\\\Data\\\\Cleansed Data\\\\output_got_beforematch.csv\",error_bad_lines=False,delimiter=\";\")\n",
    "#CSV file with extracted tweets for EngVsNZ hash-tag before the event\n",
    "file_2 = pd.read_csv(\"D:\\\\LJMU\\\\Project Topics\\\\Data\\\\Cleansed Data\\\\output_got_ENGvsNZ.csv\",error_bad_lines=False, delimiter =\";\", quotechar='\\\"')\n",
    "#CSV file with extracted tweets for NZVsENG hash-tag before the event\n",
    "file_3 = pd.read_csv(\"D:\\\\LJMU\\\\Project Topics\\\\Data\\\\Cleansed Data\\\\output_got_NZvsENG.csv\",error_bad_lines=False,delimiter=\";\")\n",
    "#CSV file with extracted tweets for CWC19 hash-tag before the event\n",
    "file_4 = pd.read_csv(\"D:\\\\LJMU\\\\Project Topics\\\\Data\\\\Cleansed Data\\\\CWC19.csv\",error_bad_lines=False,delimiter=\";\")\n",
    "\n",
    "\n",
    "\n",
    "#Combine the dataframes\n",
    "interim = file_1.append(file_2,sort = True)\n",
    "\n",
    "combine = interim.append(file_3,sort = True)\n",
    "\n",
    "combine = combine.append(file_4,sort = True)\n",
    "\n",
    "len(combine)\n"
   ]
  },
  {
   "cell_type": "code",
   "execution_count": 4,
   "metadata": {
    "pycharm": {
     "is_executing": false,
     "name": "#%%\n"
    }
   },
   "outputs": [
    {
     "data": {
      "text/html": [
       "<div>\n",
       "<style scoped>\n",
       "    .dataframe tbody tr th:only-of-type {\n",
       "        vertical-align: middle;\n",
       "    }\n",
       "\n",
       "    .dataframe tbody tr th {\n",
       "        vertical-align: top;\n",
       "    }\n",
       "\n",
       "    .dataframe thead th {\n",
       "        text-align: right;\n",
       "    }\n",
       "</style>\n",
       "<table border=\"1\" class=\"dataframe\">\n",
       "  <thead>\n",
       "    <tr style=\"text-align: right;\">\n",
       "      <th></th>\n",
       "      <th>date</th>\n",
       "      <th>favorites</th>\n",
       "      <th>geo</th>\n",
       "      <th>hashtags</th>\n",
       "      <th>id</th>\n",
       "      <th>mentions</th>\n",
       "      <th>permalink</th>\n",
       "      <th>permalink,,,,,,,,</th>\n",
       "      <th>retweets</th>\n",
       "      <th>text</th>\n",
       "      <th>username</th>\n",
       "    </tr>\n",
       "  </thead>\n",
       "  <tbody>\n",
       "    <tr>\n",
       "      <td>0</td>\n",
       "      <td>2019-07-14 05:29</td>\n",
       "      <td>5</td>\n",
       "      <td>NaN</td>\n",
       "      <td># # # #</td>\n",
       "      <td>1.150193e+18</td>\n",
       "      <td>@ @ @ @ @ @ @</td>\n",
       "      <td>https://twitter.com/msarimakhtar/status/115019...</td>\n",
       "      <td>NaN</td>\n",
       "      <td>0</td>\n",
       "      <td>Go England @ England @ englandcricket @ TheBar...</td>\n",
       "      <td>NaN</td>\n",
       "    </tr>\n",
       "    <tr>\n",
       "      <td>1</td>\n",
       "      <td>2019-07-14 05:29</td>\n",
       "      <td>0</td>\n",
       "      <td>NaN</td>\n",
       "      <td># # #</td>\n",
       "      <td>1.150193e+18</td>\n",
       "      <td>NaN</td>\n",
       "      <td>https://twitter.com/Mohit9255/status/115019311...</td>\n",
       "      <td>NaN</td>\n",
       "      <td>0</td>\n",
       "      <td># NZvENG # CWC19Final # CWC19pic.twitter.com/g...</td>\n",
       "      <td>NaN</td>\n",
       "    </tr>\n",
       "    <tr>\n",
       "      <td>2</td>\n",
       "      <td>2019-07-14 05:29</td>\n",
       "      <td>0</td>\n",
       "      <td>NaN</td>\n",
       "      <td>#</td>\n",
       "      <td>1.150193e+18</td>\n",
       "      <td>NaN</td>\n",
       "      <td>https://twitter.com/WooderzJames/status/115019...</td>\n",
       "      <td>NaN</td>\n",
       "      <td>0</td>\n",
       "      <td>Anyone else just ridiculously excited for the ...</td>\n",
       "      <td>NaN</td>\n",
       "    </tr>\n",
       "    <tr>\n",
       "      <td>3</td>\n",
       "      <td>2019-07-14 05:29</td>\n",
       "      <td>0</td>\n",
       "      <td>NaN</td>\n",
       "      <td># # #</td>\n",
       "      <td>1.150193e+18</td>\n",
       "      <td>NaN</td>\n",
       "      <td>https://twitter.com/merichai/status/1150192971...</td>\n",
       "      <td>NaN</td>\n",
       "      <td>0</td>\n",
       "      <td>Supporting Kiwis # NZvENG # CWC19 # CWC19Final</td>\n",
       "      <td>NaN</td>\n",
       "    </tr>\n",
       "    <tr>\n",
       "      <td>4</td>\n",
       "      <td>2019-07-14 05:27</td>\n",
       "      <td>0</td>\n",
       "      <td>NaN</td>\n",
       "      <td>#</td>\n",
       "      <td>1.150193e+18</td>\n",
       "      <td>@</td>\n",
       "      <td>https://twitter.com/KeyurJoshi_/status/1150192...</td>\n",
       "      <td>NaN</td>\n",
       "      <td>0</td>\n",
       "      <td># CWC19Final England and New Zealand final is ...</td>\n",
       "      <td>NaN</td>\n",
       "    </tr>\n",
       "    <tr>\n",
       "      <td>5</td>\n",
       "      <td>2019-07-14 05:26</td>\n",
       "      <td>5</td>\n",
       "      <td>NaN</td>\n",
       "      <td># #</td>\n",
       "      <td>1.150192e+18</td>\n",
       "      <td>@ @ @ @ @ @ @</td>\n",
       "      <td>https://twitter.com/msarimakhtar/status/115019...</td>\n",
       "      <td>NaN</td>\n",
       "      <td>1</td>\n",
       "      <td>Congratulations to the new queen of @ Wimbledo...</td>\n",
       "      <td>NaN</td>\n",
       "    </tr>\n",
       "    <tr>\n",
       "      <td>6</td>\n",
       "      <td>2019-07-14 05:26</td>\n",
       "      <td>2</td>\n",
       "      <td>NaN</td>\n",
       "      <td># #</td>\n",
       "      <td>1.150192e+18</td>\n",
       "      <td>NaN</td>\n",
       "      <td>https://twitter.com/IBT_Sports/status/11501921...</td>\n",
       "      <td>NaN</td>\n",
       "      <td>2</td>\n",
       "      <td>ICC 2019 World Cup final: 5 Biggest duels to w...</td>\n",
       "      <td>NaN</td>\n",
       "    </tr>\n",
       "    <tr>\n",
       "      <td>7</td>\n",
       "      <td>2019-07-14 05:25</td>\n",
       "      <td>0</td>\n",
       "      <td>NaN</td>\n",
       "      <td># # # # # # # # # # # # # # # # # # # # # #</td>\n",
       "      <td>1.150192e+18</td>\n",
       "      <td>NaN</td>\n",
       "      <td>https://twitter.com/MMustafa2027pti/status/115...</td>\n",
       "      <td>NaN</td>\n",
       "      <td>0</td>\n",
       "      <td>Who Will Win # ICC # Cricket # World # CUP 201...</td>\n",
       "      <td>NaN</td>\n",
       "    </tr>\n",
       "    <tr>\n",
       "      <td>8</td>\n",
       "      <td>2019-07-14 05:24</td>\n",
       "      <td>13</td>\n",
       "      <td>NaN</td>\n",
       "      <td># # #</td>\n",
       "      <td>1.150192e+18</td>\n",
       "      <td>@</td>\n",
       "      <td>https://twitter.com/JamieWall2/status/11501917...</td>\n",
       "      <td>NaN</td>\n",
       "      <td>0</td>\n",
       "      <td>Go get 'em, @ BLACKCAPS. # CWC19 # CWC19Final ...</td>\n",
       "      <td>NaN</td>\n",
       "    </tr>\n",
       "    <tr>\n",
       "      <td>9</td>\n",
       "      <td>2019-07-14 05:24</td>\n",
       "      <td>232</td>\n",
       "      <td>NaN</td>\n",
       "      <td>#</td>\n",
       "      <td>1.150192e+18</td>\n",
       "      <td>NaN</td>\n",
       "      <td>https://twitter.com/bhattimajid/status/1150191...</td>\n",
       "      <td>NaN</td>\n",
       "      <td>5</td>\n",
       "      <td># CWC19Final Nice click, Thank you so much Kam...</td>\n",
       "      <td>NaN</td>\n",
       "    </tr>\n",
       "  </tbody>\n",
       "</table>\n",
       "</div>"
      ],
      "text/plain": [
       "               date  favorites  geo  \\\n",
       "0  2019-07-14 05:29          5  NaN   \n",
       "1  2019-07-14 05:29          0  NaN   \n",
       "2  2019-07-14 05:29          0  NaN   \n",
       "3  2019-07-14 05:29          0  NaN   \n",
       "4  2019-07-14 05:27          0  NaN   \n",
       "5  2019-07-14 05:26          5  NaN   \n",
       "6  2019-07-14 05:26          2  NaN   \n",
       "7  2019-07-14 05:25          0  NaN   \n",
       "8  2019-07-14 05:24         13  NaN   \n",
       "9  2019-07-14 05:24        232  NaN   \n",
       "\n",
       "                                      hashtags            id       mentions  \\\n",
       "0                                      # # # #  1.150193e+18  @ @ @ @ @ @ @   \n",
       "1                                        # # #  1.150193e+18            NaN   \n",
       "2                                            #  1.150193e+18            NaN   \n",
       "3                                        # # #  1.150193e+18            NaN   \n",
       "4                                            #  1.150193e+18              @   \n",
       "5                                          # #  1.150192e+18  @ @ @ @ @ @ @   \n",
       "6                                          # #  1.150192e+18            NaN   \n",
       "7  # # # # # # # # # # # # # # # # # # # # # #  1.150192e+18            NaN   \n",
       "8                                        # # #  1.150192e+18              @   \n",
       "9                                            #  1.150192e+18            NaN   \n",
       "\n",
       "                                           permalink permalink,,,,,,,,  \\\n",
       "0  https://twitter.com/msarimakhtar/status/115019...               NaN   \n",
       "1  https://twitter.com/Mohit9255/status/115019311...               NaN   \n",
       "2  https://twitter.com/WooderzJames/status/115019...               NaN   \n",
       "3  https://twitter.com/merichai/status/1150192971...               NaN   \n",
       "4  https://twitter.com/KeyurJoshi_/status/1150192...               NaN   \n",
       "5  https://twitter.com/msarimakhtar/status/115019...               NaN   \n",
       "6  https://twitter.com/IBT_Sports/status/11501921...               NaN   \n",
       "7  https://twitter.com/MMustafa2027pti/status/115...               NaN   \n",
       "8  https://twitter.com/JamieWall2/status/11501917...               NaN   \n",
       "9  https://twitter.com/bhattimajid/status/1150191...               NaN   \n",
       "\n",
       "   retweets                                               text  username  \n",
       "0         0  Go England @ England @ englandcricket @ TheBar...       NaN  \n",
       "1         0  # NZvENG # CWC19Final # CWC19pic.twitter.com/g...       NaN  \n",
       "2         0  Anyone else just ridiculously excited for the ...       NaN  \n",
       "3         0     Supporting Kiwis # NZvENG # CWC19 # CWC19Final       NaN  \n",
       "4         0  # CWC19Final England and New Zealand final is ...       NaN  \n",
       "5         1  Congratulations to the new queen of @ Wimbledo...       NaN  \n",
       "6         2  ICC 2019 World Cup final: 5 Biggest duels to w...       NaN  \n",
       "7         0  Who Will Win # ICC # Cricket # World # CUP 201...       NaN  \n",
       "8         0  Go get 'em, @ BLACKCAPS. # CWC19 # CWC19Final ...       NaN  \n",
       "9         5  # CWC19Final Nice click, Thank you so much Kam...       NaN  "
      ]
     },
     "execution_count": 4,
     "metadata": {},
     "output_type": "execute_result"
    }
   ],
   "source": [
    "combine.head(10)\n"
   ]
  },
  {
   "cell_type": "code",
   "execution_count": 5,
   "metadata": {
    "pycharm": {
     "is_executing": false,
     "name": "#%%\n"
    }
   },
   "outputs": [
    {
     "data": {
      "text/plain": [
       "14106"
      ]
     },
     "execution_count": 5,
     "metadata": {},
     "output_type": "execute_result"
    }
   ],
   "source": [
    "#Remove duplicates from the dataset\n",
    "combine = combine.drop_duplicates()\n",
    "\n",
    "len(combine)"
   ]
  },
  {
   "cell_type": "code",
   "execution_count": 6,
   "metadata": {
    "pycharm": {
     "is_executing": false,
     "name": "#%%\n"
    }
   },
   "outputs": [],
   "source": [
    "# Removing redundant columns\n",
    "combine = combine.drop(['hashtags'],axis=1)\n",
    "combine = combine.drop(['geo'],axis=1)\n",
    "combine = combine.drop(['mentions'],axis=1)\n",
    "combine = combine.drop(['permalink'],axis=1)\n",
    "combine = combine.drop(['permalink,,,,,,,,'],axis=1)\n",
    "combine = combine.drop(['username'],axis=1)\n",
    "\n",
    "#combine = combine.drop(index=[7,8],axis=1)"
   ]
  },
  {
   "cell_type": "code",
   "execution_count": 7,
   "metadata": {
    "pycharm": {
     "is_executing": false,
     "name": "#%%\n"
    }
   },
   "outputs": [
    {
     "data": {
      "text/html": [
       "<div>\n",
       "<style scoped>\n",
       "    .dataframe tbody tr th:only-of-type {\n",
       "        vertical-align: middle;\n",
       "    }\n",
       "\n",
       "    .dataframe tbody tr th {\n",
       "        vertical-align: top;\n",
       "    }\n",
       "\n",
       "    .dataframe thead th {\n",
       "        text-align: right;\n",
       "    }\n",
       "</style>\n",
       "<table border=\"1\" class=\"dataframe\">\n",
       "  <thead>\n",
       "    <tr style=\"text-align: right;\">\n",
       "      <th></th>\n",
       "      <th>date</th>\n",
       "      <th>favorites</th>\n",
       "      <th>id</th>\n",
       "      <th>retweets</th>\n",
       "      <th>text</th>\n",
       "    </tr>\n",
       "  </thead>\n",
       "  <tbody>\n",
       "    <tr>\n",
       "      <td>0</td>\n",
       "      <td>2019-07-14 05:29</td>\n",
       "      <td>5</td>\n",
       "      <td>1.150193e+18</td>\n",
       "      <td>0</td>\n",
       "      <td>Go England @ England @ englandcricket @ TheBar...</td>\n",
       "    </tr>\n",
       "    <tr>\n",
       "      <td>1</td>\n",
       "      <td>2019-07-14 05:29</td>\n",
       "      <td>0</td>\n",
       "      <td>1.150193e+18</td>\n",
       "      <td>0</td>\n",
       "      <td># NZvENG # CWC19Final # CWC19pic.twitter.com/g...</td>\n",
       "    </tr>\n",
       "    <tr>\n",
       "      <td>2</td>\n",
       "      <td>2019-07-14 05:29</td>\n",
       "      <td>0</td>\n",
       "      <td>1.150193e+18</td>\n",
       "      <td>0</td>\n",
       "      <td>Anyone else just ridiculously excited for the ...</td>\n",
       "    </tr>\n",
       "    <tr>\n",
       "      <td>3</td>\n",
       "      <td>2019-07-14 05:29</td>\n",
       "      <td>0</td>\n",
       "      <td>1.150193e+18</td>\n",
       "      <td>0</td>\n",
       "      <td>Supporting Kiwis # NZvENG # CWC19 # CWC19Final</td>\n",
       "    </tr>\n",
       "    <tr>\n",
       "      <td>4</td>\n",
       "      <td>2019-07-14 05:27</td>\n",
       "      <td>0</td>\n",
       "      <td>1.150193e+18</td>\n",
       "      <td>0</td>\n",
       "      <td># CWC19Final England and New Zealand final is ...</td>\n",
       "    </tr>\n",
       "  </tbody>\n",
       "</table>\n",
       "</div>"
      ],
      "text/plain": [
       "               date  favorites            id  retweets  \\\n",
       "0  2019-07-14 05:29          5  1.150193e+18         0   \n",
       "1  2019-07-14 05:29          0  1.150193e+18         0   \n",
       "2  2019-07-14 05:29          0  1.150193e+18         0   \n",
       "3  2019-07-14 05:29          0  1.150193e+18         0   \n",
       "4  2019-07-14 05:27          0  1.150193e+18         0   \n",
       "\n",
       "                                                text  \n",
       "0  Go England @ England @ englandcricket @ TheBar...  \n",
       "1  # NZvENG # CWC19Final # CWC19pic.twitter.com/g...  \n",
       "2  Anyone else just ridiculously excited for the ...  \n",
       "3     Supporting Kiwis # NZvENG # CWC19 # CWC19Final  \n",
       "4  # CWC19Final England and New Zealand final is ...  "
      ]
     },
     "execution_count": 7,
     "metadata": {},
     "output_type": "execute_result"
    }
   ],
   "source": [
    "combine.head(5)"
   ]
  },
  {
   "cell_type": "code",
   "execution_count": 8,
   "metadata": {
    "pycharm": {
     "is_executing": false
    }
   },
   "outputs": [
    {
     "data": {
      "text/html": [
       "<div>\n",
       "<style scoped>\n",
       "    .dataframe tbody tr th:only-of-type {\n",
       "        vertical-align: middle;\n",
       "    }\n",
       "\n",
       "    .dataframe tbody tr th {\n",
       "        vertical-align: top;\n",
       "    }\n",
       "\n",
       "    .dataframe thead th {\n",
       "        text-align: right;\n",
       "    }\n",
       "</style>\n",
       "<table border=\"1\" class=\"dataframe\">\n",
       "  <thead>\n",
       "    <tr style=\"text-align: right;\">\n",
       "      <th></th>\n",
       "      <th>date</th>\n",
       "      <th>favorites</th>\n",
       "      <th>id</th>\n",
       "      <th>retweets</th>\n",
       "      <th>text</th>\n",
       "    </tr>\n",
       "  </thead>\n",
       "  <tbody>\n",
       "    <tr>\n",
       "      <td>0</td>\n",
       "      <td>2019-07-14 05:29</td>\n",
       "      <td>5</td>\n",
       "      <td>1.150193e+18</td>\n",
       "      <td>0</td>\n",
       "      <td>Go England @ England @ englandcricket @ TheBar...</td>\n",
       "    </tr>\n",
       "    <tr>\n",
       "      <td>1</td>\n",
       "      <td>2019-07-14 05:29</td>\n",
       "      <td>0</td>\n",
       "      <td>1.150193e+18</td>\n",
       "      <td>0</td>\n",
       "      <td># NZvENG # CWC19Final # CWC19pic.twitter.com/g...</td>\n",
       "    </tr>\n",
       "    <tr>\n",
       "      <td>2</td>\n",
       "      <td>2019-07-14 05:29</td>\n",
       "      <td>0</td>\n",
       "      <td>1.150193e+18</td>\n",
       "      <td>0</td>\n",
       "      <td>Anyone else just ridiculously excited for the ...</td>\n",
       "    </tr>\n",
       "    <tr>\n",
       "      <td>3</td>\n",
       "      <td>2019-07-14 05:29</td>\n",
       "      <td>0</td>\n",
       "      <td>1.150193e+18</td>\n",
       "      <td>0</td>\n",
       "      <td>Supporting Kiwis # NZvENG # CWC19 # CWC19Final</td>\n",
       "    </tr>\n",
       "    <tr>\n",
       "      <td>4</td>\n",
       "      <td>2019-07-14 05:27</td>\n",
       "      <td>0</td>\n",
       "      <td>1.150193e+18</td>\n",
       "      <td>0</td>\n",
       "      <td># CWC19Final England and New Zealand final is ...</td>\n",
       "    </tr>\n",
       "  </tbody>\n",
       "</table>\n",
       "</div>"
      ],
      "text/plain": [
       "               date  favorites            id  retweets  \\\n",
       "0  2019-07-14 05:29          5  1.150193e+18         0   \n",
       "1  2019-07-14 05:29          0  1.150193e+18         0   \n",
       "2  2019-07-14 05:29          0  1.150193e+18         0   \n",
       "3  2019-07-14 05:29          0  1.150193e+18         0   \n",
       "4  2019-07-14 05:27          0  1.150193e+18         0   \n",
       "\n",
       "                                                text  \n",
       "0  Go England @ England @ englandcricket @ TheBar...  \n",
       "1  # NZvENG # CWC19Final # CWC19pic.twitter.com/g...  \n",
       "2  Anyone else just ridiculously excited for the ...  \n",
       "3     Supporting Kiwis # NZvENG # CWC19 # CWC19Final  \n",
       "4  # CWC19Final England and New Zealand final is ...  "
      ]
     },
     "execution_count": 8,
     "metadata": {},
     "output_type": "execute_result"
    }
   ],
   "source": [
    "combine.head(5)"
   ]
  },
  {
   "cell_type": "code",
   "execution_count": 9,
   "metadata": {
    "pycharm": {
     "is_executing": false,
     "name": "#%%\n"
    }
   },
   "outputs": [],
   "source": [
    "#Data cleaning starts from here. Processing of text column\n",
    "\n",
    "#combine['Processed Text'] = re.sub('https\\:\\/\\/[\\w\\d.]','',combine['text'])\n",
    "\n",
    "combine['Processed'] = combine.apply(lambda row: re.sub('http?\\S+',\"\",row.text), axis=1)\n",
    "combine['Processed'] = combine.apply(lambda row: re.sub('https\\S+',\"\",row.Processed), axis=1)\n",
    "\n",
    "# Remove pic.twitter.com\n",
    "combine['Processed'] = combine.apply(lambda row: re.sub('pic.twitter.com\\\\S+',\"\",row.Processed), axis=1)"
   ]
  },
  {
   "cell_type": "code",
   "execution_count": 10,
   "metadata": {
    "pycharm": {
     "is_executing": false
    }
   },
   "outputs": [
    {
     "data": {
      "text/html": [
       "<div>\n",
       "<style scoped>\n",
       "    .dataframe tbody tr th:only-of-type {\n",
       "        vertical-align: middle;\n",
       "    }\n",
       "\n",
       "    .dataframe tbody tr th {\n",
       "        vertical-align: top;\n",
       "    }\n",
       "\n",
       "    .dataframe thead th {\n",
       "        text-align: right;\n",
       "    }\n",
       "</style>\n",
       "<table border=\"1\" class=\"dataframe\">\n",
       "  <thead>\n",
       "    <tr style=\"text-align: right;\">\n",
       "      <th></th>\n",
       "      <th>date</th>\n",
       "      <th>favorites</th>\n",
       "      <th>id</th>\n",
       "      <th>retweets</th>\n",
       "      <th>text</th>\n",
       "      <th>Processed</th>\n",
       "    </tr>\n",
       "  </thead>\n",
       "  <tbody>\n",
       "    <tr>\n",
       "      <td>0</td>\n",
       "      <td>2019-07-14 05:29</td>\n",
       "      <td>5</td>\n",
       "      <td>1.150193e+18</td>\n",
       "      <td>0</td>\n",
       "      <td>Go England @ England @ englandcricket @ TheBar...</td>\n",
       "      <td>Go England @ England @ englandcricket @ TheBar...</td>\n",
       "    </tr>\n",
       "    <tr>\n",
       "      <td>1</td>\n",
       "      <td>2019-07-14 05:29</td>\n",
       "      <td>0</td>\n",
       "      <td>1.150193e+18</td>\n",
       "      <td>0</td>\n",
       "      <td># NZvENG # CWC19Final # CWC19pic.twitter.com/g...</td>\n",
       "      <td># NZvENG # CWC19Final # CWC19</td>\n",
       "    </tr>\n",
       "    <tr>\n",
       "      <td>2</td>\n",
       "      <td>2019-07-14 05:29</td>\n",
       "      <td>0</td>\n",
       "      <td>1.150193e+18</td>\n",
       "      <td>0</td>\n",
       "      <td>Anyone else just ridiculously excited for the ...</td>\n",
       "      <td>Anyone else just ridiculously excited for the ...</td>\n",
       "    </tr>\n",
       "    <tr>\n",
       "      <td>3</td>\n",
       "      <td>2019-07-14 05:29</td>\n",
       "      <td>0</td>\n",
       "      <td>1.150193e+18</td>\n",
       "      <td>0</td>\n",
       "      <td>Supporting Kiwis # NZvENG # CWC19 # CWC19Final</td>\n",
       "      <td>Supporting Kiwis # NZvENG # CWC19 # CWC19Final</td>\n",
       "    </tr>\n",
       "    <tr>\n",
       "      <td>4</td>\n",
       "      <td>2019-07-14 05:27</td>\n",
       "      <td>0</td>\n",
       "      <td>1.150193e+18</td>\n",
       "      <td>0</td>\n",
       "      <td># CWC19Final England and New Zealand final is ...</td>\n",
       "      <td># CWC19Final England and New Zealand final is ...</td>\n",
       "    </tr>\n",
       "  </tbody>\n",
       "</table>\n",
       "</div>"
      ],
      "text/plain": [
       "               date  favorites            id  retweets  \\\n",
       "0  2019-07-14 05:29          5  1.150193e+18         0   \n",
       "1  2019-07-14 05:29          0  1.150193e+18         0   \n",
       "2  2019-07-14 05:29          0  1.150193e+18         0   \n",
       "3  2019-07-14 05:29          0  1.150193e+18         0   \n",
       "4  2019-07-14 05:27          0  1.150193e+18         0   \n",
       "\n",
       "                                                text  \\\n",
       "0  Go England @ England @ englandcricket @ TheBar...   \n",
       "1  # NZvENG # CWC19Final # CWC19pic.twitter.com/g...   \n",
       "2  Anyone else just ridiculously excited for the ...   \n",
       "3     Supporting Kiwis # NZvENG # CWC19 # CWC19Final   \n",
       "4  # CWC19Final England and New Zealand final is ...   \n",
       "\n",
       "                                           Processed  \n",
       "0  Go England @ England @ englandcricket @ TheBar...  \n",
       "1                      # NZvENG # CWC19Final # CWC19  \n",
       "2  Anyone else just ridiculously excited for the ...  \n",
       "3     Supporting Kiwis # NZvENG # CWC19 # CWC19Final  \n",
       "4  # CWC19Final England and New Zealand final is ...  "
      ]
     },
     "execution_count": 10,
     "metadata": {},
     "output_type": "execute_result"
    }
   ],
   "source": [
    "combine.head(5)"
   ]
  },
  {
   "cell_type": "code",
   "execution_count": 11,
   "metadata": {
    "pycharm": {
     "is_executing": false
    }
   },
   "outputs": [],
   "source": [
    "# Remove twitter handles\n",
    "combine['Processed'] = combine.apply(lambda row: re.sub('\\@ \\w+',\"\",row.Processed), axis=1)\n",
    "\n",
    "# Remove HashTags from the text field.\n",
    "combine['Processed'] = combine.apply(lambda row: re.sub('\\# \\w+',\"\",row.Processed), axis=1)\n"
   ]
  },
  {
   "cell_type": "code",
   "execution_count": 12,
   "metadata": {
    "pycharm": {
     "is_executing": false,
     "name": "#%%\n"
    }
   },
   "outputs": [
    {
     "data": {
      "text/html": [
       "<div>\n",
       "<style scoped>\n",
       "    .dataframe tbody tr th:only-of-type {\n",
       "        vertical-align: middle;\n",
       "    }\n",
       "\n",
       "    .dataframe tbody tr th {\n",
       "        vertical-align: top;\n",
       "    }\n",
       "\n",
       "    .dataframe thead th {\n",
       "        text-align: right;\n",
       "    }\n",
       "</style>\n",
       "<table border=\"1\" class=\"dataframe\">\n",
       "  <thead>\n",
       "    <tr style=\"text-align: right;\">\n",
       "      <th></th>\n",
       "      <th>date</th>\n",
       "      <th>favorites</th>\n",
       "      <th>id</th>\n",
       "      <th>retweets</th>\n",
       "      <th>text</th>\n",
       "      <th>Processed</th>\n",
       "    </tr>\n",
       "  </thead>\n",
       "  <tbody>\n",
       "    <tr>\n",
       "      <td>0</td>\n",
       "      <td>2019-07-14 05:29</td>\n",
       "      <td>5</td>\n",
       "      <td>1.150193e+18</td>\n",
       "      <td>0</td>\n",
       "      <td>Go England @ England @ englandcricket @ TheBar...</td>\n",
       "      <td>Go England            …</td>\n",
       "    </tr>\n",
       "    <tr>\n",
       "      <td>1</td>\n",
       "      <td>2019-07-14 05:29</td>\n",
       "      <td>0</td>\n",
       "      <td>1.150193e+18</td>\n",
       "      <td>0</td>\n",
       "      <td># NZvENG # CWC19Final # CWC19pic.twitter.com/g...</td>\n",
       "      <td></td>\n",
       "    </tr>\n",
       "    <tr>\n",
       "      <td>2</td>\n",
       "      <td>2019-07-14 05:29</td>\n",
       "      <td>0</td>\n",
       "      <td>1.150193e+18</td>\n",
       "      <td>0</td>\n",
       "      <td>Anyone else just ridiculously excited for the ...</td>\n",
       "      <td>Anyone else just ridiculously excited for the ...</td>\n",
       "    </tr>\n",
       "    <tr>\n",
       "      <td>3</td>\n",
       "      <td>2019-07-14 05:29</td>\n",
       "      <td>0</td>\n",
       "      <td>1.150193e+18</td>\n",
       "      <td>0</td>\n",
       "      <td>Supporting Kiwis # NZvENG # CWC19 # CWC19Final</td>\n",
       "      <td>Supporting Kiwis</td>\n",
       "    </tr>\n",
       "    <tr>\n",
       "      <td>4</td>\n",
       "      <td>2019-07-14 05:27</td>\n",
       "      <td>0</td>\n",
       "      <td>1.150193e+18</td>\n",
       "      <td>0</td>\n",
       "      <td># CWC19Final England and New Zealand final is ...</td>\n",
       "      <td>England and New Zealand final is the best out...</td>\n",
       "    </tr>\n",
       "  </tbody>\n",
       "</table>\n",
       "</div>"
      ],
      "text/plain": [
       "               date  favorites            id  retweets  \\\n",
       "0  2019-07-14 05:29          5  1.150193e+18         0   \n",
       "1  2019-07-14 05:29          0  1.150193e+18         0   \n",
       "2  2019-07-14 05:29          0  1.150193e+18         0   \n",
       "3  2019-07-14 05:29          0  1.150193e+18         0   \n",
       "4  2019-07-14 05:27          0  1.150193e+18         0   \n",
       "\n",
       "                                                text  \\\n",
       "0  Go England @ England @ englandcricket @ TheBar...   \n",
       "1  # NZvENG # CWC19Final # CWC19pic.twitter.com/g...   \n",
       "2  Anyone else just ridiculously excited for the ...   \n",
       "3     Supporting Kiwis # NZvENG # CWC19 # CWC19Final   \n",
       "4  # CWC19Final England and New Zealand final is ...   \n",
       "\n",
       "                                           Processed  \n",
       "0                            Go England            …  \n",
       "1                                                     \n",
       "2  Anyone else just ridiculously excited for the ...  \n",
       "3                                Supporting Kiwis     \n",
       "4   England and New Zealand final is the best out...  "
      ]
     },
     "execution_count": 12,
     "metadata": {},
     "output_type": "execute_result"
    }
   ],
   "source": [
    "combine.head(5)\n"
   ]
  },
  {
   "cell_type": "code",
   "execution_count": 13,
   "metadata": {
    "pycharm": {
     "is_executing": false
    }
   },
   "outputs": [],
   "source": [
    "# Tagging the dataset with team names and the player names which are appearing in the list first\n",
    "\n",
    "NZ_tags = ['new zealand','nz','blackcaps','black caps','Martin' ,'Guptill', 'Henry','Nicholls', 'Kane','Williamson', 'Ross','Taylor', 'Tom','Latham', 'James','Neesham', 'Colin de','Grandhomme', 'Mitchell','Santner', 'Matt Henry', 'Trent','Boult']\n",
    "\n",
    "ENG_tags = ['england','english','Jason','Roy','Jonny','Bairstow','Joe','Root','Eoin','Morgan','Ben','Stokes','Jos','Buttler','Chris','Woakes','Liam','Plunkett','Jofra','Archer','Adil','Rashid','Mark','Wood','eng']   "
   ]
  },
  {
   "cell_type": "code",
   "execution_count": 14,
   "metadata": {
    "pycharm": {
     "is_executing": false
    }
   },
   "outputs": [],
   "source": [
    "# Create a function to tag the data\n",
    "\n",
    "def create_tag(text, pos_eng = 999, pos_nz = 999):\n",
    "    for x in NZ_tags:\n",
    "        if re.search(x,text,re.IGNORECASE):\n",
    "            pos_nz = re.search(x,text,re.IGNORECASE).start()\n",
    "            break\n",
    "      \n",
    "    for x in ENG_tags:\n",
    "        if re.search(x,text,re.IGNORECASE):\n",
    "            pos_eng = re.search(x,text,re.IGNORECASE).start()\n",
    "            break\n",
    "            \n",
    "    if pos_nz < pos_eng:\n",
    "        return \"NZ\"\n",
    "    elif pos_eng < pos_nz:\n",
    "        return \"ENG\"\n",
    "    else:\n",
    "        return \"Neutral\"\n",
    "    "
   ]
  },
  {
   "cell_type": "code",
   "execution_count": 15,
   "metadata": {
    "pycharm": {
     "is_executing": true
    },
    "scrolled": true
   },
   "outputs": [],
   "source": [
    "combine['TeamTag'] = [create_tag(x) for x in combine['text']]"
   ]
  },
  {
   "cell_type": "code",
   "execution_count": 16,
   "metadata": {
    "pycharm": {
     "is_executing": true
    },
    "scrolled": true
   },
   "outputs": [
    {
     "data": {
      "text/html": [
       "<div>\n",
       "<style scoped>\n",
       "    .dataframe tbody tr th:only-of-type {\n",
       "        vertical-align: middle;\n",
       "    }\n",
       "\n",
       "    .dataframe tbody tr th {\n",
       "        vertical-align: top;\n",
       "    }\n",
       "\n",
       "    .dataframe thead th {\n",
       "        text-align: right;\n",
       "    }\n",
       "</style>\n",
       "<table border=\"1\" class=\"dataframe\">\n",
       "  <thead>\n",
       "    <tr style=\"text-align: right;\">\n",
       "      <th></th>\n",
       "      <th>Processed</th>\n",
       "      <th>date</th>\n",
       "      <th>favorites</th>\n",
       "      <th>id</th>\n",
       "      <th>retweets</th>\n",
       "      <th>text</th>\n",
       "    </tr>\n",
       "    <tr>\n",
       "      <th>TeamTag</th>\n",
       "      <th></th>\n",
       "      <th></th>\n",
       "      <th></th>\n",
       "      <th></th>\n",
       "      <th></th>\n",
       "      <th></th>\n",
       "    </tr>\n",
       "  </thead>\n",
       "  <tbody>\n",
       "    <tr>\n",
       "      <td>ENG</td>\n",
       "      <td>6254</td>\n",
       "      <td>6254</td>\n",
       "      <td>6254</td>\n",
       "      <td>6253</td>\n",
       "      <td>6254</td>\n",
       "      <td>6254</td>\n",
       "    </tr>\n",
       "    <tr>\n",
       "      <td>NZ</td>\n",
       "      <td>3705</td>\n",
       "      <td>3705</td>\n",
       "      <td>3705</td>\n",
       "      <td>3705</td>\n",
       "      <td>3705</td>\n",
       "      <td>3705</td>\n",
       "    </tr>\n",
       "    <tr>\n",
       "      <td>Neutral</td>\n",
       "      <td>4147</td>\n",
       "      <td>4147</td>\n",
       "      <td>4147</td>\n",
       "      <td>4147</td>\n",
       "      <td>4147</td>\n",
       "      <td>4147</td>\n",
       "    </tr>\n",
       "  </tbody>\n",
       "</table>\n",
       "</div>"
      ],
      "text/plain": [
       "         Processed  date  favorites    id  retweets  text\n",
       "TeamTag                                                  \n",
       "ENG           6254  6254       6254  6253      6254  6254\n",
       "NZ            3705  3705       3705  3705      3705  3705\n",
       "Neutral       4147  4147       4147  4147      4147  4147"
      ]
     },
     "execution_count": 16,
     "metadata": {},
     "output_type": "execute_result"
    }
   ],
   "source": [
    "# Get the summary of the tags created.\n",
    "\n",
    "summary = pd.pivot_table(combine, index = 'TeamTag',aggfunc ='count')\n",
    "summary"
   ]
  },
  {
   "cell_type": "code",
   "execution_count": 17,
   "metadata": {
    "pycharm": {
     "is_executing": true
    }
   },
   "outputs": [
    {
     "data": {
      "text/html": [
       "<div>\n",
       "<style scoped>\n",
       "    .dataframe tbody tr th:only-of-type {\n",
       "        vertical-align: middle;\n",
       "    }\n",
       "\n",
       "    .dataframe tbody tr th {\n",
       "        vertical-align: top;\n",
       "    }\n",
       "\n",
       "    .dataframe thead th {\n",
       "        text-align: right;\n",
       "    }\n",
       "</style>\n",
       "<table border=\"1\" class=\"dataframe\">\n",
       "  <thead>\n",
       "    <tr style=\"text-align: right;\">\n",
       "      <th></th>\n",
       "      <th>date</th>\n",
       "      <th>favorites</th>\n",
       "      <th>id</th>\n",
       "      <th>retweets</th>\n",
       "      <th>text</th>\n",
       "      <th>Processed</th>\n",
       "      <th>TeamTag</th>\n",
       "    </tr>\n",
       "  </thead>\n",
       "  <tbody>\n",
       "    <tr>\n",
       "      <td>0</td>\n",
       "      <td>2019-07-14 05:29</td>\n",
       "      <td>5</td>\n",
       "      <td>1.150193e+18</td>\n",
       "      <td>0</td>\n",
       "      <td>Go England @ England @ englandcricket @ TheBar...</td>\n",
       "      <td>Go England            …</td>\n",
       "      <td>ENG</td>\n",
       "    </tr>\n",
       "    <tr>\n",
       "      <td>1</td>\n",
       "      <td>2019-07-14 05:29</td>\n",
       "      <td>0</td>\n",
       "      <td>1.150193e+18</td>\n",
       "      <td>0</td>\n",
       "      <td># NZvENG # CWC19Final # CWC19pic.twitter.com/g...</td>\n",
       "      <td></td>\n",
       "      <td>NZ</td>\n",
       "    </tr>\n",
       "    <tr>\n",
       "      <td>2</td>\n",
       "      <td>2019-07-14 05:29</td>\n",
       "      <td>0</td>\n",
       "      <td>1.150193e+18</td>\n",
       "      <td>0</td>\n",
       "      <td>Anyone else just ridiculously excited for the ...</td>\n",
       "      <td>Anyone else just ridiculously excited for the ...</td>\n",
       "      <td>NZ</td>\n",
       "    </tr>\n",
       "    <tr>\n",
       "      <td>3</td>\n",
       "      <td>2019-07-14 05:29</td>\n",
       "      <td>0</td>\n",
       "      <td>1.150193e+18</td>\n",
       "      <td>0</td>\n",
       "      <td>Supporting Kiwis # NZvENG # CWC19 # CWC19Final</td>\n",
       "      <td>Supporting Kiwis</td>\n",
       "      <td>NZ</td>\n",
       "    </tr>\n",
       "    <tr>\n",
       "      <td>4</td>\n",
       "      <td>2019-07-14 05:27</td>\n",
       "      <td>0</td>\n",
       "      <td>1.150193e+18</td>\n",
       "      <td>0</td>\n",
       "      <td># CWC19Final England and New Zealand final is ...</td>\n",
       "      <td>England and New Zealand final is the best out...</td>\n",
       "      <td>ENG</td>\n",
       "    </tr>\n",
       "  </tbody>\n",
       "</table>\n",
       "</div>"
      ],
      "text/plain": [
       "               date  favorites            id  retweets  \\\n",
       "0  2019-07-14 05:29          5  1.150193e+18         0   \n",
       "1  2019-07-14 05:29          0  1.150193e+18         0   \n",
       "2  2019-07-14 05:29          0  1.150193e+18         0   \n",
       "3  2019-07-14 05:29          0  1.150193e+18         0   \n",
       "4  2019-07-14 05:27          0  1.150193e+18         0   \n",
       "\n",
       "                                                text  \\\n",
       "0  Go England @ England @ englandcricket @ TheBar...   \n",
       "1  # NZvENG # CWC19Final # CWC19pic.twitter.com/g...   \n",
       "2  Anyone else just ridiculously excited for the ...   \n",
       "3     Supporting Kiwis # NZvENG # CWC19 # CWC19Final   \n",
       "4  # CWC19Final England and New Zealand final is ...   \n",
       "\n",
       "                                           Processed TeamTag  \n",
       "0                            Go England            …     ENG  \n",
       "1                                                         NZ  \n",
       "2  Anyone else just ridiculously excited for the ...      NZ  \n",
       "3                                Supporting Kiwis         NZ  \n",
       "4   England and New Zealand final is the best out...     ENG  "
      ]
     },
     "execution_count": 17,
     "metadata": {},
     "output_type": "execute_result"
    }
   ],
   "source": [
    "combine.head(5)"
   ]
  },
  {
   "cell_type": "code",
   "execution_count": 18,
   "metadata": {
    "pycharm": {
     "is_executing": true
    }
   },
   "outputs": [
    {
     "data": {
      "text/html": [
       "<div>\n",
       "<style scoped>\n",
       "    .dataframe tbody tr th:only-of-type {\n",
       "        vertical-align: middle;\n",
       "    }\n",
       "\n",
       "    .dataframe tbody tr th {\n",
       "        vertical-align: top;\n",
       "    }\n",
       "\n",
       "    .dataframe thead th {\n",
       "        text-align: right;\n",
       "    }\n",
       "</style>\n",
       "<table border=\"1\" class=\"dataframe\">\n",
       "  <thead>\n",
       "    <tr style=\"text-align: right;\">\n",
       "      <th></th>\n",
       "      <th>date</th>\n",
       "      <th>favorites</th>\n",
       "      <th>id</th>\n",
       "      <th>retweets</th>\n",
       "      <th>text</th>\n",
       "      <th>Processed</th>\n",
       "      <th>TeamTag</th>\n",
       "    </tr>\n",
       "  </thead>\n",
       "  <tbody>\n",
       "    <tr>\n",
       "      <td>0</td>\n",
       "      <td>2019-07-14 05:29</td>\n",
       "      <td>5</td>\n",
       "      <td>1.150193e+18</td>\n",
       "      <td>0</td>\n",
       "      <td>Go England @ England @ englandcricket @ TheBar...</td>\n",
       "      <td>Go England            …</td>\n",
       "      <td>ENG</td>\n",
       "    </tr>\n",
       "    <tr>\n",
       "      <td>1</td>\n",
       "      <td>2019-07-14 05:29</td>\n",
       "      <td>0</td>\n",
       "      <td>1.150193e+18</td>\n",
       "      <td>0</td>\n",
       "      <td># NZvENG # CWC19Final # CWC19pic.twitter.com/g...</td>\n",
       "      <td></td>\n",
       "      <td>NZ</td>\n",
       "    </tr>\n",
       "    <tr>\n",
       "      <td>2</td>\n",
       "      <td>2019-07-14 05:29</td>\n",
       "      <td>0</td>\n",
       "      <td>1.150193e+18</td>\n",
       "      <td>0</td>\n",
       "      <td>Anyone else just ridiculously excited for the ...</td>\n",
       "      <td>Anyone else just ridiculously excited for the ...</td>\n",
       "      <td>NZ</td>\n",
       "    </tr>\n",
       "    <tr>\n",
       "      <td>3</td>\n",
       "      <td>2019-07-14 05:29</td>\n",
       "      <td>0</td>\n",
       "      <td>1.150193e+18</td>\n",
       "      <td>0</td>\n",
       "      <td>Supporting Kiwis # NZvENG # CWC19 # CWC19Final</td>\n",
       "      <td>Supporting Kiwis</td>\n",
       "      <td>NZ</td>\n",
       "    </tr>\n",
       "    <tr>\n",
       "      <td>4</td>\n",
       "      <td>2019-07-14 05:27</td>\n",
       "      <td>0</td>\n",
       "      <td>1.150193e+18</td>\n",
       "      <td>0</td>\n",
       "      <td># CWC19Final England and New Zealand final is ...</td>\n",
       "      <td>England and New Zealand final is the best out...</td>\n",
       "      <td>ENG</td>\n",
       "    </tr>\n",
       "  </tbody>\n",
       "</table>\n",
       "</div>"
      ],
      "text/plain": [
       "               date  favorites            id  retweets  \\\n",
       "0  2019-07-14 05:29          5  1.150193e+18         0   \n",
       "1  2019-07-14 05:29          0  1.150193e+18         0   \n",
       "2  2019-07-14 05:29          0  1.150193e+18         0   \n",
       "3  2019-07-14 05:29          0  1.150193e+18         0   \n",
       "4  2019-07-14 05:27          0  1.150193e+18         0   \n",
       "\n",
       "                                                text  \\\n",
       "0  Go England @ England @ englandcricket @ TheBar...   \n",
       "1  # NZvENG # CWC19Final # CWC19pic.twitter.com/g...   \n",
       "2  Anyone else just ridiculously excited for the ...   \n",
       "3     Supporting Kiwis # NZvENG # CWC19 # CWC19Final   \n",
       "4  # CWC19Final England and New Zealand final is ...   \n",
       "\n",
       "                                           Processed TeamTag  \n",
       "0                            Go England            …     ENG  \n",
       "1                                                         NZ  \n",
       "2  Anyone else just ridiculously excited for the ...      NZ  \n",
       "3                                Supporting Kiwis         NZ  \n",
       "4   England and New Zealand final is the best out...     ENG  "
      ]
     },
     "execution_count": 18,
     "metadata": {},
     "output_type": "execute_result"
    }
   ],
   "source": [
    "# Remove the Neutral tweets from the outcome\n",
    "\n",
    "\n",
    "final = combine[combine['TeamTag']!='Neutral']\n",
    "final.head(5)"
   ]
  },
  {
   "cell_type": "code",
   "execution_count": 19,
   "metadata": {
    "pycharm": {
     "is_executing": true
    }
   },
   "outputs": [
    {
     "data": {
      "text/plain": [
       "9959"
      ]
     },
     "execution_count": 19,
     "metadata": {},
     "output_type": "execute_result"
    }
   ],
   "source": [
    "len(final)"
   ]
  },
  {
   "cell_type": "code",
   "execution_count": 20,
   "metadata": {},
   "outputs": [
    {
     "name": "stderr",
     "output_type": "stream",
     "text": [
      "c:\\users\\amitb\\pycharmprojects\\cricwintweet\\venv\\lib\\site-packages\\pandas\\core\\indexing.py:376: SettingWithCopyWarning: \n",
      "A value is trying to be set on a copy of a slice from a DataFrame.\n",
      "Try using .loc[row_indexer,col_indexer] = value instead\n",
      "\n",
      "See the caveats in the documentation: http://pandas.pydata.org/pandas-docs/stable/user_guide/indexing.html#returning-a-view-versus-a-copy\n",
      "  self.obj[key] = _infer_fill_value(value)\n",
      "c:\\users\\amitb\\pycharmprojects\\cricwintweet\\venv\\lib\\site-packages\\pandas\\core\\indexing.py:494: SettingWithCopyWarning: \n",
      "A value is trying to be set on a copy of a slice from a DataFrame.\n",
      "Try using .loc[row_indexer,col_indexer] = value instead\n",
      "\n",
      "See the caveats in the documentation: http://pandas.pydata.org/pandas-docs/stable/user_guide/indexing.html#returning-a-view-versus-a-copy\n",
      "  self.obj[item] = s\n"
     ]
    },
    {
     "data": {
      "text/plain": [
       "9956"
      ]
     },
     "execution_count": 20,
     "metadata": {},
     "output_type": "execute_result"
    }
   ],
   "source": [
    "# Removing columns where length of the processed text is 0\n",
    "\n",
    "final.loc[:,'length'] = [len(x) for x in final['Processed']]\n",
    "final = final.query('length!=0')\n",
    "\n",
    "len(final)"
   ]
  },
  {
   "cell_type": "code",
   "execution_count": 21,
   "metadata": {},
   "outputs": [],
   "source": [
    "final.loc[:,'Processed_Vader'] = [x for x in final['Processed']]"
   ]
  },
  {
   "cell_type": "code",
   "execution_count": 22,
   "metadata": {
    "pycharm": {
     "is_executing": true
    }
   },
   "outputs": [],
   "source": [
    "# Remove special characters excluding spaces\n",
    "\n",
    "def clear_special_char(str):\n",
    "    return re.sub('[^A-Za-z0-9 ]+',\"\",str)"
   ]
  },
  {
   "cell_type": "code",
   "execution_count": 23,
   "metadata": {
    "pycharm": {
     "is_executing": true
    }
   },
   "outputs": [],
   "source": [
    "# Clearing out the special characters for Text Blob function. We need the special characters for Vader sentiment analyser.\n",
    "final.loc[:,'Processed'] = [clear_special_char(x) for x in final['Processed']]"
   ]
  },
  {
   "cell_type": "code",
   "execution_count": 24,
   "metadata": {
    "pycharm": {
     "is_executing": true
    }
   },
   "outputs": [
    {
     "data": {
      "text/plain": [
       "0                                   Go England            \n",
       "1                                                         \n",
       "2        Anyone else just ridiculously excited for the ...\n",
       "3                                      Supporting Kiwis   \n",
       "4         England and New Zealand final is the best out...\n",
       "                               ...                        \n",
       "10192              Next Question at 630 PM Stay tuned     \n",
       "10193                   Australia and India fans today    \n",
       "10194    If you want to see the finest sprint and jostl...\n",
       "10195    I tweeted this on 21st May when  were flying f...\n",
       "10197     World Cup 2019 Martin Guptill admits New Zeal...\n",
       "Name: Processed, Length: 9956, dtype: object"
      ]
     },
     "execution_count": 24,
     "metadata": {},
     "output_type": "execute_result"
    }
   ],
   "source": [
    "final['Processed']"
   ]
  },
  {
   "cell_type": "code",
   "execution_count": 25,
   "metadata": {
    "pycharm": {
     "is_executing": true
    }
   },
   "outputs": [],
   "source": [
    "#final['Score_text'] = [TextBlob(x).polarity for x in final['Processed']]\n",
    "\n",
    "final.loc[:,'Score_text'] = [TextBlob(x).polarity for x in final['Processed']]"
   ]
  },
  {
   "cell_type": "code",
   "execution_count": 26,
   "metadata": {
    "pycharm": {
     "is_executing": true
    }
   },
   "outputs": [
    {
     "data": {
      "text/html": [
       "<div>\n",
       "<style scoped>\n",
       "    .dataframe tbody tr th:only-of-type {\n",
       "        vertical-align: middle;\n",
       "    }\n",
       "\n",
       "    .dataframe tbody tr th {\n",
       "        vertical-align: top;\n",
       "    }\n",
       "\n",
       "    .dataframe thead th {\n",
       "        text-align: right;\n",
       "    }\n",
       "</style>\n",
       "<table border=\"1\" class=\"dataframe\">\n",
       "  <thead>\n",
       "    <tr style=\"text-align: right;\">\n",
       "      <th></th>\n",
       "      <th>date</th>\n",
       "      <th>favorites</th>\n",
       "      <th>id</th>\n",
       "      <th>retweets</th>\n",
       "      <th>text</th>\n",
       "      <th>Processed</th>\n",
       "      <th>TeamTag</th>\n",
       "      <th>length</th>\n",
       "      <th>Processed_Vader</th>\n",
       "      <th>Score_text</th>\n",
       "    </tr>\n",
       "  </thead>\n",
       "  <tbody>\n",
       "    <tr>\n",
       "      <td>0</td>\n",
       "      <td>2019-07-14 05:29</td>\n",
       "      <td>5</td>\n",
       "      <td>1.150193e+18</td>\n",
       "      <td>0</td>\n",
       "      <td>Go England @ England @ englandcricket @ TheBar...</td>\n",
       "      <td>Go England</td>\n",
       "      <td>ENG</td>\n",
       "      <td>23</td>\n",
       "      <td>Go England            …</td>\n",
       "      <td>0.000000</td>\n",
       "    </tr>\n",
       "    <tr>\n",
       "      <td>1</td>\n",
       "      <td>2019-07-14 05:29</td>\n",
       "      <td>0</td>\n",
       "      <td>1.150193e+18</td>\n",
       "      <td>0</td>\n",
       "      <td># NZvENG # CWC19Final # CWC19pic.twitter.com/g...</td>\n",
       "      <td></td>\n",
       "      <td>NZ</td>\n",
       "      <td>2</td>\n",
       "      <td></td>\n",
       "      <td>0.000000</td>\n",
       "    </tr>\n",
       "    <tr>\n",
       "      <td>2</td>\n",
       "      <td>2019-07-14 05:29</td>\n",
       "      <td>0</td>\n",
       "      <td>1.150193e+18</td>\n",
       "      <td>0</td>\n",
       "      <td>Anyone else just ridiculously excited for the ...</td>\n",
       "      <td>Anyone else just ridiculously excited for the ...</td>\n",
       "      <td>NZ</td>\n",
       "      <td>72</td>\n",
       "      <td>Anyone else just ridiculously excited for the ...</td>\n",
       "      <td>0.187500</td>\n",
       "    </tr>\n",
       "    <tr>\n",
       "      <td>3</td>\n",
       "      <td>2019-07-14 05:29</td>\n",
       "      <td>0</td>\n",
       "      <td>1.150193e+18</td>\n",
       "      <td>0</td>\n",
       "      <td>Supporting Kiwis # NZvENG # CWC19 # CWC19Final</td>\n",
       "      <td>Supporting Kiwis</td>\n",
       "      <td>NZ</td>\n",
       "      <td>19</td>\n",
       "      <td>Supporting Kiwis</td>\n",
       "      <td>0.250000</td>\n",
       "    </tr>\n",
       "    <tr>\n",
       "      <td>4</td>\n",
       "      <td>2019-07-14 05:27</td>\n",
       "      <td>0</td>\n",
       "      <td>1.150193e+18</td>\n",
       "      <td>0</td>\n",
       "      <td># CWC19Final England and New Zealand final is ...</td>\n",
       "      <td>England and New Zealand final is the best out...</td>\n",
       "      <td>ENG</td>\n",
       "      <td>245</td>\n",
       "      <td>England and New Zealand final is the best out...</td>\n",
       "      <td>0.394545</td>\n",
       "    </tr>\n",
       "  </tbody>\n",
       "</table>\n",
       "</div>"
      ],
      "text/plain": [
       "               date  favorites            id  retweets  \\\n",
       "0  2019-07-14 05:29          5  1.150193e+18         0   \n",
       "1  2019-07-14 05:29          0  1.150193e+18         0   \n",
       "2  2019-07-14 05:29          0  1.150193e+18         0   \n",
       "3  2019-07-14 05:29          0  1.150193e+18         0   \n",
       "4  2019-07-14 05:27          0  1.150193e+18         0   \n",
       "\n",
       "                                                text  \\\n",
       "0  Go England @ England @ englandcricket @ TheBar...   \n",
       "1  # NZvENG # CWC19Final # CWC19pic.twitter.com/g...   \n",
       "2  Anyone else just ridiculously excited for the ...   \n",
       "3     Supporting Kiwis # NZvENG # CWC19 # CWC19Final   \n",
       "4  # CWC19Final England and New Zealand final is ...   \n",
       "\n",
       "                                           Processed TeamTag  length  \\\n",
       "0                             Go England                 ENG      23   \n",
       "1                                                         NZ       2   \n",
       "2  Anyone else just ridiculously excited for the ...      NZ      72   \n",
       "3                                Supporting Kiwis         NZ      19   \n",
       "4   England and New Zealand final is the best out...     ENG     245   \n",
       "\n",
       "                                     Processed_Vader  Score_text  \n",
       "0                            Go England            …    0.000000  \n",
       "1                                                       0.000000  \n",
       "2  Anyone else just ridiculously excited for the ...    0.187500  \n",
       "3                                Supporting Kiwis       0.250000  \n",
       "4   England and New Zealand final is the best out...    0.394545  "
      ]
     },
     "execution_count": 26,
     "metadata": {},
     "output_type": "execute_result"
    }
   ],
   "source": [
    "final.head(5)"
   ]
  },
  {
   "cell_type": "code",
   "execution_count": 27,
   "metadata": {
    "pycharm": {
     "is_executing": true
    }
   },
   "outputs": [],
   "source": [
    "from vaderSentiment.vaderSentiment import SentimentIntensityAnalyzer\n",
    "analyser = SentimentIntensityAnalyzer()"
   ]
  },
  {
   "cell_type": "code",
   "execution_count": 28,
   "metadata": {
    "pycharm": {
     "is_executing": true
    }
   },
   "outputs": [],
   "source": [
    "# Function to return the compound score of Vader sentiment analyser\n",
    "def sentiment_analyzer_scores(sentence):\n",
    "    score = analyser.polarity_scores(sentence)['compound']\n",
    "    return score"
   ]
  },
  {
   "cell_type": "code",
   "execution_count": 29,
   "metadata": {
    "pycharm": {
     "is_executing": true
    }
   },
   "outputs": [],
   "source": [
    "#final['Score_text_vader'] = [sentiment_analyzer_scores(x) for x in final['Processed']]\n",
    "\n",
    "final.loc[:,'Score_text_vader'] = [sentiment_analyzer_scores(x) for x in final['Processed_Vader']]"
   ]
  },
  {
   "cell_type": "code",
   "execution_count": 30,
   "metadata": {
    "pycharm": {
     "is_executing": true
    }
   },
   "outputs": [
    {
     "data": {
      "text/html": [
       "<div>\n",
       "<style scoped>\n",
       "    .dataframe tbody tr th:only-of-type {\n",
       "        vertical-align: middle;\n",
       "    }\n",
       "\n",
       "    .dataframe tbody tr th {\n",
       "        vertical-align: top;\n",
       "    }\n",
       "\n",
       "    .dataframe thead th {\n",
       "        text-align: right;\n",
       "    }\n",
       "</style>\n",
       "<table border=\"1\" class=\"dataframe\">\n",
       "  <thead>\n",
       "    <tr style=\"text-align: right;\">\n",
       "      <th></th>\n",
       "      <th>date</th>\n",
       "      <th>favorites</th>\n",
       "      <th>id</th>\n",
       "      <th>retweets</th>\n",
       "      <th>text</th>\n",
       "      <th>Processed</th>\n",
       "      <th>TeamTag</th>\n",
       "      <th>length</th>\n",
       "      <th>Processed_Vader</th>\n",
       "      <th>Score_text</th>\n",
       "      <th>Score_text_vader</th>\n",
       "    </tr>\n",
       "  </thead>\n",
       "  <tbody>\n",
       "    <tr>\n",
       "      <td>0</td>\n",
       "      <td>2019-07-14 05:29</td>\n",
       "      <td>5</td>\n",
       "      <td>1.150193e+18</td>\n",
       "      <td>0</td>\n",
       "      <td>Go England @ England @ englandcricket @ TheBar...</td>\n",
       "      <td>Go England</td>\n",
       "      <td>ENG</td>\n",
       "      <td>23</td>\n",
       "      <td>Go England            …</td>\n",
       "      <td>0.000000</td>\n",
       "      <td>0.0000</td>\n",
       "    </tr>\n",
       "    <tr>\n",
       "      <td>1</td>\n",
       "      <td>2019-07-14 05:29</td>\n",
       "      <td>0</td>\n",
       "      <td>1.150193e+18</td>\n",
       "      <td>0</td>\n",
       "      <td># NZvENG # CWC19Final # CWC19pic.twitter.com/g...</td>\n",
       "      <td></td>\n",
       "      <td>NZ</td>\n",
       "      <td>2</td>\n",
       "      <td></td>\n",
       "      <td>0.000000</td>\n",
       "      <td>0.0000</td>\n",
       "    </tr>\n",
       "    <tr>\n",
       "      <td>2</td>\n",
       "      <td>2019-07-14 05:29</td>\n",
       "      <td>0</td>\n",
       "      <td>1.150193e+18</td>\n",
       "      <td>0</td>\n",
       "      <td>Anyone else just ridiculously excited for the ...</td>\n",
       "      <td>Anyone else just ridiculously excited for the ...</td>\n",
       "      <td>NZ</td>\n",
       "      <td>72</td>\n",
       "      <td>Anyone else just ridiculously excited for the ...</td>\n",
       "      <td>0.187500</td>\n",
       "      <td>0.0000</td>\n",
       "    </tr>\n",
       "    <tr>\n",
       "      <td>3</td>\n",
       "      <td>2019-07-14 05:29</td>\n",
       "      <td>0</td>\n",
       "      <td>1.150193e+18</td>\n",
       "      <td>0</td>\n",
       "      <td>Supporting Kiwis # NZvENG # CWC19 # CWC19Final</td>\n",
       "      <td>Supporting Kiwis</td>\n",
       "      <td>NZ</td>\n",
       "      <td>19</td>\n",
       "      <td>Supporting Kiwis</td>\n",
       "      <td>0.250000</td>\n",
       "      <td>0.4404</td>\n",
       "    </tr>\n",
       "    <tr>\n",
       "      <td>4</td>\n",
       "      <td>2019-07-14 05:27</td>\n",
       "      <td>0</td>\n",
       "      <td>1.150193e+18</td>\n",
       "      <td>0</td>\n",
       "      <td># CWC19Final England and New Zealand final is ...</td>\n",
       "      <td>England and New Zealand final is the best out...</td>\n",
       "      <td>ENG</td>\n",
       "      <td>245</td>\n",
       "      <td>England and New Zealand final is the best out...</td>\n",
       "      <td>0.394545</td>\n",
       "      <td>0.8883</td>\n",
       "    </tr>\n",
       "  </tbody>\n",
       "</table>\n",
       "</div>"
      ],
      "text/plain": [
       "               date  favorites            id  retweets  \\\n",
       "0  2019-07-14 05:29          5  1.150193e+18         0   \n",
       "1  2019-07-14 05:29          0  1.150193e+18         0   \n",
       "2  2019-07-14 05:29          0  1.150193e+18         0   \n",
       "3  2019-07-14 05:29          0  1.150193e+18         0   \n",
       "4  2019-07-14 05:27          0  1.150193e+18         0   \n",
       "\n",
       "                                                text  \\\n",
       "0  Go England @ England @ englandcricket @ TheBar...   \n",
       "1  # NZvENG # CWC19Final # CWC19pic.twitter.com/g...   \n",
       "2  Anyone else just ridiculously excited for the ...   \n",
       "3     Supporting Kiwis # NZvENG # CWC19 # CWC19Final   \n",
       "4  # CWC19Final England and New Zealand final is ...   \n",
       "\n",
       "                                           Processed TeamTag  length  \\\n",
       "0                             Go England                 ENG      23   \n",
       "1                                                         NZ       2   \n",
       "2  Anyone else just ridiculously excited for the ...      NZ      72   \n",
       "3                                Supporting Kiwis         NZ      19   \n",
       "4   England and New Zealand final is the best out...     ENG     245   \n",
       "\n",
       "                                     Processed_Vader  Score_text  \\\n",
       "0                            Go England            …    0.000000   \n",
       "1                                                       0.000000   \n",
       "2  Anyone else just ridiculously excited for the ...    0.187500   \n",
       "3                                Supporting Kiwis       0.250000   \n",
       "4   England and New Zealand final is the best out...    0.394545   \n",
       "\n",
       "   Score_text_vader  \n",
       "0            0.0000  \n",
       "1            0.0000  \n",
       "2            0.0000  \n",
       "3            0.4404  \n",
       "4            0.8883  "
      ]
     },
     "execution_count": 30,
     "metadata": {},
     "output_type": "execute_result"
    }
   ],
   "source": [
    "final.head(5)"
   ]
  },
  {
   "cell_type": "code",
   "execution_count": 31,
   "metadata": {
    "pycharm": {
     "is_executing": true
    }
   },
   "outputs": [],
   "source": [
    "def sign_pos_neg(val):\n",
    "    out = ''\n",
    "    if val < 0:\n",
    "        out = 'Negative'\n",
    "    elif val > 0:\n",
    "       out = 'Positive'\n",
    "    else:\n",
    "        out = 'Neutral'\n",
    "    return(out)\n"
   ]
  },
  {
   "cell_type": "code",
   "execution_count": 32,
   "metadata": {
    "pycharm": {
     "is_executing": true
    }
   },
   "outputs": [],
   "source": [
    "final['Sign_text'] = [sign_pos_neg(x) for x in final['Score_text']]"
   ]
  },
  {
   "cell_type": "code",
   "execution_count": 33,
   "metadata": {
    "pycharm": {
     "is_executing": true
    }
   },
   "outputs": [],
   "source": [
    "final['Sign_vader'] = [sign_pos_neg(x) for x in final['Score_text_vader']]"
   ]
  },
  {
   "cell_type": "code",
   "execution_count": 34,
   "metadata": {
    "pycharm": {
     "is_executing": true
    }
   },
   "outputs": [
    {
     "data": {
      "text/html": [
       "<div>\n",
       "<style scoped>\n",
       "    .dataframe tbody tr th:only-of-type {\n",
       "        vertical-align: middle;\n",
       "    }\n",
       "\n",
       "    .dataframe tbody tr th {\n",
       "        vertical-align: top;\n",
       "    }\n",
       "\n",
       "    .dataframe thead th {\n",
       "        text-align: right;\n",
       "    }\n",
       "</style>\n",
       "<table border=\"1\" class=\"dataframe\">\n",
       "  <thead>\n",
       "    <tr style=\"text-align: right;\">\n",
       "      <th></th>\n",
       "      <th>date</th>\n",
       "      <th>favorites</th>\n",
       "      <th>id</th>\n",
       "      <th>retweets</th>\n",
       "      <th>text</th>\n",
       "      <th>Processed</th>\n",
       "      <th>TeamTag</th>\n",
       "      <th>length</th>\n",
       "      <th>Processed_Vader</th>\n",
       "      <th>Score_text</th>\n",
       "      <th>Score_text_vader</th>\n",
       "      <th>Sign_text</th>\n",
       "      <th>Sign_vader</th>\n",
       "    </tr>\n",
       "  </thead>\n",
       "  <tbody>\n",
       "    <tr>\n",
       "      <td>0</td>\n",
       "      <td>2019-07-14 05:29</td>\n",
       "      <td>5</td>\n",
       "      <td>1.150193e+18</td>\n",
       "      <td>0</td>\n",
       "      <td>Go England @ England @ englandcricket @ TheBar...</td>\n",
       "      <td>Go England</td>\n",
       "      <td>ENG</td>\n",
       "      <td>23</td>\n",
       "      <td>Go England            …</td>\n",
       "      <td>0.000000</td>\n",
       "      <td>0.0000</td>\n",
       "      <td>Neutral</td>\n",
       "      <td>Neutral</td>\n",
       "    </tr>\n",
       "    <tr>\n",
       "      <td>1</td>\n",
       "      <td>2019-07-14 05:29</td>\n",
       "      <td>0</td>\n",
       "      <td>1.150193e+18</td>\n",
       "      <td>0</td>\n",
       "      <td># NZvENG # CWC19Final # CWC19pic.twitter.com/g...</td>\n",
       "      <td></td>\n",
       "      <td>NZ</td>\n",
       "      <td>2</td>\n",
       "      <td></td>\n",
       "      <td>0.000000</td>\n",
       "      <td>0.0000</td>\n",
       "      <td>Neutral</td>\n",
       "      <td>Neutral</td>\n",
       "    </tr>\n",
       "    <tr>\n",
       "      <td>2</td>\n",
       "      <td>2019-07-14 05:29</td>\n",
       "      <td>0</td>\n",
       "      <td>1.150193e+18</td>\n",
       "      <td>0</td>\n",
       "      <td>Anyone else just ridiculously excited for the ...</td>\n",
       "      <td>Anyone else just ridiculously excited for the ...</td>\n",
       "      <td>NZ</td>\n",
       "      <td>72</td>\n",
       "      <td>Anyone else just ridiculously excited for the ...</td>\n",
       "      <td>0.187500</td>\n",
       "      <td>0.0000</td>\n",
       "      <td>Positive</td>\n",
       "      <td>Neutral</td>\n",
       "    </tr>\n",
       "    <tr>\n",
       "      <td>3</td>\n",
       "      <td>2019-07-14 05:29</td>\n",
       "      <td>0</td>\n",
       "      <td>1.150193e+18</td>\n",
       "      <td>0</td>\n",
       "      <td>Supporting Kiwis # NZvENG # CWC19 # CWC19Final</td>\n",
       "      <td>Supporting Kiwis</td>\n",
       "      <td>NZ</td>\n",
       "      <td>19</td>\n",
       "      <td>Supporting Kiwis</td>\n",
       "      <td>0.250000</td>\n",
       "      <td>0.4404</td>\n",
       "      <td>Positive</td>\n",
       "      <td>Positive</td>\n",
       "    </tr>\n",
       "    <tr>\n",
       "      <td>4</td>\n",
       "      <td>2019-07-14 05:27</td>\n",
       "      <td>0</td>\n",
       "      <td>1.150193e+18</td>\n",
       "      <td>0</td>\n",
       "      <td># CWC19Final England and New Zealand final is ...</td>\n",
       "      <td>England and New Zealand final is the best out...</td>\n",
       "      <td>ENG</td>\n",
       "      <td>245</td>\n",
       "      <td>England and New Zealand final is the best out...</td>\n",
       "      <td>0.394545</td>\n",
       "      <td>0.8883</td>\n",
       "      <td>Positive</td>\n",
       "      <td>Positive</td>\n",
       "    </tr>\n",
       "  </tbody>\n",
       "</table>\n",
       "</div>"
      ],
      "text/plain": [
       "               date  favorites            id  retweets  \\\n",
       "0  2019-07-14 05:29          5  1.150193e+18         0   \n",
       "1  2019-07-14 05:29          0  1.150193e+18         0   \n",
       "2  2019-07-14 05:29          0  1.150193e+18         0   \n",
       "3  2019-07-14 05:29          0  1.150193e+18         0   \n",
       "4  2019-07-14 05:27          0  1.150193e+18         0   \n",
       "\n",
       "                                                text  \\\n",
       "0  Go England @ England @ englandcricket @ TheBar...   \n",
       "1  # NZvENG # CWC19Final # CWC19pic.twitter.com/g...   \n",
       "2  Anyone else just ridiculously excited for the ...   \n",
       "3     Supporting Kiwis # NZvENG # CWC19 # CWC19Final   \n",
       "4  # CWC19Final England and New Zealand final is ...   \n",
       "\n",
       "                                           Processed TeamTag  length  \\\n",
       "0                             Go England                 ENG      23   \n",
       "1                                                         NZ       2   \n",
       "2  Anyone else just ridiculously excited for the ...      NZ      72   \n",
       "3                                Supporting Kiwis         NZ      19   \n",
       "4   England and New Zealand final is the best out...     ENG     245   \n",
       "\n",
       "                                     Processed_Vader  Score_text  \\\n",
       "0                            Go England            …    0.000000   \n",
       "1                                                       0.000000   \n",
       "2  Anyone else just ridiculously excited for the ...    0.187500   \n",
       "3                                Supporting Kiwis       0.250000   \n",
       "4   England and New Zealand final is the best out...    0.394545   \n",
       "\n",
       "   Score_text_vader Sign_text Sign_vader  \n",
       "0            0.0000   Neutral    Neutral  \n",
       "1            0.0000   Neutral    Neutral  \n",
       "2            0.0000  Positive    Neutral  \n",
       "3            0.4404  Positive   Positive  \n",
       "4            0.8883  Positive   Positive  "
      ]
     },
     "execution_count": 34,
     "metadata": {},
     "output_type": "execute_result"
    }
   ],
   "source": [
    "final.head(5)"
   ]
  },
  {
   "cell_type": "code",
   "execution_count": 35,
   "metadata": {
    "pycharm": {
     "is_executing": true
    }
   },
   "outputs": [],
   "source": [
    "final.to_csv('Final_Values.csv')"
   ]
  },
  {
   "cell_type": "code",
   "execution_count": 36,
   "metadata": {
    "pycharm": {
     "is_executing": true
    }
   },
   "outputs": [
    {
     "data": {
      "text/html": [
       "<div>\n",
       "<style scoped>\n",
       "    .dataframe tbody tr th:only-of-type {\n",
       "        vertical-align: middle;\n",
       "    }\n",
       "\n",
       "    .dataframe tbody tr th {\n",
       "        vertical-align: top;\n",
       "    }\n",
       "\n",
       "    .dataframe thead th {\n",
       "        text-align: right;\n",
       "    }\n",
       "</style>\n",
       "<table border=\"1\" class=\"dataframe\">\n",
       "  <thead>\n",
       "    <tr style=\"text-align: right;\">\n",
       "      <th>Sign_text</th>\n",
       "      <th>Negative</th>\n",
       "      <th>Neutral</th>\n",
       "      <th>Positive</th>\n",
       "    </tr>\n",
       "    <tr>\n",
       "      <th>TeamTag</th>\n",
       "      <th></th>\n",
       "      <th></th>\n",
       "      <th></th>\n",
       "    </tr>\n",
       "  </thead>\n",
       "  <tbody>\n",
       "    <tr>\n",
       "      <td>ENG</td>\n",
       "      <td>-0.198267</td>\n",
       "      <td>0.0</td>\n",
       "      <td>0.384306</td>\n",
       "    </tr>\n",
       "    <tr>\n",
       "      <td>NZ</td>\n",
       "      <td>-0.189031</td>\n",
       "      <td>0.0</td>\n",
       "      <td>0.330329</td>\n",
       "    </tr>\n",
       "  </tbody>\n",
       "</table>\n",
       "</div>"
      ],
      "text/plain": [
       "Sign_text  Negative  Neutral  Positive\n",
       "TeamTag                               \n",
       "ENG       -0.198267      0.0  0.384306\n",
       "NZ        -0.189031      0.0  0.330329"
      ]
     },
     "execution_count": 36,
     "metadata": {},
     "output_type": "execute_result"
    }
   ],
   "source": [
    "summary_textBlob = pd.pivot_table(final, index = 'TeamTag', columns= 'Sign_text', values = 'Score_text',aggfunc ='mean')\n",
    "\n",
    "summary_textBlob\n"
   ]
  },
  {
   "cell_type": "code",
   "execution_count": 37,
   "metadata": {},
   "outputs": [
    {
     "data": {
      "text/html": [
       "<div>\n",
       "<style scoped>\n",
       "    .dataframe tbody tr th:only-of-type {\n",
       "        vertical-align: middle;\n",
       "    }\n",
       "\n",
       "    .dataframe tbody tr th {\n",
       "        vertical-align: top;\n",
       "    }\n",
       "\n",
       "    .dataframe thead th {\n",
       "        text-align: right;\n",
       "    }\n",
       "</style>\n",
       "<table border=\"1\" class=\"dataframe\">\n",
       "  <thead>\n",
       "    <tr style=\"text-align: right;\">\n",
       "      <th>Sign_text</th>\n",
       "      <th>Negative</th>\n",
       "      <th>Neutral</th>\n",
       "      <th>Positive</th>\n",
       "    </tr>\n",
       "    <tr>\n",
       "      <th>TeamTag</th>\n",
       "      <th></th>\n",
       "      <th></th>\n",
       "      <th></th>\n",
       "    </tr>\n",
       "  </thead>\n",
       "  <tbody>\n",
       "    <tr>\n",
       "      <td>ENG</td>\n",
       "      <td>442</td>\n",
       "      <td>2653</td>\n",
       "      <td>3156</td>\n",
       "    </tr>\n",
       "    <tr>\n",
       "      <td>NZ</td>\n",
       "      <td>289</td>\n",
       "      <td>1282</td>\n",
       "      <td>2134</td>\n",
       "    </tr>\n",
       "  </tbody>\n",
       "</table>\n",
       "</div>"
      ],
      "text/plain": [
       "Sign_text  Negative  Neutral  Positive\n",
       "TeamTag                               \n",
       "ENG             442     2653      3156\n",
       "NZ              289     1282      2134"
      ]
     },
     "execution_count": 37,
     "metadata": {},
     "output_type": "execute_result"
    }
   ],
   "source": [
    "summary_textBlob_count = pd.pivot_table(final, index = 'TeamTag', columns= 'Sign_text', values = 'Score_text',aggfunc ='count')\n",
    "\n",
    "summary_textBlob_count\n"
   ]
  },
  {
   "cell_type": "code",
   "execution_count": 38,
   "metadata": {
    "pycharm": {
     "is_executing": true
    }
   },
   "outputs": [
    {
     "data": {
      "text/html": [
       "<div>\n",
       "<style scoped>\n",
       "    .dataframe tbody tr th:only-of-type {\n",
       "        vertical-align: middle;\n",
       "    }\n",
       "\n",
       "    .dataframe tbody tr th {\n",
       "        vertical-align: top;\n",
       "    }\n",
       "\n",
       "    .dataframe thead th {\n",
       "        text-align: right;\n",
       "    }\n",
       "</style>\n",
       "<table border=\"1\" class=\"dataframe\">\n",
       "  <thead>\n",
       "    <tr style=\"text-align: right;\">\n",
       "      <th>Sign_vader</th>\n",
       "      <th>Negative</th>\n",
       "      <th>Neutral</th>\n",
       "      <th>Positive</th>\n",
       "    </tr>\n",
       "    <tr>\n",
       "      <th>TeamTag</th>\n",
       "      <th></th>\n",
       "      <th></th>\n",
       "      <th></th>\n",
       "    </tr>\n",
       "  </thead>\n",
       "  <tbody>\n",
       "    <tr>\n",
       "      <td>ENG</td>\n",
       "      <td>-0.422944</td>\n",
       "      <td>0.0</td>\n",
       "      <td>0.589159</td>\n",
       "    </tr>\n",
       "    <tr>\n",
       "      <td>NZ</td>\n",
       "      <td>-0.423866</td>\n",
       "      <td>0.0</td>\n",
       "      <td>0.606951</td>\n",
       "    </tr>\n",
       "  </tbody>\n",
       "</table>\n",
       "</div>"
      ],
      "text/plain": [
       "Sign_vader  Negative  Neutral  Positive\n",
       "TeamTag                                \n",
       "ENG        -0.422944      0.0  0.589159\n",
       "NZ         -0.423866      0.0  0.606951"
      ]
     },
     "execution_count": 38,
     "metadata": {},
     "output_type": "execute_result"
    }
   ],
   "source": [
    "summary_vader = pd.pivot_table(final, index = 'TeamTag', columns= 'Sign_vader', values = 'Score_text_vader',aggfunc ='mean')\n",
    "\n",
    "summary_vader\n"
   ]
  },
  {
   "cell_type": "code",
   "execution_count": 39,
   "metadata": {},
   "outputs": [
    {
     "data": {
      "text/html": [
       "<div>\n",
       "<style scoped>\n",
       "    .dataframe tbody tr th:only-of-type {\n",
       "        vertical-align: middle;\n",
       "    }\n",
       "\n",
       "    .dataframe tbody tr th {\n",
       "        vertical-align: top;\n",
       "    }\n",
       "\n",
       "    .dataframe thead th {\n",
       "        text-align: right;\n",
       "    }\n",
       "</style>\n",
       "<table border=\"1\" class=\"dataframe\">\n",
       "  <thead>\n",
       "    <tr style=\"text-align: right;\">\n",
       "      <th>Sign_vader</th>\n",
       "      <th>Negative</th>\n",
       "      <th>Neutral</th>\n",
       "      <th>Positive</th>\n",
       "    </tr>\n",
       "    <tr>\n",
       "      <th>TeamTag</th>\n",
       "      <th></th>\n",
       "      <th></th>\n",
       "      <th></th>\n",
       "    </tr>\n",
       "  </thead>\n",
       "  <tbody>\n",
       "    <tr>\n",
       "      <td>ENG</td>\n",
       "      <td>581</td>\n",
       "      <td>2242</td>\n",
       "      <td>3428</td>\n",
       "    </tr>\n",
       "    <tr>\n",
       "      <td>NZ</td>\n",
       "      <td>344</td>\n",
       "      <td>1356</td>\n",
       "      <td>2005</td>\n",
       "    </tr>\n",
       "  </tbody>\n",
       "</table>\n",
       "</div>"
      ],
      "text/plain": [
       "Sign_vader  Negative  Neutral  Positive\n",
       "TeamTag                                \n",
       "ENG              581     2242      3428\n",
       "NZ               344     1356      2005"
      ]
     },
     "execution_count": 39,
     "metadata": {},
     "output_type": "execute_result"
    }
   ],
   "source": [
    "summary_vader_count = pd.pivot_table(final, index = 'TeamTag', columns= 'Sign_vader', values = 'Score_text_vader',aggfunc ='count')\n",
    "\n",
    "summary_vader_count\n"
   ]
  },
  {
   "cell_type": "code",
   "execution_count": 40,
   "metadata": {
    "pycharm": {
     "is_executing": true
    }
   },
   "outputs": [],
   "source": [
    "# Function to compute the winner of the match using the values computed above in the pivot tables.\n",
    "\n",
    "def winner(team1, team2, p_team1, n_team1, p_team2, n_team2):\n",
    "    total = p_team1 + p_team2 + abs(n_team1) + abs(n_team2)\n",
    "    numerator = p_team1 + abs(n_team2)\n",
    "    ratio =  numerator / total\n",
    "    if (ratio > 0.5):\n",
    "        print(team1, \"is a winner with probability\", ratio)\n",
    "    elif (ratio <0.5):\n",
    "        print(team2, \"is a winner with probability\" , 1-ratio)\n",
    "    else:\n",
    "        print(\"Its a draw between\",team1, team2)"
   ]
  },
  {
   "cell_type": "code",
   "execution_count": 41,
   "metadata": {
    "pycharm": {
     "is_executing": true
    }
   },
   "outputs": [
    {
     "name": "stdout",
     "output_type": "stream",
     "text": [
      "ENG is a winner with probability 0.5203006065215366\n"
     ]
    }
   ],
   "source": [
    "# Arrival at decision using Text Blob sentiment analyser\n",
    "team1 = 'ENG'\n",
    "team2 = 'NZ'\n",
    "p_team1 = float(summary_textBlob.loc[team1, 'Positive'])\n",
    "n_team1 = float(summary_textBlob.loc[team1, 'Negative'])\n",
    "p_team2 = float(summary_textBlob.loc[team2, 'Positive'])\n",
    "n_team2 = float(summary_textBlob.loc[team2, 'Negative'])\n",
    "\n",
    "winner(team1, team2, p_team1, n_team1, p_team2, n_team2)"
   ]
  },
  {
   "cell_type": "code",
   "execution_count": 42,
   "metadata": {
    "pycharm": {
     "is_executing": true
    }
   },
   "outputs": [
    {
     "name": "stdout",
     "output_type": "stream",
     "text": [
      "NZ is a winner with probability 0.5041290800318599\n"
     ]
    }
   ],
   "source": [
    "# Arrival at decision using Vader sentiment analyser\n",
    "team1 = 'ENG'\n",
    "team2 = 'NZ'\n",
    "p_team1 = float(summary_vader.loc[team1, 'Positive'])\n",
    "n_team1 = float(summary_vader.loc[team1, 'Negative'])\n",
    "p_team2 = float(summary_vader.loc[team2, 'Positive'])\n",
    "n_team2 = float(summary_vader.loc[team2, 'Negative'])\n",
    "\n",
    "winner(team1, team2, p_team1, n_team1, p_team2, n_team2)"
   ]
  },
  {
   "cell_type": "code",
   "execution_count": 43,
   "metadata": {},
   "outputs": [],
   "source": [
    "final.loc[:,'Processed_Watson'] = [x for x in final['Processed_Vader']]\n",
    "\n"
   ]
  },
  {
   "cell_type": "code",
   "execution_count": 44,
   "metadata": {},
   "outputs": [],
   "source": [
    "from watson_developer_cloud import NaturalLanguageUnderstandingV1\n",
    "from watson_developer_cloud.natural_language_understanding_v1 import Features, EntitiesOptions, KeywordsOptions, SentimentOptions, CategoriesOptions"
   ]
  },
  {
   "cell_type": "code",
   "execution_count": 45,
   "metadata": {},
   "outputs": [
    {
     "name": "stderr",
     "output_type": "stream",
     "text": [
      "c:\\users\\amitb\\pycharmprojects\\cricwintweet\\venv\\lib\\site-packages\\ipykernel_launcher.py:4: DeprecationWarning: watson-developer-cloud moved to ibm-watson. To get updates, use the new package.\n",
      "  after removing the cwd from sys.path.\n"
     ]
    }
   ],
   "source": [
    "natural_language_understanding = NaturalLanguageUnderstandingV1(                                         \n",
    "    version='2018-11-16',\n",
    "    iam_apikey='0tR-lw7LsBb_TyT1tf47H_Vk1wWOyLEbF2-85ILgCsAb', # Use your API key here\n",
    "    url='https://api.eu-gb.natural-language-understanding.watson.cloud.ibm.com/instances/69b55a89-aed1-41c1-8cf0-f6c86a9ed3f8' # paste the url here\n",
    "    )"
   ]
  },
  {
   "cell_type": "code",
   "execution_count": 46,
   "metadata": {},
   "outputs": [],
   "source": [
    "def Sentiment_score(input_text): \n",
    "    if( str(input_text).isspace()==False):\n",
    "        # Input text can be sentence, paragraph or document\n",
    "        response = natural_language_understanding.analyze (\n",
    "        text = input_text,\n",
    "        language = 'en',\n",
    "        features = Features(sentiment=SentimentOptions())).get_result()\n",
    "    # From the response extract score which is between -1 to 1\n",
    "        res = response.get('sentiment').get('document').get('score')\n",
    "    else:\n",
    "        res = 0\n",
    "    return res"
   ]
  },
  {
   "cell_type": "code",
   "execution_count": 47,
   "metadata": {},
   "outputs": [],
   "source": [
    "# Remove newline characters\n",
    "\n",
    "def clear_newline_char(str):\n",
    "    return str.rstrip('\\n\\r')"
   ]
  },
  {
   "cell_type": "code",
   "execution_count": 48,
   "metadata": {},
   "outputs": [],
   "source": [
    "final.loc[:,'Processed_Watson'] = [clear_newline_char(x) for x in final['Processed_Watson']]"
   ]
  },
  {
   "cell_type": "code",
   "execution_count": 49,
   "metadata": {},
   "outputs": [],
   "source": [
    "final.loc[:,'Watson_Score'] = [Sentiment_score(str(x)) for x in final['Processed_Watson']]"
   ]
  },
  {
   "cell_type": "code",
   "execution_count": 50,
   "metadata": {},
   "outputs": [
    {
     "data": {
      "text/html": [
       "<div>\n",
       "<style scoped>\n",
       "    .dataframe tbody tr th:only-of-type {\n",
       "        vertical-align: middle;\n",
       "    }\n",
       "\n",
       "    .dataframe tbody tr th {\n",
       "        vertical-align: top;\n",
       "    }\n",
       "\n",
       "    .dataframe thead th {\n",
       "        text-align: right;\n",
       "    }\n",
       "</style>\n",
       "<table border=\"1\" class=\"dataframe\">\n",
       "  <thead>\n",
       "    <tr style=\"text-align: right;\">\n",
       "      <th></th>\n",
       "      <th>date</th>\n",
       "      <th>favorites</th>\n",
       "      <th>id</th>\n",
       "      <th>retweets</th>\n",
       "      <th>text</th>\n",
       "      <th>Processed</th>\n",
       "      <th>TeamTag</th>\n",
       "      <th>length</th>\n",
       "      <th>Processed_Vader</th>\n",
       "      <th>Score_text</th>\n",
       "      <th>Score_text_vader</th>\n",
       "      <th>Sign_text</th>\n",
       "      <th>Sign_vader</th>\n",
       "      <th>Processed_Watson</th>\n",
       "      <th>Watson_Score</th>\n",
       "    </tr>\n",
       "  </thead>\n",
       "  <tbody>\n",
       "    <tr>\n",
       "      <td>0</td>\n",
       "      <td>2019-07-14 05:29</td>\n",
       "      <td>5</td>\n",
       "      <td>1.150193e+18</td>\n",
       "      <td>0</td>\n",
       "      <td>Go England @ England @ englandcricket @ TheBar...</td>\n",
       "      <td>Go England</td>\n",
       "      <td>ENG</td>\n",
       "      <td>23</td>\n",
       "      <td>Go England            …</td>\n",
       "      <td>0.000000</td>\n",
       "      <td>0.0000</td>\n",
       "      <td>Neutral</td>\n",
       "      <td>Neutral</td>\n",
       "      <td>Go England            …</td>\n",
       "      <td>0.000000</td>\n",
       "    </tr>\n",
       "    <tr>\n",
       "      <td>1</td>\n",
       "      <td>2019-07-14 05:29</td>\n",
       "      <td>0</td>\n",
       "      <td>1.150193e+18</td>\n",
       "      <td>0</td>\n",
       "      <td># NZvENG # CWC19Final # CWC19pic.twitter.com/g...</td>\n",
       "      <td></td>\n",
       "      <td>NZ</td>\n",
       "      <td>2</td>\n",
       "      <td></td>\n",
       "      <td>0.000000</td>\n",
       "      <td>0.0000</td>\n",
       "      <td>Neutral</td>\n",
       "      <td>Neutral</td>\n",
       "      <td></td>\n",
       "      <td>0.000000</td>\n",
       "    </tr>\n",
       "    <tr>\n",
       "      <td>2</td>\n",
       "      <td>2019-07-14 05:29</td>\n",
       "      <td>0</td>\n",
       "      <td>1.150193e+18</td>\n",
       "      <td>0</td>\n",
       "      <td>Anyone else just ridiculously excited for the ...</td>\n",
       "      <td>Anyone else just ridiculously excited for the ...</td>\n",
       "      <td>NZ</td>\n",
       "      <td>72</td>\n",
       "      <td>Anyone else just ridiculously excited for the ...</td>\n",
       "      <td>0.187500</td>\n",
       "      <td>0.0000</td>\n",
       "      <td>Positive</td>\n",
       "      <td>Neutral</td>\n",
       "      <td>Anyone else just ridiculously excited for the ...</td>\n",
       "      <td>0.916758</td>\n",
       "    </tr>\n",
       "    <tr>\n",
       "      <td>3</td>\n",
       "      <td>2019-07-14 05:29</td>\n",
       "      <td>0</td>\n",
       "      <td>1.150193e+18</td>\n",
       "      <td>0</td>\n",
       "      <td>Supporting Kiwis # NZvENG # CWC19 # CWC19Final</td>\n",
       "      <td>Supporting Kiwis</td>\n",
       "      <td>NZ</td>\n",
       "      <td>19</td>\n",
       "      <td>Supporting Kiwis</td>\n",
       "      <td>0.250000</td>\n",
       "      <td>0.4404</td>\n",
       "      <td>Positive</td>\n",
       "      <td>Positive</td>\n",
       "      <td>Supporting Kiwis</td>\n",
       "      <td>0.664400</td>\n",
       "    </tr>\n",
       "    <tr>\n",
       "      <td>4</td>\n",
       "      <td>2019-07-14 05:27</td>\n",
       "      <td>0</td>\n",
       "      <td>1.150193e+18</td>\n",
       "      <td>0</td>\n",
       "      <td># CWC19Final England and New Zealand final is ...</td>\n",
       "      <td>England and New Zealand final is the best out...</td>\n",
       "      <td>ENG</td>\n",
       "      <td>245</td>\n",
       "      <td>England and New Zealand final is the best out...</td>\n",
       "      <td>0.394545</td>\n",
       "      <td>0.8883</td>\n",
       "      <td>Positive</td>\n",
       "      <td>Positive</td>\n",
       "      <td>England and New Zealand final is the best out...</td>\n",
       "      <td>0.698948</td>\n",
       "    </tr>\n",
       "  </tbody>\n",
       "</table>\n",
       "</div>"
      ],
      "text/plain": [
       "               date  favorites            id  retweets  \\\n",
       "0  2019-07-14 05:29          5  1.150193e+18         0   \n",
       "1  2019-07-14 05:29          0  1.150193e+18         0   \n",
       "2  2019-07-14 05:29          0  1.150193e+18         0   \n",
       "3  2019-07-14 05:29          0  1.150193e+18         0   \n",
       "4  2019-07-14 05:27          0  1.150193e+18         0   \n",
       "\n",
       "                                                text  \\\n",
       "0  Go England @ England @ englandcricket @ TheBar...   \n",
       "1  # NZvENG # CWC19Final # CWC19pic.twitter.com/g...   \n",
       "2  Anyone else just ridiculously excited for the ...   \n",
       "3     Supporting Kiwis # NZvENG # CWC19 # CWC19Final   \n",
       "4  # CWC19Final England and New Zealand final is ...   \n",
       "\n",
       "                                           Processed TeamTag  length  \\\n",
       "0                             Go England                 ENG      23   \n",
       "1                                                         NZ       2   \n",
       "2  Anyone else just ridiculously excited for the ...      NZ      72   \n",
       "3                                Supporting Kiwis         NZ      19   \n",
       "4   England and New Zealand final is the best out...     ENG     245   \n",
       "\n",
       "                                     Processed_Vader  Score_text  \\\n",
       "0                            Go England            …    0.000000   \n",
       "1                                                       0.000000   \n",
       "2  Anyone else just ridiculously excited for the ...    0.187500   \n",
       "3                                Supporting Kiwis       0.250000   \n",
       "4   England and New Zealand final is the best out...    0.394545   \n",
       "\n",
       "   Score_text_vader Sign_text Sign_vader  \\\n",
       "0            0.0000   Neutral    Neutral   \n",
       "1            0.0000   Neutral    Neutral   \n",
       "2            0.0000  Positive    Neutral   \n",
       "3            0.4404  Positive   Positive   \n",
       "4            0.8883  Positive   Positive   \n",
       "\n",
       "                                    Processed_Watson  Watson_Score  \n",
       "0                            Go England            …      0.000000  \n",
       "1                                                         0.000000  \n",
       "2  Anyone else just ridiculously excited for the ...      0.916758  \n",
       "3                                Supporting Kiwis         0.664400  \n",
       "4   England and New Zealand final is the best out...      0.698948  "
      ]
     },
     "execution_count": 50,
     "metadata": {},
     "output_type": "execute_result"
    }
   ],
   "source": [
    "final.head(5)"
   ]
  },
  {
   "cell_type": "code",
   "execution_count": 51,
   "metadata": {},
   "outputs": [],
   "source": [
    "final['Sign_watson'] = [sign_pos_neg(x) for x in final['Watson_Score']]"
   ]
  },
  {
   "cell_type": "code",
   "execution_count": 52,
   "metadata": {},
   "outputs": [
    {
     "data": {
      "text/html": [
       "<div>\n",
       "<style scoped>\n",
       "    .dataframe tbody tr th:only-of-type {\n",
       "        vertical-align: middle;\n",
       "    }\n",
       "\n",
       "    .dataframe tbody tr th {\n",
       "        vertical-align: top;\n",
       "    }\n",
       "\n",
       "    .dataframe thead th {\n",
       "        text-align: right;\n",
       "    }\n",
       "</style>\n",
       "<table border=\"1\" class=\"dataframe\">\n",
       "  <thead>\n",
       "    <tr style=\"text-align: right;\">\n",
       "      <th>Sign_watson</th>\n",
       "      <th>Negative</th>\n",
       "      <th>Neutral</th>\n",
       "      <th>Positive</th>\n",
       "    </tr>\n",
       "    <tr>\n",
       "      <th>TeamTag</th>\n",
       "      <th></th>\n",
       "      <th></th>\n",
       "      <th></th>\n",
       "    </tr>\n",
       "  </thead>\n",
       "  <tbody>\n",
       "    <tr>\n",
       "      <td>ENG</td>\n",
       "      <td>-0.686889</td>\n",
       "      <td>0.0</td>\n",
       "      <td>0.747495</td>\n",
       "    </tr>\n",
       "    <tr>\n",
       "      <td>NZ</td>\n",
       "      <td>-0.696506</td>\n",
       "      <td>0.0</td>\n",
       "      <td>0.756211</td>\n",
       "    </tr>\n",
       "  </tbody>\n",
       "</table>\n",
       "</div>"
      ],
      "text/plain": [
       "Sign_watson  Negative  Neutral  Positive\n",
       "TeamTag                                 \n",
       "ENG         -0.686889      0.0  0.747495\n",
       "NZ          -0.696506      0.0  0.756211"
      ]
     },
     "execution_count": 52,
     "metadata": {},
     "output_type": "execute_result"
    }
   ],
   "source": [
    "summary_watson = pd.pivot_table(final, index = 'TeamTag', columns= 'Sign_watson', values = 'Watson_Score',aggfunc ='mean')\n",
    "\n",
    "summary_watson\n"
   ]
  },
  {
   "cell_type": "code",
   "execution_count": 53,
   "metadata": {},
   "outputs": [
    {
     "data": {
      "text/html": [
       "<div>\n",
       "<style scoped>\n",
       "    .dataframe tbody tr th:only-of-type {\n",
       "        vertical-align: middle;\n",
       "    }\n",
       "\n",
       "    .dataframe tbody tr th {\n",
       "        vertical-align: top;\n",
       "    }\n",
       "\n",
       "    .dataframe thead th {\n",
       "        text-align: right;\n",
       "    }\n",
       "</style>\n",
       "<table border=\"1\" class=\"dataframe\">\n",
       "  <thead>\n",
       "    <tr style=\"text-align: right;\">\n",
       "      <th>Sign_watson</th>\n",
       "      <th>Negative</th>\n",
       "      <th>Neutral</th>\n",
       "      <th>Positive</th>\n",
       "    </tr>\n",
       "    <tr>\n",
       "      <th>TeamTag</th>\n",
       "      <th></th>\n",
       "      <th></th>\n",
       "      <th></th>\n",
       "    </tr>\n",
       "  </thead>\n",
       "  <tbody>\n",
       "    <tr>\n",
       "      <td>ENG</td>\n",
       "      <td>952</td>\n",
       "      <td>2876</td>\n",
       "      <td>2423</td>\n",
       "    </tr>\n",
       "    <tr>\n",
       "      <td>NZ</td>\n",
       "      <td>627</td>\n",
       "      <td>1528</td>\n",
       "      <td>1550</td>\n",
       "    </tr>\n",
       "  </tbody>\n",
       "</table>\n",
       "</div>"
      ],
      "text/plain": [
       "Sign_watson  Negative  Neutral  Positive\n",
       "TeamTag                                 \n",
       "ENG               952     2876      2423\n",
       "NZ                627     1528      1550"
      ]
     },
     "execution_count": 53,
     "metadata": {},
     "output_type": "execute_result"
    }
   ],
   "source": [
    "summary_watson_count = pd.pivot_table(final, index = 'TeamTag', columns= 'Sign_watson', values = 'Watson_Score',aggfunc ='count')\n",
    "\n",
    "summary_watson_count\n"
   ]
  },
  {
   "cell_type": "code",
   "execution_count": 54,
   "metadata": {},
   "outputs": [
    {
     "name": "stdout",
     "output_type": "stream",
     "text": [
      "ENG is a winner with probability 0.5001560842156215\n"
     ]
    }
   ],
   "source": [
    "# Arrival at decision using Watson sentiment analyser\n",
    "team1 = 'ENG'\n",
    "team2 = 'NZ'\n",
    "p_team1 = float(summary_watson.loc[team1, 'Positive'])\n",
    "n_team1 = float(summary_watson.loc[team1, 'Negative'])\n",
    "p_team2 = float(summary_watson.loc[team2, 'Positive'])\n",
    "n_team2 = float(summary_watson.loc[team2, 'Negative'])\n",
    "\n",
    "winner(team1, team2, p_team1, n_team1, p_team2, n_team2)"
   ]
  }
 ],
 "metadata": {
  "kernelspec": {
   "display_name": "Python 3",
   "language": "python",
   "name": "python3"
  },
  "language_info": {
   "codemirror_mode": {
    "name": "ipython",
    "version": 3
   },
   "file_extension": ".py",
   "mimetype": "text/x-python",
   "name": "python",
   "nbconvert_exporter": "python",
   "pygments_lexer": "ipython3",
   "version": "3.7.2"
  },
  "pycharm": {
   "stem_cell": {
    "cell_type": "raw",
    "metadata": {
     "collapsed": false
    },
    "source": []
   }
  }
 },
 "nbformat": 4,
 "nbformat_minor": 1
}
