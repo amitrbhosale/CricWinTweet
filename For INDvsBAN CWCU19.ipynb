{
 "cells": [
  {
   "cell_type": "code",
   "execution_count": 1,
   "metadata": {
    "pycharm": {
     "is_executing": false
    }
   },
   "outputs": [],
   "source": [
    "# Semantic analyis of Twitter data"
   ]
  },
  {
   "cell_type": "code",
   "execution_count": 2,
   "metadata": {
    "pycharm": {
     "is_executing": false,
     "name": "#%%\n"
    }
   },
   "outputs": [],
   "source": [
    "import pandas as pd\n",
    "import nltk\n",
    "import os\n",
    "from textblob import TextBlob\n",
    "import re"
   ]
  },
  {
   "cell_type": "code",
   "execution_count": 3,
   "metadata": {
    "pycharm": {
     "is_executing": false,
     "name": "#%%\n"
    }
   },
   "outputs": [
    {
     "data": {
      "text/plain": [
       "2169"
      ]
     },
     "execution_count": 3,
     "metadata": {},
     "output_type": "execute_result"
    }
   ],
   "source": [
    "#CSV file with extracted tweets for CWC19Final hash-tag before the event\n",
    "file_1 = pd.read_csv(\"D:\\\\LJMU\\\\INDvsBAN match CWC19 Final\\\\banvsind.csv\",error_bad_lines=False,delimiter=\";\")\n",
    "#CSV file with extracted tweets for EngVsNZ hash-tag before the event\n",
    "file_2 = pd.read_csv(\"D:\\\\LJMU\\\\INDvsBAN match CWC19 Final\\\\banvind.csv\",error_bad_lines=False, delimiter =\";\", quotechar='\\\"')\n",
    "#CSV file with extracted tweets for NZVsENG hash-tag before the event\n",
    "file_3 = pd.read_csv(\"D:\\\\LJMU\\\\INDvsBAN match CWC19 Final\\\\indvsban.csv\",error_bad_lines=False,delimiter=\";\")\n",
    "#CSV file with extracted tweets for CWC19 hash-tag before the event\n",
    "file_4 = pd.read_csv(\"D:\\\\LJMU\\\\INDvsBAN match CWC19 Final\\\\indvban.csv\",error_bad_lines=False,delimiter=\";\")\n",
    "\n",
    "file_5 = pd.read_csv(\"D:\\\\LJMU\\\\INDvsBAN match CWC19 Final\\\\U19CWC.csv\",error_bad_lines=False,delimiter=\";\")\n",
    "\n",
    "file_6 = pd.read_csv(\"D:\\\\LJMU\\\\INDvsBAN match CWC19 Final\\\\U19CWCFinal.csv\",error_bad_lines=False,delimiter=\";\")\n",
    "\n",
    "file_7 = pd.read_csv(\"D:\\\\LJMU\\\\INDvsBAN match CWC19 Final\\\\U19WorldCup2020.csv\",error_bad_lines=False,delimiter=\";\")\n",
    "\n",
    "#Combine the dataframes\n",
    "interim = file_1.append(file_2,sort = True)\n",
    "\n",
    "combine = interim.append(file_3,sort = True)\n",
    "\n",
    "combine = combine.append(file_4,sort = True)\n",
    "combine = combine.append(file_5,sort = True)\n",
    "combine = combine.append(file_6,sort = True)\n",
    "combine = combine.append(file_7,sort = True)\n",
    "len(combine)\n"
   ]
  },
  {
   "cell_type": "code",
   "execution_count": 4,
   "metadata": {
    "pycharm": {
     "is_executing": false,
     "name": "#%%\n"
    }
   },
   "outputs": [
    {
     "data": {
      "text/html": [
       "<div>\n",
       "<style scoped>\n",
       "    .dataframe tbody tr th:only-of-type {\n",
       "        vertical-align: middle;\n",
       "    }\n",
       "\n",
       "    .dataframe tbody tr th {\n",
       "        vertical-align: top;\n",
       "    }\n",
       "\n",
       "    .dataframe thead th {\n",
       "        text-align: right;\n",
       "    }\n",
       "</style>\n",
       "<table border=\"1\" class=\"dataframe\">\n",
       "  <thead>\n",
       "    <tr style=\"text-align: right;\">\n",
       "      <th></th>\n",
       "      <th>date</th>\n",
       "      <th>favorites</th>\n",
       "      <th>geo</th>\n",
       "      <th>hashtags</th>\n",
       "      <th>id</th>\n",
       "      <th>mentions</th>\n",
       "      <th>permalink</th>\n",
       "      <th>retweets</th>\n",
       "      <th>text</th>\n",
       "      <th>username</th>\n",
       "    </tr>\n",
       "  </thead>\n",
       "  <tbody>\n",
       "    <tr>\n",
       "      <td>0</td>\n",
       "      <td>2020-02-07 23:47</td>\n",
       "      <td>1</td>\n",
       "      <td>NaN</td>\n",
       "      <td># # # # # # # # #</td>\n",
       "      <td>1225845943334924288</td>\n",
       "      <td>@</td>\n",
       "      <td>https://twitter.com/AkshithShetty93/status/122...</td>\n",
       "      <td>1</td>\n",
       "      <td>Which team going to win Under 19 Cricket World...</td>\n",
       "      <td>NaN</td>\n",
       "    </tr>\n",
       "    <tr>\n",
       "      <td>1</td>\n",
       "      <td>2020-02-07 23:43</td>\n",
       "      <td>0</td>\n",
       "      <td>NaN</td>\n",
       "      <td># # # # # # # # #</td>\n",
       "      <td>1225845158333177856</td>\n",
       "      <td>@</td>\n",
       "      <td>https://twitter.com/WorldViralPoll/status/1225...</td>\n",
       "      <td>1</td>\n",
       "      <td>Can you guess '''' INDIA VS BANGLADESH Which t...</td>\n",
       "      <td>NaN</td>\n",
       "    </tr>\n",
       "    <tr>\n",
       "      <td>2</td>\n",
       "      <td>2020-02-07 17:51</td>\n",
       "      <td>0</td>\n",
       "      <td>NaN</td>\n",
       "      <td># # # #</td>\n",
       "      <td>1225756525764857858</td>\n",
       "      <td>NaN</td>\n",
       "      <td>https://twitter.com/MabbuloChokli/status/12257...</td>\n",
       "      <td>0</td>\n",
       "      <td>Best thing I like about yasashwi jaiswal is hi...</td>\n",
       "      <td>NaN</td>\n",
       "    </tr>\n",
       "    <tr>\n",
       "      <td>3</td>\n",
       "      <td>2020-02-07 14:50</td>\n",
       "      <td>19</td>\n",
       "      <td>NaN</td>\n",
       "      <td># # # # # # #</td>\n",
       "      <td>1225710925824417793</td>\n",
       "      <td>NaN</td>\n",
       "      <td>https://twitter.com/IndianzCricket/status/1225...</td>\n",
       "      <td>2</td>\n",
       "      <td>Feeling of Winning! Awesome! Congratulations! ...</td>\n",
       "      <td>NaN</td>\n",
       "    </tr>\n",
       "    <tr>\n",
       "      <td>4</td>\n",
       "      <td>2020-02-07 13:34</td>\n",
       "      <td>1</td>\n",
       "      <td>NaN</td>\n",
       "      <td># # # # # # # #</td>\n",
       "      <td>1225691670735286272</td>\n",
       "      <td>NaN</td>\n",
       "      <td>https://twitter.com/SportsQuickiez/status/1225...</td>\n",
       "      <td>0</td>\n",
       "      <td>All the Stats you need to know as we lookahead...</td>\n",
       "      <td>NaN</td>\n",
       "    </tr>\n",
       "    <tr>\n",
       "      <td>5</td>\n",
       "      <td>2020-02-07 13:13</td>\n",
       "      <td>0</td>\n",
       "      <td>NaN</td>\n",
       "      <td># # # # # #</td>\n",
       "      <td>1225686535053332480</td>\n",
       "      <td>@</td>\n",
       "      <td>https://twitter.com/Oneindia/status/1225686535...</td>\n",
       "      <td>0</td>\n",
       "      <td>ICC U-19 World Cup 2020: FINAL: India vs Bangl...</td>\n",
       "      <td>NaN</td>\n",
       "    </tr>\n",
       "    <tr>\n",
       "      <td>6</td>\n",
       "      <td>2020-02-07 13:13</td>\n",
       "      <td>1</td>\n",
       "      <td>NaN</td>\n",
       "      <td># # # # # #</td>\n",
       "      <td>1225686495580655616</td>\n",
       "      <td>NaN</td>\n",
       "      <td>https://twitter.com/mykhelcom/status/122568649...</td>\n",
       "      <td>0</td>\n",
       "      <td>ICC U-19 World Cup 2020: FINAL: India vs Bangl...</td>\n",
       "      <td>NaN</td>\n",
       "    </tr>\n",
       "    <tr>\n",
       "      <td>7</td>\n",
       "      <td>2020-02-07 12:33</td>\n",
       "      <td>54</td>\n",
       "      <td>NaN</td>\n",
       "      <td># # # # # # # #</td>\n",
       "      <td>1225676390248222720</td>\n",
       "      <td>NaN</td>\n",
       "      <td>https://twitter.com/imd1official/status/122567...</td>\n",
       "      <td>30</td>\n",
       "      <td>ICC U19 Cricket World Cup 2020 Final Let us kn...</td>\n",
       "      <td>NaN</td>\n",
       "    </tr>\n",
       "    <tr>\n",
       "      <td>8</td>\n",
       "      <td>2020-02-07 11:23</td>\n",
       "      <td>1</td>\n",
       "      <td>NaN</td>\n",
       "      <td># # # # # #</td>\n",
       "      <td>1225658738175959040</td>\n",
       "      <td>NaN</td>\n",
       "      <td>https://twitter.com/ICC_Poll/status/1225658738...</td>\n",
       "      <td>0</td>\n",
       "      <td>Which Nation is going to Lift the 13th Under-1...</td>\n",
       "      <td>NaN</td>\n",
       "    </tr>\n",
       "    <tr>\n",
       "      <td>9</td>\n",
       "      <td>2020-02-07 10:30</td>\n",
       "      <td>0</td>\n",
       "      <td>NaN</td>\n",
       "      <td># # #</td>\n",
       "      <td>1225645388813627393</td>\n",
       "      <td>NaN</td>\n",
       "      <td>https://twitter.com/CricketTimesHQ/status/1225...</td>\n",
       "      <td>0</td>\n",
       "      <td>It's Bangladesh vs India in the 2020 U19 World...</td>\n",
       "      <td>NaN</td>\n",
       "    </tr>\n",
       "  </tbody>\n",
       "</table>\n",
       "</div>"
      ],
      "text/plain": [
       "               date favorites  geo           hashtags                   id  \\\n",
       "0  2020-02-07 23:47         1  NaN  # # # # # # # # #  1225845943334924288   \n",
       "1  2020-02-07 23:43         0  NaN  # # # # # # # # #  1225845158333177856   \n",
       "2  2020-02-07 17:51         0  NaN            # # # #  1225756525764857858   \n",
       "3  2020-02-07 14:50        19  NaN      # # # # # # #  1225710925824417793   \n",
       "4  2020-02-07 13:34         1  NaN    # # # # # # # #  1225691670735286272   \n",
       "5  2020-02-07 13:13         0  NaN        # # # # # #  1225686535053332480   \n",
       "6  2020-02-07 13:13         1  NaN        # # # # # #  1225686495580655616   \n",
       "7  2020-02-07 12:33        54  NaN    # # # # # # # #  1225676390248222720   \n",
       "8  2020-02-07 11:23         1  NaN        # # # # # #  1225658738175959040   \n",
       "9  2020-02-07 10:30         0  NaN              # # #  1225645388813627393   \n",
       "\n",
       "  mentions                                          permalink retweets  \\\n",
       "0        @  https://twitter.com/AkshithShetty93/status/122...        1   \n",
       "1        @  https://twitter.com/WorldViralPoll/status/1225...        1   \n",
       "2      NaN  https://twitter.com/MabbuloChokli/status/12257...        0   \n",
       "3      NaN  https://twitter.com/IndianzCricket/status/1225...        2   \n",
       "4      NaN  https://twitter.com/SportsQuickiez/status/1225...        0   \n",
       "5        @  https://twitter.com/Oneindia/status/1225686535...        0   \n",
       "6      NaN  https://twitter.com/mykhelcom/status/122568649...        0   \n",
       "7      NaN  https://twitter.com/imd1official/status/122567...       30   \n",
       "8      NaN  https://twitter.com/ICC_Poll/status/1225658738...        0   \n",
       "9      NaN  https://twitter.com/CricketTimesHQ/status/1225...        0   \n",
       "\n",
       "                                                text username  \n",
       "0  Which team going to win Under 19 Cricket World...      NaN  \n",
       "1  Can you guess '''' INDIA VS BANGLADESH Which t...      NaN  \n",
       "2  Best thing I like about yasashwi jaiswal is hi...      NaN  \n",
       "3  Feeling of Winning! Awesome! Congratulations! ...      NaN  \n",
       "4  All the Stats you need to know as we lookahead...      NaN  \n",
       "5  ICC U-19 World Cup 2020: FINAL: India vs Bangl...      NaN  \n",
       "6  ICC U-19 World Cup 2020: FINAL: India vs Bangl...      NaN  \n",
       "7  ICC U19 Cricket World Cup 2020 Final Let us kn...      NaN  \n",
       "8  Which Nation is going to Lift the 13th Under-1...      NaN  \n",
       "9  It's Bangladesh vs India in the 2020 U19 World...      NaN  "
      ]
     },
     "execution_count": 4,
     "metadata": {},
     "output_type": "execute_result"
    }
   ],
   "source": [
    "combine.head(10)\n"
   ]
  },
  {
   "cell_type": "code",
   "execution_count": 5,
   "metadata": {
    "pycharm": {
     "is_executing": false,
     "name": "#%%\n"
    }
   },
   "outputs": [
    {
     "data": {
      "text/plain": [
       "1920"
      ]
     },
     "execution_count": 5,
     "metadata": {},
     "output_type": "execute_result"
    }
   ],
   "source": [
    "#Remove duplicates from the dataset\n",
    "combine = combine.drop_duplicates()\n",
    "\n",
    "len(combine)"
   ]
  },
  {
   "cell_type": "code",
   "execution_count": 6,
   "metadata": {
    "pycharm": {
     "is_executing": false,
     "name": "#%%\n"
    }
   },
   "outputs": [],
   "source": [
    "# Removing redundant columns\n",
    "combine = combine.drop(['hashtags'],axis=1)\n",
    "combine = combine.drop(['geo'],axis=1)\n",
    "combine = combine.drop(['mentions'],axis=1)\n",
    "combine = combine.drop(['permalink'],axis=1)\n",
    "#combine = combine.drop(['permalink,,,,,,,,'],axis=1)\n",
    "combine = combine.drop(['username'],axis=1)\n",
    "\n",
    "#combine = combine.drop(index=[7,8],axis=1)"
   ]
  },
  {
   "cell_type": "code",
   "execution_count": 7,
   "metadata": {
    "pycharm": {
     "is_executing": false,
     "name": "#%%\n"
    }
   },
   "outputs": [
    {
     "data": {
      "text/html": [
       "<div>\n",
       "<style scoped>\n",
       "    .dataframe tbody tr th:only-of-type {\n",
       "        vertical-align: middle;\n",
       "    }\n",
       "\n",
       "    .dataframe tbody tr th {\n",
       "        vertical-align: top;\n",
       "    }\n",
       "\n",
       "    .dataframe thead th {\n",
       "        text-align: right;\n",
       "    }\n",
       "</style>\n",
       "<table border=\"1\" class=\"dataframe\">\n",
       "  <thead>\n",
       "    <tr style=\"text-align: right;\">\n",
       "      <th></th>\n",
       "      <th>date</th>\n",
       "      <th>favorites</th>\n",
       "      <th>id</th>\n",
       "      <th>retweets</th>\n",
       "      <th>text</th>\n",
       "    </tr>\n",
       "  </thead>\n",
       "  <tbody>\n",
       "    <tr>\n",
       "      <td>0</td>\n",
       "      <td>2020-02-07 23:47</td>\n",
       "      <td>1</td>\n",
       "      <td>1225845943334924288</td>\n",
       "      <td>1</td>\n",
       "      <td>Which team going to win Under 19 Cricket World...</td>\n",
       "    </tr>\n",
       "    <tr>\n",
       "      <td>1</td>\n",
       "      <td>2020-02-07 23:43</td>\n",
       "      <td>0</td>\n",
       "      <td>1225845158333177856</td>\n",
       "      <td>1</td>\n",
       "      <td>Can you guess '''' INDIA VS BANGLADESH Which t...</td>\n",
       "    </tr>\n",
       "    <tr>\n",
       "      <td>2</td>\n",
       "      <td>2020-02-07 17:51</td>\n",
       "      <td>0</td>\n",
       "      <td>1225756525764857858</td>\n",
       "      <td>0</td>\n",
       "      <td>Best thing I like about yasashwi jaiswal is hi...</td>\n",
       "    </tr>\n",
       "    <tr>\n",
       "      <td>3</td>\n",
       "      <td>2020-02-07 14:50</td>\n",
       "      <td>19</td>\n",
       "      <td>1225710925824417793</td>\n",
       "      <td>2</td>\n",
       "      <td>Feeling of Winning! Awesome! Congratulations! ...</td>\n",
       "    </tr>\n",
       "    <tr>\n",
       "      <td>4</td>\n",
       "      <td>2020-02-07 13:34</td>\n",
       "      <td>1</td>\n",
       "      <td>1225691670735286272</td>\n",
       "      <td>0</td>\n",
       "      <td>All the Stats you need to know as we lookahead...</td>\n",
       "    </tr>\n",
       "  </tbody>\n",
       "</table>\n",
       "</div>"
      ],
      "text/plain": [
       "               date favorites                   id retweets  \\\n",
       "0  2020-02-07 23:47         1  1225845943334924288        1   \n",
       "1  2020-02-07 23:43         0  1225845158333177856        1   \n",
       "2  2020-02-07 17:51         0  1225756525764857858        0   \n",
       "3  2020-02-07 14:50        19  1225710925824417793        2   \n",
       "4  2020-02-07 13:34         1  1225691670735286272        0   \n",
       "\n",
       "                                                text  \n",
       "0  Which team going to win Under 19 Cricket World...  \n",
       "1  Can you guess '''' INDIA VS BANGLADESH Which t...  \n",
       "2  Best thing I like about yasashwi jaiswal is hi...  \n",
       "3  Feeling of Winning! Awesome! Congratulations! ...  \n",
       "4  All the Stats you need to know as we lookahead...  "
      ]
     },
     "execution_count": 7,
     "metadata": {},
     "output_type": "execute_result"
    }
   ],
   "source": [
    "combine.head(5)"
   ]
  },
  {
   "cell_type": "code",
   "execution_count": 8,
   "metadata": {
    "pycharm": {
     "is_executing": false,
     "name": "#%%\n"
    }
   },
   "outputs": [],
   "source": [
    "#Data cleaning starts from here. Processing of text column\n",
    "\n",
    "#combine['Processed Text'] = re.sub('https\\:\\/\\/[\\w\\d.]','',combine['text'])\n",
    "\n",
    "combine['Processed'] = combine.apply(lambda row: re.sub('http?\\S+',\"\",row.text), axis=1)\n",
    "combine['Processed'] = combine.apply(lambda row: re.sub('https\\S+',\"\",row.Processed), axis=1)\n",
    "\n",
    "# Remove pic.twitter.com\n",
    "combine['Processed'] = combine.apply(lambda row: re.sub('pic.twitter.com\\\\S+',\"\",row.Processed), axis=1)"
   ]
  },
  {
   "cell_type": "code",
   "execution_count": 9,
   "metadata": {
    "pycharm": {
     "is_executing": false
    }
   },
   "outputs": [
    {
     "data": {
      "text/html": [
       "<div>\n",
       "<style scoped>\n",
       "    .dataframe tbody tr th:only-of-type {\n",
       "        vertical-align: middle;\n",
       "    }\n",
       "\n",
       "    .dataframe tbody tr th {\n",
       "        vertical-align: top;\n",
       "    }\n",
       "\n",
       "    .dataframe thead th {\n",
       "        text-align: right;\n",
       "    }\n",
       "</style>\n",
       "<table border=\"1\" class=\"dataframe\">\n",
       "  <thead>\n",
       "    <tr style=\"text-align: right;\">\n",
       "      <th></th>\n",
       "      <th>date</th>\n",
       "      <th>favorites</th>\n",
       "      <th>id</th>\n",
       "      <th>retweets</th>\n",
       "      <th>text</th>\n",
       "      <th>Processed</th>\n",
       "    </tr>\n",
       "  </thead>\n",
       "  <tbody>\n",
       "    <tr>\n",
       "      <td>0</td>\n",
       "      <td>2020-02-07 23:47</td>\n",
       "      <td>1</td>\n",
       "      <td>1225845943334924288</td>\n",
       "      <td>1</td>\n",
       "      <td>Which team going to win Under 19 Cricket World...</td>\n",
       "      <td>Which team going to win Under 19 Cricket World...</td>\n",
       "    </tr>\n",
       "    <tr>\n",
       "      <td>1</td>\n",
       "      <td>2020-02-07 23:43</td>\n",
       "      <td>0</td>\n",
       "      <td>1225845158333177856</td>\n",
       "      <td>1</td>\n",
       "      <td>Can you guess '''' INDIA VS BANGLADESH Which t...</td>\n",
       "      <td>Can you guess '''' INDIA VS BANGLADESH Which t...</td>\n",
       "    </tr>\n",
       "    <tr>\n",
       "      <td>2</td>\n",
       "      <td>2020-02-07 17:51</td>\n",
       "      <td>0</td>\n",
       "      <td>1225756525764857858</td>\n",
       "      <td>0</td>\n",
       "      <td>Best thing I like about yasashwi jaiswal is hi...</td>\n",
       "      <td>Best thing I like about yasashwi jaiswal is hi...</td>\n",
       "    </tr>\n",
       "    <tr>\n",
       "      <td>3</td>\n",
       "      <td>2020-02-07 14:50</td>\n",
       "      <td>19</td>\n",
       "      <td>1225710925824417793</td>\n",
       "      <td>2</td>\n",
       "      <td>Feeling of Winning! Awesome! Congratulations! ...</td>\n",
       "      <td>Feeling of Winning! Awesome! Congratulations! ...</td>\n",
       "    </tr>\n",
       "    <tr>\n",
       "      <td>4</td>\n",
       "      <td>2020-02-07 13:34</td>\n",
       "      <td>1</td>\n",
       "      <td>1225691670735286272</td>\n",
       "      <td>0</td>\n",
       "      <td>All the Stats you need to know as we lookahead...</td>\n",
       "      <td>All the Stats you need to know as we lookahead...</td>\n",
       "    </tr>\n",
       "  </tbody>\n",
       "</table>\n",
       "</div>"
      ],
      "text/plain": [
       "               date favorites                   id retweets  \\\n",
       "0  2020-02-07 23:47         1  1225845943334924288        1   \n",
       "1  2020-02-07 23:43         0  1225845158333177856        1   \n",
       "2  2020-02-07 17:51         0  1225756525764857858        0   \n",
       "3  2020-02-07 14:50        19  1225710925824417793        2   \n",
       "4  2020-02-07 13:34         1  1225691670735286272        0   \n",
       "\n",
       "                                                text  \\\n",
       "0  Which team going to win Under 19 Cricket World...   \n",
       "1  Can you guess '''' INDIA VS BANGLADESH Which t...   \n",
       "2  Best thing I like about yasashwi jaiswal is hi...   \n",
       "3  Feeling of Winning! Awesome! Congratulations! ...   \n",
       "4  All the Stats you need to know as we lookahead...   \n",
       "\n",
       "                                           Processed  \n",
       "0  Which team going to win Under 19 Cricket World...  \n",
       "1  Can you guess '''' INDIA VS BANGLADESH Which t...  \n",
       "2  Best thing I like about yasashwi jaiswal is hi...  \n",
       "3  Feeling of Winning! Awesome! Congratulations! ...  \n",
       "4  All the Stats you need to know as we lookahead...  "
      ]
     },
     "execution_count": 9,
     "metadata": {},
     "output_type": "execute_result"
    }
   ],
   "source": [
    "combine.head(5)"
   ]
  },
  {
   "cell_type": "code",
   "execution_count": 10,
   "metadata": {
    "pycharm": {
     "is_executing": false
    }
   },
   "outputs": [],
   "source": [
    "# Remove twitter handles\n",
    "combine['Processed'] = combine.apply(lambda row: re.sub('\\@ \\w+',\"\",row.Processed), axis=1)\n",
    "\n",
    "# Remove HashTags from the text field.\n",
    "combine['Processed'] = combine.apply(lambda row: re.sub('\\# \\w+',\"\",row.Processed), axis=1)\n"
   ]
  },
  {
   "cell_type": "code",
   "execution_count": 11,
   "metadata": {
    "pycharm": {
     "is_executing": false,
     "name": "#%%\n"
    }
   },
   "outputs": [
    {
     "data": {
      "text/html": [
       "<div>\n",
       "<style scoped>\n",
       "    .dataframe tbody tr th:only-of-type {\n",
       "        vertical-align: middle;\n",
       "    }\n",
       "\n",
       "    .dataframe tbody tr th {\n",
       "        vertical-align: top;\n",
       "    }\n",
       "\n",
       "    .dataframe thead th {\n",
       "        text-align: right;\n",
       "    }\n",
       "</style>\n",
       "<table border=\"1\" class=\"dataframe\">\n",
       "  <thead>\n",
       "    <tr style=\"text-align: right;\">\n",
       "      <th></th>\n",
       "      <th>date</th>\n",
       "      <th>favorites</th>\n",
       "      <th>id</th>\n",
       "      <th>retweets</th>\n",
       "      <th>text</th>\n",
       "      <th>Processed</th>\n",
       "    </tr>\n",
       "  </thead>\n",
       "  <tbody>\n",
       "    <tr>\n",
       "      <td>0</td>\n",
       "      <td>2020-02-07 23:47</td>\n",
       "      <td>1</td>\n",
       "      <td>1225845943334924288</td>\n",
       "      <td>1</td>\n",
       "      <td>Which team going to win Under 19 Cricket World...</td>\n",
       "      <td>Which team going to win Under 19 Cricket World...</td>\n",
       "    </tr>\n",
       "    <tr>\n",
       "      <td>1</td>\n",
       "      <td>2020-02-07 23:43</td>\n",
       "      <td>0</td>\n",
       "      <td>1225845158333177856</td>\n",
       "      <td>1</td>\n",
       "      <td>Can you guess '''' INDIA VS BANGLADESH Which t...</td>\n",
       "      <td>Can you guess '''' INDIA VS BANGLADESH Which t...</td>\n",
       "    </tr>\n",
       "    <tr>\n",
       "      <td>2</td>\n",
       "      <td>2020-02-07 17:51</td>\n",
       "      <td>0</td>\n",
       "      <td>1225756525764857858</td>\n",
       "      <td>0</td>\n",
       "      <td>Best thing I like about yasashwi jaiswal is hi...</td>\n",
       "      <td>Best thing I like about yasashwi jaiswal is hi...</td>\n",
       "    </tr>\n",
       "    <tr>\n",
       "      <td>3</td>\n",
       "      <td>2020-02-07 14:50</td>\n",
       "      <td>19</td>\n",
       "      <td>1225710925824417793</td>\n",
       "      <td>2</td>\n",
       "      <td>Feeling of Winning! Awesome! Congratulations! ...</td>\n",
       "      <td>Feeling of Winning! Awesome! Congratulations! ...</td>\n",
       "    </tr>\n",
       "    <tr>\n",
       "      <td>4</td>\n",
       "      <td>2020-02-07 13:34</td>\n",
       "      <td>1</td>\n",
       "      <td>1225691670735286272</td>\n",
       "      <td>0</td>\n",
       "      <td>All the Stats you need to know as we lookahead...</td>\n",
       "      <td>All the Stats you need to know as we lookahead...</td>\n",
       "    </tr>\n",
       "  </tbody>\n",
       "</table>\n",
       "</div>"
      ],
      "text/plain": [
       "               date favorites                   id retweets  \\\n",
       "0  2020-02-07 23:47         1  1225845943334924288        1   \n",
       "1  2020-02-07 23:43         0  1225845158333177856        1   \n",
       "2  2020-02-07 17:51         0  1225756525764857858        0   \n",
       "3  2020-02-07 14:50        19  1225710925824417793        2   \n",
       "4  2020-02-07 13:34         1  1225691670735286272        0   \n",
       "\n",
       "                                                text  \\\n",
       "0  Which team going to win Under 19 Cricket World...   \n",
       "1  Can you guess '''' INDIA VS BANGLADESH Which t...   \n",
       "2  Best thing I like about yasashwi jaiswal is hi...   \n",
       "3  Feeling of Winning! Awesome! Congratulations! ...   \n",
       "4  All the Stats you need to know as we lookahead...   \n",
       "\n",
       "                                           Processed  \n",
       "0  Which team going to win Under 19 Cricket World...  \n",
       "1  Can you guess '''' INDIA VS BANGLADESH Which t...  \n",
       "2  Best thing I like about yasashwi jaiswal is hi...  \n",
       "3  Feeling of Winning! Awesome! Congratulations! ...  \n",
       "4  All the Stats you need to know as we lookahead...  "
      ]
     },
     "execution_count": 11,
     "metadata": {},
     "output_type": "execute_result"
    }
   ],
   "source": [
    "combine.head(5)\n"
   ]
  },
  {
   "cell_type": "code",
   "execution_count": 12,
   "metadata": {
    "pycharm": {
     "is_executing": false
    }
   },
   "outputs": [],
   "source": [
    "# Tagging the dataset with team names and the player names which are appearing in the list first\n",
    "\n",
    "BAN_tags = ['Bangladesh','ban','tigers''Akbar','Ali','Towhid','Hridoy','Mrittunjoy', 'Chowdhury','Avishek','Das','Parvez','Hossain', 'Emon','Meherob','Hasan','Rakibul','Tanzid', 'Mahmudul','Joy','Shahadat','Hossain','Shamim','Shoriful','Islam','Murad','Prantik','Nawrose','Nabil','Tanzim','Sakib','Mohammad','Shahin']\n",
    "\n",
    "IND_tags = ['INDIA','IND','Priyam', 'Garg', 'Dhruv','Jurel', 'Atharva', 'Ankolekar', 'Ravi' ,'Bishnoi', 'Shubhang' ,'Hegde', 'Yashasvi', 'Jaiswal', 'Kumar', 'Kushagra' , 'Sushant', 'Mishra', 'Vidyadhar', 'Patil', 'Shashwat' ,'Rawat', 'Divyaansh' ,'Saxena', 'Akash', 'Singh', 'Kartik' ,'Tyagi', 'Tilak', 'Varma', 'Siddhesh' ,'Veer','blue']   "
   ]
  },
  {
   "cell_type": "code",
   "execution_count": 13,
   "metadata": {
    "pycharm": {
     "is_executing": false
    }
   },
   "outputs": [],
   "source": [
    "# Create a function to tag the data\n",
    "\n",
    "def create_tag(text, pos_eng = 999, pos_nz = 999):\n",
    "    for x in BAN_tags:\n",
    "        if re.search(x,text,re.IGNORECASE):\n",
    "            pos_nz = re.search(x,text,re.IGNORECASE).start()\n",
    "            break\n",
    "      \n",
    "    for x in IND_tags:\n",
    "        if re.search(x,text,re.IGNORECASE):\n",
    "            pos_eng = re.search(x,text,re.IGNORECASE).start()\n",
    "            break\n",
    "            \n",
    "    if pos_nz < pos_eng:\n",
    "        return \"BAN\"\n",
    "    elif pos_eng < pos_nz:\n",
    "        return \"IND\"\n",
    "    else:\n",
    "        return \"Neutral\"\n",
    "    "
   ]
  },
  {
   "cell_type": "code",
   "execution_count": 14,
   "metadata": {
    "pycharm": {
     "is_executing": true
    },
    "scrolled": true
   },
   "outputs": [],
   "source": [
    "combine['TeamTag'] = [create_tag(x) for x in combine['text']]"
   ]
  },
  {
   "cell_type": "code",
   "execution_count": 15,
   "metadata": {
    "pycharm": {
     "is_executing": true
    },
    "scrolled": true
   },
   "outputs": [
    {
     "data": {
      "text/html": [
       "<div>\n",
       "<style scoped>\n",
       "    .dataframe tbody tr th:only-of-type {\n",
       "        vertical-align: middle;\n",
       "    }\n",
       "\n",
       "    .dataframe tbody tr th {\n",
       "        vertical-align: top;\n",
       "    }\n",
       "\n",
       "    .dataframe thead th {\n",
       "        text-align: right;\n",
       "    }\n",
       "</style>\n",
       "<table border=\"1\" class=\"dataframe\">\n",
       "  <thead>\n",
       "    <tr style=\"text-align: right;\">\n",
       "      <th></th>\n",
       "      <th>Processed</th>\n",
       "      <th>date</th>\n",
       "      <th>favorites</th>\n",
       "      <th>id</th>\n",
       "      <th>retweets</th>\n",
       "      <th>text</th>\n",
       "    </tr>\n",
       "    <tr>\n",
       "      <th>TeamTag</th>\n",
       "      <th></th>\n",
       "      <th></th>\n",
       "      <th></th>\n",
       "      <th></th>\n",
       "      <th></th>\n",
       "      <th></th>\n",
       "    </tr>\n",
       "  </thead>\n",
       "  <tbody>\n",
       "    <tr>\n",
       "      <td>BAN</td>\n",
       "      <td>965</td>\n",
       "      <td>965</td>\n",
       "      <td>965</td>\n",
       "      <td>965</td>\n",
       "      <td>965</td>\n",
       "      <td>965</td>\n",
       "    </tr>\n",
       "    <tr>\n",
       "      <td>IND</td>\n",
       "      <td>623</td>\n",
       "      <td>623</td>\n",
       "      <td>623</td>\n",
       "      <td>623</td>\n",
       "      <td>623</td>\n",
       "      <td>623</td>\n",
       "    </tr>\n",
       "    <tr>\n",
       "      <td>Neutral</td>\n",
       "      <td>332</td>\n",
       "      <td>332</td>\n",
       "      <td>332</td>\n",
       "      <td>332</td>\n",
       "      <td>332</td>\n",
       "      <td>332</td>\n",
       "    </tr>\n",
       "  </tbody>\n",
       "</table>\n",
       "</div>"
      ],
      "text/plain": [
       "         Processed  date  favorites   id  retweets  text\n",
       "TeamTag                                                 \n",
       "BAN            965   965        965  965       965   965\n",
       "IND            623   623        623  623       623   623\n",
       "Neutral        332   332        332  332       332   332"
      ]
     },
     "execution_count": 15,
     "metadata": {},
     "output_type": "execute_result"
    }
   ],
   "source": [
    "# Get the summary of the tags created.\n",
    "\n",
    "summary = pd.pivot_table(combine, index = 'TeamTag',aggfunc ='count')\n",
    "summary"
   ]
  },
  {
   "cell_type": "code",
   "execution_count": 16,
   "metadata": {
    "pycharm": {
     "is_executing": true
    }
   },
   "outputs": [
    {
     "data": {
      "text/html": [
       "<div>\n",
       "<style scoped>\n",
       "    .dataframe tbody tr th:only-of-type {\n",
       "        vertical-align: middle;\n",
       "    }\n",
       "\n",
       "    .dataframe tbody tr th {\n",
       "        vertical-align: top;\n",
       "    }\n",
       "\n",
       "    .dataframe thead th {\n",
       "        text-align: right;\n",
       "    }\n",
       "</style>\n",
       "<table border=\"1\" class=\"dataframe\">\n",
       "  <thead>\n",
       "    <tr style=\"text-align: right;\">\n",
       "      <th></th>\n",
       "      <th>date</th>\n",
       "      <th>favorites</th>\n",
       "      <th>id</th>\n",
       "      <th>retweets</th>\n",
       "      <th>text</th>\n",
       "      <th>Processed</th>\n",
       "      <th>TeamTag</th>\n",
       "    </tr>\n",
       "  </thead>\n",
       "  <tbody>\n",
       "    <tr>\n",
       "      <td>0</td>\n",
       "      <td>2020-02-07 23:47</td>\n",
       "      <td>1</td>\n",
       "      <td>1225845943334924288</td>\n",
       "      <td>1</td>\n",
       "      <td>Which team going to win Under 19 Cricket World...</td>\n",
       "      <td>Which team going to win Under 19 Cricket World...</td>\n",
       "      <td>IND</td>\n",
       "    </tr>\n",
       "    <tr>\n",
       "      <td>1</td>\n",
       "      <td>2020-02-07 23:43</td>\n",
       "      <td>0</td>\n",
       "      <td>1225845158333177856</td>\n",
       "      <td>1</td>\n",
       "      <td>Can you guess '''' INDIA VS BANGLADESH Which t...</td>\n",
       "      <td>Can you guess '''' INDIA VS BANGLADESH Which t...</td>\n",
       "      <td>IND</td>\n",
       "    </tr>\n",
       "    <tr>\n",
       "      <td>2</td>\n",
       "      <td>2020-02-07 17:51</td>\n",
       "      <td>0</td>\n",
       "      <td>1225756525764857858</td>\n",
       "      <td>0</td>\n",
       "      <td>Best thing I like about yasashwi jaiswal is hi...</td>\n",
       "      <td>Best thing I like about yasashwi jaiswal is hi...</td>\n",
       "      <td>IND</td>\n",
       "    </tr>\n",
       "    <tr>\n",
       "      <td>3</td>\n",
       "      <td>2020-02-07 14:50</td>\n",
       "      <td>19</td>\n",
       "      <td>1225710925824417793</td>\n",
       "      <td>2</td>\n",
       "      <td>Feeling of Winning! Awesome! Congratulations! ...</td>\n",
       "      <td>Feeling of Winning! Awesome! Congratulations! ...</td>\n",
       "      <td>BAN</td>\n",
       "    </tr>\n",
       "    <tr>\n",
       "      <td>4</td>\n",
       "      <td>2020-02-07 13:34</td>\n",
       "      <td>1</td>\n",
       "      <td>1225691670735286272</td>\n",
       "      <td>0</td>\n",
       "      <td>All the Stats you need to know as we lookahead...</td>\n",
       "      <td>All the Stats you need to know as we lookahead...</td>\n",
       "      <td>IND</td>\n",
       "    </tr>\n",
       "  </tbody>\n",
       "</table>\n",
       "</div>"
      ],
      "text/plain": [
       "               date favorites                   id retweets  \\\n",
       "0  2020-02-07 23:47         1  1225845943334924288        1   \n",
       "1  2020-02-07 23:43         0  1225845158333177856        1   \n",
       "2  2020-02-07 17:51         0  1225756525764857858        0   \n",
       "3  2020-02-07 14:50        19  1225710925824417793        2   \n",
       "4  2020-02-07 13:34         1  1225691670735286272        0   \n",
       "\n",
       "                                                text  \\\n",
       "0  Which team going to win Under 19 Cricket World...   \n",
       "1  Can you guess '''' INDIA VS BANGLADESH Which t...   \n",
       "2  Best thing I like about yasashwi jaiswal is hi...   \n",
       "3  Feeling of Winning! Awesome! Congratulations! ...   \n",
       "4  All the Stats you need to know as we lookahead...   \n",
       "\n",
       "                                           Processed TeamTag  \n",
       "0  Which team going to win Under 19 Cricket World...     IND  \n",
       "1  Can you guess '''' INDIA VS BANGLADESH Which t...     IND  \n",
       "2  Best thing I like about yasashwi jaiswal is hi...     IND  \n",
       "3  Feeling of Winning! Awesome! Congratulations! ...     BAN  \n",
       "4  All the Stats you need to know as we lookahead...     IND  "
      ]
     },
     "execution_count": 16,
     "metadata": {},
     "output_type": "execute_result"
    }
   ],
   "source": [
    "combine.head(5)"
   ]
  },
  {
   "cell_type": "code",
   "execution_count": 17,
   "metadata": {
    "pycharm": {
     "is_executing": true
    }
   },
   "outputs": [
    {
     "data": {
      "text/html": [
       "<div>\n",
       "<style scoped>\n",
       "    .dataframe tbody tr th:only-of-type {\n",
       "        vertical-align: middle;\n",
       "    }\n",
       "\n",
       "    .dataframe tbody tr th {\n",
       "        vertical-align: top;\n",
       "    }\n",
       "\n",
       "    .dataframe thead th {\n",
       "        text-align: right;\n",
       "    }\n",
       "</style>\n",
       "<table border=\"1\" class=\"dataframe\">\n",
       "  <thead>\n",
       "    <tr style=\"text-align: right;\">\n",
       "      <th></th>\n",
       "      <th>date</th>\n",
       "      <th>favorites</th>\n",
       "      <th>id</th>\n",
       "      <th>retweets</th>\n",
       "      <th>text</th>\n",
       "      <th>Processed</th>\n",
       "      <th>TeamTag</th>\n",
       "    </tr>\n",
       "  </thead>\n",
       "  <tbody>\n",
       "    <tr>\n",
       "      <td>0</td>\n",
       "      <td>2020-02-07 23:47</td>\n",
       "      <td>1</td>\n",
       "      <td>1225845943334924288</td>\n",
       "      <td>1</td>\n",
       "      <td>Which team going to win Under 19 Cricket World...</td>\n",
       "      <td>Which team going to win Under 19 Cricket World...</td>\n",
       "      <td>IND</td>\n",
       "    </tr>\n",
       "    <tr>\n",
       "      <td>1</td>\n",
       "      <td>2020-02-07 23:43</td>\n",
       "      <td>0</td>\n",
       "      <td>1225845158333177856</td>\n",
       "      <td>1</td>\n",
       "      <td>Can you guess '''' INDIA VS BANGLADESH Which t...</td>\n",
       "      <td>Can you guess '''' INDIA VS BANGLADESH Which t...</td>\n",
       "      <td>IND</td>\n",
       "    </tr>\n",
       "    <tr>\n",
       "      <td>2</td>\n",
       "      <td>2020-02-07 17:51</td>\n",
       "      <td>0</td>\n",
       "      <td>1225756525764857858</td>\n",
       "      <td>0</td>\n",
       "      <td>Best thing I like about yasashwi jaiswal is hi...</td>\n",
       "      <td>Best thing I like about yasashwi jaiswal is hi...</td>\n",
       "      <td>IND</td>\n",
       "    </tr>\n",
       "    <tr>\n",
       "      <td>3</td>\n",
       "      <td>2020-02-07 14:50</td>\n",
       "      <td>19</td>\n",
       "      <td>1225710925824417793</td>\n",
       "      <td>2</td>\n",
       "      <td>Feeling of Winning! Awesome! Congratulations! ...</td>\n",
       "      <td>Feeling of Winning! Awesome! Congratulations! ...</td>\n",
       "      <td>BAN</td>\n",
       "    </tr>\n",
       "    <tr>\n",
       "      <td>4</td>\n",
       "      <td>2020-02-07 13:34</td>\n",
       "      <td>1</td>\n",
       "      <td>1225691670735286272</td>\n",
       "      <td>0</td>\n",
       "      <td>All the Stats you need to know as we lookahead...</td>\n",
       "      <td>All the Stats you need to know as we lookahead...</td>\n",
       "      <td>IND</td>\n",
       "    </tr>\n",
       "  </tbody>\n",
       "</table>\n",
       "</div>"
      ],
      "text/plain": [
       "               date favorites                   id retweets  \\\n",
       "0  2020-02-07 23:47         1  1225845943334924288        1   \n",
       "1  2020-02-07 23:43         0  1225845158333177856        1   \n",
       "2  2020-02-07 17:51         0  1225756525764857858        0   \n",
       "3  2020-02-07 14:50        19  1225710925824417793        2   \n",
       "4  2020-02-07 13:34         1  1225691670735286272        0   \n",
       "\n",
       "                                                text  \\\n",
       "0  Which team going to win Under 19 Cricket World...   \n",
       "1  Can you guess '''' INDIA VS BANGLADESH Which t...   \n",
       "2  Best thing I like about yasashwi jaiswal is hi...   \n",
       "3  Feeling of Winning! Awesome! Congratulations! ...   \n",
       "4  All the Stats you need to know as we lookahead...   \n",
       "\n",
       "                                           Processed TeamTag  \n",
       "0  Which team going to win Under 19 Cricket World...     IND  \n",
       "1  Can you guess '''' INDIA VS BANGLADESH Which t...     IND  \n",
       "2  Best thing I like about yasashwi jaiswal is hi...     IND  \n",
       "3  Feeling of Winning! Awesome! Congratulations! ...     BAN  \n",
       "4  All the Stats you need to know as we lookahead...     IND  "
      ]
     },
     "execution_count": 17,
     "metadata": {},
     "output_type": "execute_result"
    }
   ],
   "source": [
    "# Remove the Neutral tweets from the outcome\n",
    "\n",
    "\n",
    "final = combine[combine['TeamTag']!='Neutral']\n",
    "final.head(5)"
   ]
  },
  {
   "cell_type": "code",
   "execution_count": 18,
   "metadata": {
    "pycharm": {
     "is_executing": true
    }
   },
   "outputs": [
    {
     "data": {
      "text/plain": [
       "1588"
      ]
     },
     "execution_count": 18,
     "metadata": {},
     "output_type": "execute_result"
    }
   ],
   "source": [
    "len(final)"
   ]
  },
  {
   "cell_type": "code",
   "execution_count": 19,
   "metadata": {},
   "outputs": [
    {
     "name": "stderr",
     "output_type": "stream",
     "text": [
      "c:\\users\\amitb\\pycharmprojects\\cricwintweet\\venv\\lib\\site-packages\\pandas\\core\\indexing.py:376: SettingWithCopyWarning: \n",
      "A value is trying to be set on a copy of a slice from a DataFrame.\n",
      "Try using .loc[row_indexer,col_indexer] = value instead\n",
      "\n",
      "See the caveats in the documentation: http://pandas.pydata.org/pandas-docs/stable/user_guide/indexing.html#returning-a-view-versus-a-copy\n",
      "  self.obj[key] = _infer_fill_value(value)\n",
      "c:\\users\\amitb\\pycharmprojects\\cricwintweet\\venv\\lib\\site-packages\\pandas\\core\\indexing.py:494: SettingWithCopyWarning: \n",
      "A value is trying to be set on a copy of a slice from a DataFrame.\n",
      "Try using .loc[row_indexer,col_indexer] = value instead\n",
      "\n",
      "See the caveats in the documentation: http://pandas.pydata.org/pandas-docs/stable/user_guide/indexing.html#returning-a-view-versus-a-copy\n",
      "  self.obj[item] = s\n"
     ]
    },
    {
     "data": {
      "text/plain": [
       "1588"
      ]
     },
     "execution_count": 19,
     "metadata": {},
     "output_type": "execute_result"
    }
   ],
   "source": [
    "# Removing columns where length of the processed text is 0\n",
    "\n",
    "final.loc[:,'length'] = [len(x) for x in final['Processed']]\n",
    "final = final.query('length!=0')\n",
    "\n",
    "len(final)"
   ]
  },
  {
   "cell_type": "code",
   "execution_count": 20,
   "metadata": {},
   "outputs": [],
   "source": [
    "final.loc[:,'Processed_Vader'] = [x for x in final['Processed']]"
   ]
  },
  {
   "cell_type": "code",
   "execution_count": 21,
   "metadata": {
    "pycharm": {
     "is_executing": true
    }
   },
   "outputs": [],
   "source": [
    "# Remove special characters excluding spaces\n",
    "\n",
    "def clear_special_char(str):\n",
    "    return re.sub('[^A-Za-z0-9 ]+',\"\",str)"
   ]
  },
  {
   "cell_type": "code",
   "execution_count": 22,
   "metadata": {
    "pycharm": {
     "is_executing": true
    }
   },
   "outputs": [],
   "source": [
    "# Clearing out the special characters for Text Blob function. We need the special characters for Vader sentiment analyser.\n",
    "final.loc[:,'Processed'] = [clear_special_char(x) for x in final['Processed']]"
   ]
  },
  {
   "cell_type": "code",
   "execution_count": 23,
   "metadata": {
    "pycharm": {
     "is_executing": true
    }
   },
   "outputs": [
    {
     "data": {
      "text/plain": [
       "0      Which team going to win Under 19 Cricket World...\n",
       "1      Can you guess  INDIA VS BANGLADESH Which team ...\n",
       "2      Best thing I like about yasashwi jaiswal is hi...\n",
       "3      Feeling of Winning Awesome Congratulations       \n",
       "4      All the Stats you need to know as we lookahead...\n",
       "                             ...                        \n",
       "184    Inspirational Journey of  from panipuri boy to...\n",
       "186    Panipuri boy 2  hero Inspirational Journey  it...\n",
       "188    NZ U19 vs Ban U19 Super League SemiFinal 2 Sco...\n",
       "189    NZ U19 vs Ban U19 Super League SemiFinal 2  IC...\n",
       "192    Simple run rate rule in place of complicated D...\n",
       "Name: Processed, Length: 1588, dtype: object"
      ]
     },
     "execution_count": 23,
     "metadata": {},
     "output_type": "execute_result"
    }
   ],
   "source": [
    "final['Processed']"
   ]
  },
  {
   "cell_type": "code",
   "execution_count": 24,
   "metadata": {
    "pycharm": {
     "is_executing": true
    }
   },
   "outputs": [],
   "source": [
    "#final['Score_text'] = [TextBlob(x).polarity for x in final['Processed']]\n",
    "\n",
    "final.loc[:,'Score_text'] = [TextBlob(x).polarity for x in final['Processed']]"
   ]
  },
  {
   "cell_type": "code",
   "execution_count": 25,
   "metadata": {
    "pycharm": {
     "is_executing": true
    }
   },
   "outputs": [
    {
     "data": {
      "text/html": [
       "<div>\n",
       "<style scoped>\n",
       "    .dataframe tbody tr th:only-of-type {\n",
       "        vertical-align: middle;\n",
       "    }\n",
       "\n",
       "    .dataframe tbody tr th {\n",
       "        vertical-align: top;\n",
       "    }\n",
       "\n",
       "    .dataframe thead th {\n",
       "        text-align: right;\n",
       "    }\n",
       "</style>\n",
       "<table border=\"1\" class=\"dataframe\">\n",
       "  <thead>\n",
       "    <tr style=\"text-align: right;\">\n",
       "      <th></th>\n",
       "      <th>date</th>\n",
       "      <th>favorites</th>\n",
       "      <th>id</th>\n",
       "      <th>retweets</th>\n",
       "      <th>text</th>\n",
       "      <th>Processed</th>\n",
       "      <th>TeamTag</th>\n",
       "      <th>length</th>\n",
       "      <th>Processed_Vader</th>\n",
       "      <th>Score_text</th>\n",
       "    </tr>\n",
       "  </thead>\n",
       "  <tbody>\n",
       "    <tr>\n",
       "      <td>0</td>\n",
       "      <td>2020-02-07 23:47</td>\n",
       "      <td>1</td>\n",
       "      <td>1225845943334924288</td>\n",
       "      <td>1</td>\n",
       "      <td>Which team going to win Under 19 Cricket World...</td>\n",
       "      <td>Which team going to win Under 19 Cricket World...</td>\n",
       "      <td>IND</td>\n",
       "      <td>95</td>\n",
       "      <td>Which team going to win Under 19 Cricket World...</td>\n",
       "      <td>0.65</td>\n",
       "    </tr>\n",
       "    <tr>\n",
       "      <td>1</td>\n",
       "      <td>2020-02-07 23:43</td>\n",
       "      <td>0</td>\n",
       "      <td>1225845158333177856</td>\n",
       "      <td>1</td>\n",
       "      <td>Can you guess '''' INDIA VS BANGLADESH Which t...</td>\n",
       "      <td>Can you guess  INDIA VS BANGLADESH Which team ...</td>\n",
       "      <td>IND</td>\n",
       "      <td>100</td>\n",
       "      <td>Can you guess '''' INDIA VS BANGLADESH Which t...</td>\n",
       "      <td>0.65</td>\n",
       "    </tr>\n",
       "    <tr>\n",
       "      <td>2</td>\n",
       "      <td>2020-02-07 17:51</td>\n",
       "      <td>0</td>\n",
       "      <td>1225756525764857858</td>\n",
       "      <td>0</td>\n",
       "      <td>Best thing I like about yasashwi jaiswal is hi...</td>\n",
       "      <td>Best thing I like about yasashwi jaiswal is hi...</td>\n",
       "      <td>IND</td>\n",
       "      <td>218</td>\n",
       "      <td>Best thing I like about yasashwi jaiswal is hi...</td>\n",
       "      <td>0.32</td>\n",
       "    </tr>\n",
       "    <tr>\n",
       "      <td>3</td>\n",
       "      <td>2020-02-07 14:50</td>\n",
       "      <td>19</td>\n",
       "      <td>1225710925824417793</td>\n",
       "      <td>2</td>\n",
       "      <td>Feeling of Winning! Awesome! Congratulations! ...</td>\n",
       "      <td>Feeling of Winning Awesome Congratulations</td>\n",
       "      <td>BAN</td>\n",
       "      <td>52</td>\n",
       "      <td>Feeling of Winning! Awesome! Congratulations! ...</td>\n",
       "      <td>0.75</td>\n",
       "    </tr>\n",
       "    <tr>\n",
       "      <td>4</td>\n",
       "      <td>2020-02-07 13:34</td>\n",
       "      <td>1</td>\n",
       "      <td>1225691670735286272</td>\n",
       "      <td>0</td>\n",
       "      <td>All the Stats you need to know as we lookahead...</td>\n",
       "      <td>All the Stats you need to know as we lookahead...</td>\n",
       "      <td>IND</td>\n",
       "      <td>92</td>\n",
       "      <td>All the Stats you need to know as we lookahead...</td>\n",
       "      <td>0.00</td>\n",
       "    </tr>\n",
       "  </tbody>\n",
       "</table>\n",
       "</div>"
      ],
      "text/plain": [
       "               date favorites                   id retweets  \\\n",
       "0  2020-02-07 23:47         1  1225845943334924288        1   \n",
       "1  2020-02-07 23:43         0  1225845158333177856        1   \n",
       "2  2020-02-07 17:51         0  1225756525764857858        0   \n",
       "3  2020-02-07 14:50        19  1225710925824417793        2   \n",
       "4  2020-02-07 13:34         1  1225691670735286272        0   \n",
       "\n",
       "                                                text  \\\n",
       "0  Which team going to win Under 19 Cricket World...   \n",
       "1  Can you guess '''' INDIA VS BANGLADESH Which t...   \n",
       "2  Best thing I like about yasashwi jaiswal is hi...   \n",
       "3  Feeling of Winning! Awesome! Congratulations! ...   \n",
       "4  All the Stats you need to know as we lookahead...   \n",
       "\n",
       "                                           Processed TeamTag  length  \\\n",
       "0  Which team going to win Under 19 Cricket World...     IND      95   \n",
       "1  Can you guess  INDIA VS BANGLADESH Which team ...     IND     100   \n",
       "2  Best thing I like about yasashwi jaiswal is hi...     IND     218   \n",
       "3  Feeling of Winning Awesome Congratulations            BAN      52   \n",
       "4  All the Stats you need to know as we lookahead...     IND      92   \n",
       "\n",
       "                                     Processed_Vader  Score_text  \n",
       "0  Which team going to win Under 19 Cricket World...        0.65  \n",
       "1  Can you guess '''' INDIA VS BANGLADESH Which t...        0.65  \n",
       "2  Best thing I like about yasashwi jaiswal is hi...        0.32  \n",
       "3  Feeling of Winning! Awesome! Congratulations! ...        0.75  \n",
       "4  All the Stats you need to know as we lookahead...        0.00  "
      ]
     },
     "execution_count": 25,
     "metadata": {},
     "output_type": "execute_result"
    }
   ],
   "source": [
    "final.head(5)"
   ]
  },
  {
   "cell_type": "code",
   "execution_count": 26,
   "metadata": {
    "pycharm": {
     "is_executing": true
    }
   },
   "outputs": [],
   "source": [
    "from vaderSentiment.vaderSentiment import SentimentIntensityAnalyzer\n",
    "analyser = SentimentIntensityAnalyzer()"
   ]
  },
  {
   "cell_type": "code",
   "execution_count": 27,
   "metadata": {
    "pycharm": {
     "is_executing": true
    }
   },
   "outputs": [],
   "source": [
    "# Function to return the compound score of Vader sentiment analyser\n",
    "def sentiment_analyzer_scores(sentence):\n",
    "    score = analyser.polarity_scores(sentence)['compound']\n",
    "    return score"
   ]
  },
  {
   "cell_type": "code",
   "execution_count": 28,
   "metadata": {
    "pycharm": {
     "is_executing": true
    }
   },
   "outputs": [],
   "source": [
    "#final['Score_text_vader'] = [sentiment_analyzer_scores(x) for x in final['Processed']]\n",
    "\n",
    "final.loc[:,'Score_text_vader'] = [sentiment_analyzer_scores(x) for x in final['Processed_Vader']]"
   ]
  },
  {
   "cell_type": "code",
   "execution_count": 29,
   "metadata": {
    "pycharm": {
     "is_executing": true
    }
   },
   "outputs": [
    {
     "data": {
      "text/html": [
       "<div>\n",
       "<style scoped>\n",
       "    .dataframe tbody tr th:only-of-type {\n",
       "        vertical-align: middle;\n",
       "    }\n",
       "\n",
       "    .dataframe tbody tr th {\n",
       "        vertical-align: top;\n",
       "    }\n",
       "\n",
       "    .dataframe thead th {\n",
       "        text-align: right;\n",
       "    }\n",
       "</style>\n",
       "<table border=\"1\" class=\"dataframe\">\n",
       "  <thead>\n",
       "    <tr style=\"text-align: right;\">\n",
       "      <th></th>\n",
       "      <th>date</th>\n",
       "      <th>favorites</th>\n",
       "      <th>id</th>\n",
       "      <th>retweets</th>\n",
       "      <th>text</th>\n",
       "      <th>Processed</th>\n",
       "      <th>TeamTag</th>\n",
       "      <th>length</th>\n",
       "      <th>Processed_Vader</th>\n",
       "      <th>Score_text</th>\n",
       "      <th>Score_text_vader</th>\n",
       "    </tr>\n",
       "  </thead>\n",
       "  <tbody>\n",
       "    <tr>\n",
       "      <td>0</td>\n",
       "      <td>2020-02-07 23:47</td>\n",
       "      <td>1</td>\n",
       "      <td>1225845943334924288</td>\n",
       "      <td>1</td>\n",
       "      <td>Which team going to win Under 19 Cricket World...</td>\n",
       "      <td>Which team going to win Under 19 Cricket World...</td>\n",
       "      <td>IND</td>\n",
       "      <td>95</td>\n",
       "      <td>Which team going to win Under 19 Cricket World...</td>\n",
       "      <td>0.65</td>\n",
       "      <td>0.6361</td>\n",
       "    </tr>\n",
       "    <tr>\n",
       "      <td>1</td>\n",
       "      <td>2020-02-07 23:43</td>\n",
       "      <td>0</td>\n",
       "      <td>1225845158333177856</td>\n",
       "      <td>1</td>\n",
       "      <td>Can you guess '''' INDIA VS BANGLADESH Which t...</td>\n",
       "      <td>Can you guess  INDIA VS BANGLADESH Which team ...</td>\n",
       "      <td>IND</td>\n",
       "      <td>100</td>\n",
       "      <td>Can you guess '''' INDIA VS BANGLADESH Which t...</td>\n",
       "      <td>0.65</td>\n",
       "      <td>0.6361</td>\n",
       "    </tr>\n",
       "    <tr>\n",
       "      <td>2</td>\n",
       "      <td>2020-02-07 17:51</td>\n",
       "      <td>0</td>\n",
       "      <td>1225756525764857858</td>\n",
       "      <td>0</td>\n",
       "      <td>Best thing I like about yasashwi jaiswal is hi...</td>\n",
       "      <td>Best thing I like about yasashwi jaiswal is hi...</td>\n",
       "      <td>IND</td>\n",
       "      <td>218</td>\n",
       "      <td>Best thing I like about yasashwi jaiswal is hi...</td>\n",
       "      <td>0.32</td>\n",
       "      <td>0.8158</td>\n",
       "    </tr>\n",
       "    <tr>\n",
       "      <td>3</td>\n",
       "      <td>2020-02-07 14:50</td>\n",
       "      <td>19</td>\n",
       "      <td>1225710925824417793</td>\n",
       "      <td>2</td>\n",
       "      <td>Feeling of Winning! Awesome! Congratulations! ...</td>\n",
       "      <td>Feeling of Winning Awesome Congratulations</td>\n",
       "      <td>BAN</td>\n",
       "      <td>52</td>\n",
       "      <td>Feeling of Winning! Awesome! Congratulations! ...</td>\n",
       "      <td>0.75</td>\n",
       "      <td>0.9297</td>\n",
       "    </tr>\n",
       "    <tr>\n",
       "      <td>4</td>\n",
       "      <td>2020-02-07 13:34</td>\n",
       "      <td>1</td>\n",
       "      <td>1225691670735286272</td>\n",
       "      <td>0</td>\n",
       "      <td>All the Stats you need to know as we lookahead...</td>\n",
       "      <td>All the Stats you need to know as we lookahead...</td>\n",
       "      <td>IND</td>\n",
       "      <td>92</td>\n",
       "      <td>All the Stats you need to know as we lookahead...</td>\n",
       "      <td>0.00</td>\n",
       "      <td>0.0000</td>\n",
       "    </tr>\n",
       "  </tbody>\n",
       "</table>\n",
       "</div>"
      ],
      "text/plain": [
       "               date favorites                   id retweets  \\\n",
       "0  2020-02-07 23:47         1  1225845943334924288        1   \n",
       "1  2020-02-07 23:43         0  1225845158333177856        1   \n",
       "2  2020-02-07 17:51         0  1225756525764857858        0   \n",
       "3  2020-02-07 14:50        19  1225710925824417793        2   \n",
       "4  2020-02-07 13:34         1  1225691670735286272        0   \n",
       "\n",
       "                                                text  \\\n",
       "0  Which team going to win Under 19 Cricket World...   \n",
       "1  Can you guess '''' INDIA VS BANGLADESH Which t...   \n",
       "2  Best thing I like about yasashwi jaiswal is hi...   \n",
       "3  Feeling of Winning! Awesome! Congratulations! ...   \n",
       "4  All the Stats you need to know as we lookahead...   \n",
       "\n",
       "                                           Processed TeamTag  length  \\\n",
       "0  Which team going to win Under 19 Cricket World...     IND      95   \n",
       "1  Can you guess  INDIA VS BANGLADESH Which team ...     IND     100   \n",
       "2  Best thing I like about yasashwi jaiswal is hi...     IND     218   \n",
       "3  Feeling of Winning Awesome Congratulations            BAN      52   \n",
       "4  All the Stats you need to know as we lookahead...     IND      92   \n",
       "\n",
       "                                     Processed_Vader  Score_text  \\\n",
       "0  Which team going to win Under 19 Cricket World...        0.65   \n",
       "1  Can you guess '''' INDIA VS BANGLADESH Which t...        0.65   \n",
       "2  Best thing I like about yasashwi jaiswal is hi...        0.32   \n",
       "3  Feeling of Winning! Awesome! Congratulations! ...        0.75   \n",
       "4  All the Stats you need to know as we lookahead...        0.00   \n",
       "\n",
       "   Score_text_vader  \n",
       "0            0.6361  \n",
       "1            0.6361  \n",
       "2            0.8158  \n",
       "3            0.9297  \n",
       "4            0.0000  "
      ]
     },
     "execution_count": 29,
     "metadata": {},
     "output_type": "execute_result"
    }
   ],
   "source": [
    "final.head(5)"
   ]
  },
  {
   "cell_type": "code",
   "execution_count": 30,
   "metadata": {
    "pycharm": {
     "is_executing": true
    }
   },
   "outputs": [],
   "source": [
    "def sign_pos_neg(val):\n",
    "    out = ''\n",
    "    if val < 0:\n",
    "        out = 'Negative'\n",
    "    elif val > 0:\n",
    "       out = 'Positive'\n",
    "    else:\n",
    "        out = 'Neutral'\n",
    "    return(out)\n"
   ]
  },
  {
   "cell_type": "code",
   "execution_count": 31,
   "metadata": {
    "pycharm": {
     "is_executing": true
    }
   },
   "outputs": [],
   "source": [
    "final['Sign_text'] = [sign_pos_neg(x) for x in final['Score_text']]"
   ]
  },
  {
   "cell_type": "code",
   "execution_count": 32,
   "metadata": {
    "pycharm": {
     "is_executing": true
    }
   },
   "outputs": [],
   "source": [
    "final['Sign_vader'] = [sign_pos_neg(x) for x in final['Score_text_vader']]"
   ]
  },
  {
   "cell_type": "code",
   "execution_count": 33,
   "metadata": {
    "pycharm": {
     "is_executing": true
    }
   },
   "outputs": [
    {
     "data": {
      "text/html": [
       "<div>\n",
       "<style scoped>\n",
       "    .dataframe tbody tr th:only-of-type {\n",
       "        vertical-align: middle;\n",
       "    }\n",
       "\n",
       "    .dataframe tbody tr th {\n",
       "        vertical-align: top;\n",
       "    }\n",
       "\n",
       "    .dataframe thead th {\n",
       "        text-align: right;\n",
       "    }\n",
       "</style>\n",
       "<table border=\"1\" class=\"dataframe\">\n",
       "  <thead>\n",
       "    <tr style=\"text-align: right;\">\n",
       "      <th></th>\n",
       "      <th>date</th>\n",
       "      <th>favorites</th>\n",
       "      <th>id</th>\n",
       "      <th>retweets</th>\n",
       "      <th>text</th>\n",
       "      <th>Processed</th>\n",
       "      <th>TeamTag</th>\n",
       "      <th>length</th>\n",
       "      <th>Processed_Vader</th>\n",
       "      <th>Score_text</th>\n",
       "      <th>Score_text_vader</th>\n",
       "      <th>Sign_text</th>\n",
       "      <th>Sign_vader</th>\n",
       "    </tr>\n",
       "  </thead>\n",
       "  <tbody>\n",
       "    <tr>\n",
       "      <td>0</td>\n",
       "      <td>2020-02-07 23:47</td>\n",
       "      <td>1</td>\n",
       "      <td>1225845943334924288</td>\n",
       "      <td>1</td>\n",
       "      <td>Which team going to win Under 19 Cricket World...</td>\n",
       "      <td>Which team going to win Under 19 Cricket World...</td>\n",
       "      <td>IND</td>\n",
       "      <td>95</td>\n",
       "      <td>Which team going to win Under 19 Cricket World...</td>\n",
       "      <td>0.65</td>\n",
       "      <td>0.6361</td>\n",
       "      <td>Positive</td>\n",
       "      <td>Positive</td>\n",
       "    </tr>\n",
       "    <tr>\n",
       "      <td>1</td>\n",
       "      <td>2020-02-07 23:43</td>\n",
       "      <td>0</td>\n",
       "      <td>1225845158333177856</td>\n",
       "      <td>1</td>\n",
       "      <td>Can you guess '''' INDIA VS BANGLADESH Which t...</td>\n",
       "      <td>Can you guess  INDIA VS BANGLADESH Which team ...</td>\n",
       "      <td>IND</td>\n",
       "      <td>100</td>\n",
       "      <td>Can you guess '''' INDIA VS BANGLADESH Which t...</td>\n",
       "      <td>0.65</td>\n",
       "      <td>0.6361</td>\n",
       "      <td>Positive</td>\n",
       "      <td>Positive</td>\n",
       "    </tr>\n",
       "    <tr>\n",
       "      <td>2</td>\n",
       "      <td>2020-02-07 17:51</td>\n",
       "      <td>0</td>\n",
       "      <td>1225756525764857858</td>\n",
       "      <td>0</td>\n",
       "      <td>Best thing I like about yasashwi jaiswal is hi...</td>\n",
       "      <td>Best thing I like about yasashwi jaiswal is hi...</td>\n",
       "      <td>IND</td>\n",
       "      <td>218</td>\n",
       "      <td>Best thing I like about yasashwi jaiswal is hi...</td>\n",
       "      <td>0.32</td>\n",
       "      <td>0.8158</td>\n",
       "      <td>Positive</td>\n",
       "      <td>Positive</td>\n",
       "    </tr>\n",
       "    <tr>\n",
       "      <td>3</td>\n",
       "      <td>2020-02-07 14:50</td>\n",
       "      <td>19</td>\n",
       "      <td>1225710925824417793</td>\n",
       "      <td>2</td>\n",
       "      <td>Feeling of Winning! Awesome! Congratulations! ...</td>\n",
       "      <td>Feeling of Winning Awesome Congratulations</td>\n",
       "      <td>BAN</td>\n",
       "      <td>52</td>\n",
       "      <td>Feeling of Winning! Awesome! Congratulations! ...</td>\n",
       "      <td>0.75</td>\n",
       "      <td>0.9297</td>\n",
       "      <td>Positive</td>\n",
       "      <td>Positive</td>\n",
       "    </tr>\n",
       "    <tr>\n",
       "      <td>4</td>\n",
       "      <td>2020-02-07 13:34</td>\n",
       "      <td>1</td>\n",
       "      <td>1225691670735286272</td>\n",
       "      <td>0</td>\n",
       "      <td>All the Stats you need to know as we lookahead...</td>\n",
       "      <td>All the Stats you need to know as we lookahead...</td>\n",
       "      <td>IND</td>\n",
       "      <td>92</td>\n",
       "      <td>All the Stats you need to know as we lookahead...</td>\n",
       "      <td>0.00</td>\n",
       "      <td>0.0000</td>\n",
       "      <td>Neutral</td>\n",
       "      <td>Neutral</td>\n",
       "    </tr>\n",
       "  </tbody>\n",
       "</table>\n",
       "</div>"
      ],
      "text/plain": [
       "               date favorites                   id retweets  \\\n",
       "0  2020-02-07 23:47         1  1225845943334924288        1   \n",
       "1  2020-02-07 23:43         0  1225845158333177856        1   \n",
       "2  2020-02-07 17:51         0  1225756525764857858        0   \n",
       "3  2020-02-07 14:50        19  1225710925824417793        2   \n",
       "4  2020-02-07 13:34         1  1225691670735286272        0   \n",
       "\n",
       "                                                text  \\\n",
       "0  Which team going to win Under 19 Cricket World...   \n",
       "1  Can you guess '''' INDIA VS BANGLADESH Which t...   \n",
       "2  Best thing I like about yasashwi jaiswal is hi...   \n",
       "3  Feeling of Winning! Awesome! Congratulations! ...   \n",
       "4  All the Stats you need to know as we lookahead...   \n",
       "\n",
       "                                           Processed TeamTag  length  \\\n",
       "0  Which team going to win Under 19 Cricket World...     IND      95   \n",
       "1  Can you guess  INDIA VS BANGLADESH Which team ...     IND     100   \n",
       "2  Best thing I like about yasashwi jaiswal is hi...     IND     218   \n",
       "3  Feeling of Winning Awesome Congratulations            BAN      52   \n",
       "4  All the Stats you need to know as we lookahead...     IND      92   \n",
       "\n",
       "                                     Processed_Vader  Score_text  \\\n",
       "0  Which team going to win Under 19 Cricket World...        0.65   \n",
       "1  Can you guess '''' INDIA VS BANGLADESH Which t...        0.65   \n",
       "2  Best thing I like about yasashwi jaiswal is hi...        0.32   \n",
       "3  Feeling of Winning! Awesome! Congratulations! ...        0.75   \n",
       "4  All the Stats you need to know as we lookahead...        0.00   \n",
       "\n",
       "   Score_text_vader Sign_text Sign_vader  \n",
       "0            0.6361  Positive   Positive  \n",
       "1            0.6361  Positive   Positive  \n",
       "2            0.8158  Positive   Positive  \n",
       "3            0.9297  Positive   Positive  \n",
       "4            0.0000   Neutral    Neutral  "
      ]
     },
     "execution_count": 33,
     "metadata": {},
     "output_type": "execute_result"
    }
   ],
   "source": [
    "final.head(5)"
   ]
  },
  {
   "cell_type": "code",
   "execution_count": 34,
   "metadata": {
    "pycharm": {
     "is_executing": true
    }
   },
   "outputs": [],
   "source": [
    "final.to_csv('Final_Values.csv')"
   ]
  },
  {
   "cell_type": "code",
   "execution_count": 35,
   "metadata": {
    "pycharm": {
     "is_executing": true
    }
   },
   "outputs": [
    {
     "data": {
      "text/html": [
       "<div>\n",
       "<style scoped>\n",
       "    .dataframe tbody tr th:only-of-type {\n",
       "        vertical-align: middle;\n",
       "    }\n",
       "\n",
       "    .dataframe tbody tr th {\n",
       "        vertical-align: top;\n",
       "    }\n",
       "\n",
       "    .dataframe thead th {\n",
       "        text-align: right;\n",
       "    }\n",
       "</style>\n",
       "<table border=\"1\" class=\"dataframe\">\n",
       "  <thead>\n",
       "    <tr style=\"text-align: right;\">\n",
       "      <th>Sign_text</th>\n",
       "      <th>Negative</th>\n",
       "      <th>Neutral</th>\n",
       "      <th>Positive</th>\n",
       "    </tr>\n",
       "    <tr>\n",
       "      <th>TeamTag</th>\n",
       "      <th></th>\n",
       "      <th></th>\n",
       "      <th></th>\n",
       "    </tr>\n",
       "  </thead>\n",
       "  <tbody>\n",
       "    <tr>\n",
       "      <td>BAN</td>\n",
       "      <td>-0.110387</td>\n",
       "      <td>0.0</td>\n",
       "      <td>0.314424</td>\n",
       "    </tr>\n",
       "    <tr>\n",
       "      <td>IND</td>\n",
       "      <td>-0.186637</td>\n",
       "      <td>0.0</td>\n",
       "      <td>0.373777</td>\n",
       "    </tr>\n",
       "  </tbody>\n",
       "</table>\n",
       "</div>"
      ],
      "text/plain": [
       "Sign_text  Negative  Neutral  Positive\n",
       "TeamTag                               \n",
       "BAN       -0.110387      0.0  0.314424\n",
       "IND       -0.186637      0.0  0.373777"
      ]
     },
     "execution_count": 35,
     "metadata": {},
     "output_type": "execute_result"
    }
   ],
   "source": [
    "summary_textBlob = pd.pivot_table(final, index = 'TeamTag', columns= 'Sign_text', values = 'Score_text',aggfunc ='mean')\n",
    "\n",
    "summary_textBlob\n"
   ]
  },
  {
   "cell_type": "code",
   "execution_count": 36,
   "metadata": {},
   "outputs": [
    {
     "data": {
      "text/html": [
       "<div>\n",
       "<style scoped>\n",
       "    .dataframe tbody tr th:only-of-type {\n",
       "        vertical-align: middle;\n",
       "    }\n",
       "\n",
       "    .dataframe tbody tr th {\n",
       "        vertical-align: top;\n",
       "    }\n",
       "\n",
       "    .dataframe thead th {\n",
       "        text-align: right;\n",
       "    }\n",
       "</style>\n",
       "<table border=\"1\" class=\"dataframe\">\n",
       "  <thead>\n",
       "    <tr style=\"text-align: right;\">\n",
       "      <th>Sign_text</th>\n",
       "      <th>Negative</th>\n",
       "      <th>Neutral</th>\n",
       "      <th>Positive</th>\n",
       "    </tr>\n",
       "    <tr>\n",
       "      <th>TeamTag</th>\n",
       "      <th></th>\n",
       "      <th></th>\n",
       "      <th></th>\n",
       "    </tr>\n",
       "  </thead>\n",
       "  <tbody>\n",
       "    <tr>\n",
       "      <td>BAN</td>\n",
       "      <td>32</td>\n",
       "      <td>335</td>\n",
       "      <td>598</td>\n",
       "    </tr>\n",
       "    <tr>\n",
       "      <td>IND</td>\n",
       "      <td>33</td>\n",
       "      <td>345</td>\n",
       "      <td>245</td>\n",
       "    </tr>\n",
       "  </tbody>\n",
       "</table>\n",
       "</div>"
      ],
      "text/plain": [
       "Sign_text  Negative  Neutral  Positive\n",
       "TeamTag                               \n",
       "BAN              32      335       598\n",
       "IND              33      345       245"
      ]
     },
     "execution_count": 36,
     "metadata": {},
     "output_type": "execute_result"
    }
   ],
   "source": [
    "summary_textBlob_count = pd.pivot_table(final, index = 'TeamTag', columns= 'Sign_text', values = 'Score_text',aggfunc ='count')\n",
    "\n",
    "summary_textBlob_count\n"
   ]
  },
  {
   "cell_type": "code",
   "execution_count": 37,
   "metadata": {
    "pycharm": {
     "is_executing": true
    }
   },
   "outputs": [
    {
     "data": {
      "text/html": [
       "<div>\n",
       "<style scoped>\n",
       "    .dataframe tbody tr th:only-of-type {\n",
       "        vertical-align: middle;\n",
       "    }\n",
       "\n",
       "    .dataframe tbody tr th {\n",
       "        vertical-align: top;\n",
       "    }\n",
       "\n",
       "    .dataframe thead th {\n",
       "        text-align: right;\n",
       "    }\n",
       "</style>\n",
       "<table border=\"1\" class=\"dataframe\">\n",
       "  <thead>\n",
       "    <tr style=\"text-align: right;\">\n",
       "      <th>Sign_vader</th>\n",
       "      <th>Negative</th>\n",
       "      <th>Neutral</th>\n",
       "      <th>Positive</th>\n",
       "    </tr>\n",
       "    <tr>\n",
       "      <th>TeamTag</th>\n",
       "      <th></th>\n",
       "      <th></th>\n",
       "      <th></th>\n",
       "    </tr>\n",
       "  </thead>\n",
       "  <tbody>\n",
       "    <tr>\n",
       "      <td>BAN</td>\n",
       "      <td>-0.438419</td>\n",
       "      <td>0.0</td>\n",
       "      <td>0.614496</td>\n",
       "    </tr>\n",
       "    <tr>\n",
       "      <td>IND</td>\n",
       "      <td>-0.462761</td>\n",
       "      <td>0.0</td>\n",
       "      <td>0.598732</td>\n",
       "    </tr>\n",
       "  </tbody>\n",
       "</table>\n",
       "</div>"
      ],
      "text/plain": [
       "Sign_vader  Negative  Neutral  Positive\n",
       "TeamTag                                \n",
       "BAN        -0.438419      0.0  0.614496\n",
       "IND        -0.462761      0.0  0.598732"
      ]
     },
     "execution_count": 37,
     "metadata": {},
     "output_type": "execute_result"
    }
   ],
   "source": [
    "summary_vader = pd.pivot_table(final, index = 'TeamTag', columns= 'Sign_vader', values = 'Score_text_vader',aggfunc ='mean')\n",
    "\n",
    "summary_vader\n"
   ]
  },
  {
   "cell_type": "code",
   "execution_count": 38,
   "metadata": {},
   "outputs": [
    {
     "data": {
      "text/html": [
       "<div>\n",
       "<style scoped>\n",
       "    .dataframe tbody tr th:only-of-type {\n",
       "        vertical-align: middle;\n",
       "    }\n",
       "\n",
       "    .dataframe tbody tr th {\n",
       "        vertical-align: top;\n",
       "    }\n",
       "\n",
       "    .dataframe thead th {\n",
       "        text-align: right;\n",
       "    }\n",
       "</style>\n",
       "<table border=\"1\" class=\"dataframe\">\n",
       "  <thead>\n",
       "    <tr style=\"text-align: right;\">\n",
       "      <th>Sign_vader</th>\n",
       "      <th>Negative</th>\n",
       "      <th>Neutral</th>\n",
       "      <th>Positive</th>\n",
       "    </tr>\n",
       "    <tr>\n",
       "      <th>TeamTag</th>\n",
       "      <th></th>\n",
       "      <th></th>\n",
       "      <th></th>\n",
       "    </tr>\n",
       "  </thead>\n",
       "  <tbody>\n",
       "    <tr>\n",
       "      <td>BAN</td>\n",
       "      <td>74</td>\n",
       "      <td>326</td>\n",
       "      <td>565</td>\n",
       "    </tr>\n",
       "    <tr>\n",
       "      <td>IND</td>\n",
       "      <td>54</td>\n",
       "      <td>322</td>\n",
       "      <td>247</td>\n",
       "    </tr>\n",
       "  </tbody>\n",
       "</table>\n",
       "</div>"
      ],
      "text/plain": [
       "Sign_vader  Negative  Neutral  Positive\n",
       "TeamTag                                \n",
       "BAN               74      326       565\n",
       "IND               54      322       247"
      ]
     },
     "execution_count": 38,
     "metadata": {},
     "output_type": "execute_result"
    }
   ],
   "source": [
    "summary_vader_count = pd.pivot_table(final, index = 'TeamTag', columns= 'Sign_vader', values = 'Score_text_vader',aggfunc ='count')\n",
    "\n",
    "summary_vader_count\n"
   ]
  },
  {
   "cell_type": "code",
   "execution_count": 39,
   "metadata": {
    "pycharm": {
     "is_executing": true
    }
   },
   "outputs": [],
   "source": [
    "# Function to compute the winner of the match using the values computed above in the pivot tables.\n",
    "\n",
    "def winner(team1, team2, p_team1, n_team1, p_team2, n_team2):\n",
    "    total = p_team1 + p_team2 + abs(n_team1) + abs(n_team2)\n",
    "    numerator = p_team1 + abs(n_team2)\n",
    "    ratio =  numerator / total\n",
    "    if (ratio > 0.5):\n",
    "        print(team1, \"is a winner with probability\", ratio)\n",
    "    elif (ratio <0.5):\n",
    "        print(team2, \"is a winner with probability\" , 1-ratio)\n",
    "    else:\n",
    "        print(\"Its a draw between\",team1, team2)"
   ]
  },
  {
   "cell_type": "code",
   "execution_count": 40,
   "metadata": {
    "pycharm": {
     "is_executing": true
    }
   },
   "outputs": [
    {
     "name": "stdout",
     "output_type": "stream",
     "text": [
      "BAN is a winner with probability 0.5085748835599675\n"
     ]
    }
   ],
   "source": [
    "# Arrival at decision using Text Blob sentiment analyser\n",
    "team1 = 'IND'\n",
    "team2 = 'BAN'\n",
    "p_team1 = float(summary_textBlob.loc[team1, 'Positive'])\n",
    "n_team1 = float(summary_textBlob.loc[team1, 'Negative'])\n",
    "p_team2 = float(summary_textBlob.loc[team2, 'Positive'])\n",
    "n_team2 = float(summary_textBlob.loc[team2, 'Negative'])\n",
    "\n",
    "winner(team1, team2, p_team1, n_team1, p_team2, n_team2)"
   ]
  },
  {
   "cell_type": "code",
   "execution_count": 41,
   "metadata": {
    "pycharm": {
     "is_executing": true
    }
   },
   "outputs": [
    {
     "name": "stdout",
     "output_type": "stream",
     "text": [
      "BAN is a winner with probability 0.5094840267205353\n"
     ]
    }
   ],
   "source": [
    "# Arrival at decision using Vader sentiment analyser\n",
    "team1 = 'IND'\n",
    "team2 = 'BAN'\n",
    "p_team1 = float(summary_vader.loc[team1, 'Positive'])\n",
    "n_team1 = float(summary_vader.loc[team1, 'Negative'])\n",
    "p_team2 = float(summary_vader.loc[team2, 'Positive'])\n",
    "n_team2 = float(summary_vader.loc[team2, 'Negative'])\n",
    "\n",
    "winner(team1, team2, p_team1, n_team1, p_team2, n_team2)"
   ]
  },
  {
   "cell_type": "code",
   "execution_count": 42,
   "metadata": {},
   "outputs": [],
   "source": [
    "final.loc[:,'Processed_Watson'] = [x for x in final['Processed_Vader']]\n",
    "\n"
   ]
  },
  {
   "cell_type": "code",
   "execution_count": 43,
   "metadata": {},
   "outputs": [],
   "source": [
    "from watson_developer_cloud import NaturalLanguageUnderstandingV1\n",
    "from watson_developer_cloud.natural_language_understanding_v1 import Features, EntitiesOptions, KeywordsOptions, SentimentOptions, CategoriesOptions"
   ]
  },
  {
   "cell_type": "code",
   "execution_count": 44,
   "metadata": {},
   "outputs": [
    {
     "name": "stderr",
     "output_type": "stream",
     "text": [
      "c:\\users\\amitb\\pycharmprojects\\cricwintweet\\venv\\lib\\site-packages\\ipykernel_launcher.py:4: DeprecationWarning: watson-developer-cloud moved to ibm-watson. To get updates, use the new package.\n",
      "  after removing the cwd from sys.path.\n"
     ]
    }
   ],
   "source": [
    "natural_language_understanding = NaturalLanguageUnderstandingV1(                                         \n",
    "    version='2018-11-16',\n",
    "    iam_apikey='0tR-lw7LsBb_TyT1tf47H_Vk1wWOyLEbF2-85ILgCsAb', # Use your API key here\n",
    "    url='https://api.eu-gb.natural-language-understanding.watson.cloud.ibm.com/instances/69b55a89-aed1-41c1-8cf0-f6c86a9ed3f8' # paste the url here\n",
    "    )"
   ]
  },
  {
   "cell_type": "code",
   "execution_count": 45,
   "metadata": {},
   "outputs": [],
   "source": [
    "def Sentiment_score(input_text): \n",
    "    if( str(input_text).isspace()==False):\n",
    "        # Input text can be sentence, paragraph or document\n",
    "        response = natural_language_understanding.analyze (\n",
    "        text = input_text,\n",
    "        language = 'en',\n",
    "        features = Features(sentiment=SentimentOptions())).get_result()\n",
    "    # From the response extract score which is between -1 to 1\n",
    "        res = response.get('sentiment').get('document').get('score')\n",
    "    else:\n",
    "        res = 0\n",
    "    return res"
   ]
  },
  {
   "cell_type": "code",
   "execution_count": 46,
   "metadata": {},
   "outputs": [],
   "source": [
    "# Remove newline characters\n",
    "\n",
    "def clear_newline_char(str):\n",
    "    return str.rstrip('\\n\\r')"
   ]
  },
  {
   "cell_type": "code",
   "execution_count": 47,
   "metadata": {},
   "outputs": [],
   "source": [
    "final.loc[:,'Processed_Watson'] = [clear_newline_char(x) for x in final['Processed_Watson']]"
   ]
  },
  {
   "cell_type": "code",
   "execution_count": 48,
   "metadata": {},
   "outputs": [],
   "source": [
    "final.loc[:,'Watson_Score'] = [Sentiment_score(str(x)) for x in final['Processed_Watson']]"
   ]
  },
  {
   "cell_type": "code",
   "execution_count": 49,
   "metadata": {},
   "outputs": [
    {
     "data": {
      "text/html": [
       "<div>\n",
       "<style scoped>\n",
       "    .dataframe tbody tr th:only-of-type {\n",
       "        vertical-align: middle;\n",
       "    }\n",
       "\n",
       "    .dataframe tbody tr th {\n",
       "        vertical-align: top;\n",
       "    }\n",
       "\n",
       "    .dataframe thead th {\n",
       "        text-align: right;\n",
       "    }\n",
       "</style>\n",
       "<table border=\"1\" class=\"dataframe\">\n",
       "  <thead>\n",
       "    <tr style=\"text-align: right;\">\n",
       "      <th></th>\n",
       "      <th>date</th>\n",
       "      <th>favorites</th>\n",
       "      <th>id</th>\n",
       "      <th>retweets</th>\n",
       "      <th>text</th>\n",
       "      <th>Processed</th>\n",
       "      <th>TeamTag</th>\n",
       "      <th>length</th>\n",
       "      <th>Processed_Vader</th>\n",
       "      <th>Score_text</th>\n",
       "      <th>Score_text_vader</th>\n",
       "      <th>Sign_text</th>\n",
       "      <th>Sign_vader</th>\n",
       "      <th>Processed_Watson</th>\n",
       "      <th>Watson_Score</th>\n",
       "    </tr>\n",
       "  </thead>\n",
       "  <tbody>\n",
       "    <tr>\n",
       "      <td>0</td>\n",
       "      <td>2020-02-07 23:47</td>\n",
       "      <td>1</td>\n",
       "      <td>1225845943334924288</td>\n",
       "      <td>1</td>\n",
       "      <td>Which team going to win Under 19 Cricket World...</td>\n",
       "      <td>Which team going to win Under 19 Cricket World...</td>\n",
       "      <td>IND</td>\n",
       "      <td>95</td>\n",
       "      <td>Which team going to win Under 19 Cricket World...</td>\n",
       "      <td>0.65</td>\n",
       "      <td>0.6361</td>\n",
       "      <td>Positive</td>\n",
       "      <td>Positive</td>\n",
       "      <td>Which team going to win Under 19 Cricket World...</td>\n",
       "      <td>0.000000</td>\n",
       "    </tr>\n",
       "    <tr>\n",
       "      <td>1</td>\n",
       "      <td>2020-02-07 23:43</td>\n",
       "      <td>0</td>\n",
       "      <td>1225845158333177856</td>\n",
       "      <td>1</td>\n",
       "      <td>Can you guess '''' INDIA VS BANGLADESH Which t...</td>\n",
       "      <td>Can you guess  INDIA VS BANGLADESH Which team ...</td>\n",
       "      <td>IND</td>\n",
       "      <td>100</td>\n",
       "      <td>Can you guess '''' INDIA VS BANGLADESH Which t...</td>\n",
       "      <td>0.65</td>\n",
       "      <td>0.6361</td>\n",
       "      <td>Positive</td>\n",
       "      <td>Positive</td>\n",
       "      <td>Can you guess '''' INDIA VS BANGLADESH Which t...</td>\n",
       "      <td>0.000000</td>\n",
       "    </tr>\n",
       "    <tr>\n",
       "      <td>2</td>\n",
       "      <td>2020-02-07 17:51</td>\n",
       "      <td>0</td>\n",
       "      <td>1225756525764857858</td>\n",
       "      <td>0</td>\n",
       "      <td>Best thing I like about yasashwi jaiswal is hi...</td>\n",
       "      <td>Best thing I like about yasashwi jaiswal is hi...</td>\n",
       "      <td>IND</td>\n",
       "      <td>218</td>\n",
       "      <td>Best thing I like about yasashwi jaiswal is hi...</td>\n",
       "      <td>0.32</td>\n",
       "      <td>0.8158</td>\n",
       "      <td>Positive</td>\n",
       "      <td>Positive</td>\n",
       "      <td>Best thing I like about yasashwi jaiswal is hi...</td>\n",
       "      <td>0.847488</td>\n",
       "    </tr>\n",
       "    <tr>\n",
       "      <td>3</td>\n",
       "      <td>2020-02-07 14:50</td>\n",
       "      <td>19</td>\n",
       "      <td>1225710925824417793</td>\n",
       "      <td>2</td>\n",
       "      <td>Feeling of Winning! Awesome! Congratulations! ...</td>\n",
       "      <td>Feeling of Winning Awesome Congratulations</td>\n",
       "      <td>BAN</td>\n",
       "      <td>52</td>\n",
       "      <td>Feeling of Winning! Awesome! Congratulations! ...</td>\n",
       "      <td>0.75</td>\n",
       "      <td>0.9297</td>\n",
       "      <td>Positive</td>\n",
       "      <td>Positive</td>\n",
       "      <td>Feeling of Winning! Awesome! Congratulations! ...</td>\n",
       "      <td>0.998779</td>\n",
       "    </tr>\n",
       "    <tr>\n",
       "      <td>4</td>\n",
       "      <td>2020-02-07 13:34</td>\n",
       "      <td>1</td>\n",
       "      <td>1225691670735286272</td>\n",
       "      <td>0</td>\n",
       "      <td>All the Stats you need to know as we lookahead...</td>\n",
       "      <td>All the Stats you need to know as we lookahead...</td>\n",
       "      <td>IND</td>\n",
       "      <td>92</td>\n",
       "      <td>All the Stats you need to know as we lookahead...</td>\n",
       "      <td>0.00</td>\n",
       "      <td>0.0000</td>\n",
       "      <td>Neutral</td>\n",
       "      <td>Neutral</td>\n",
       "      <td>All the Stats you need to know as we lookahead...</td>\n",
       "      <td>0.000000</td>\n",
       "    </tr>\n",
       "  </tbody>\n",
       "</table>\n",
       "</div>"
      ],
      "text/plain": [
       "               date favorites                   id retweets  \\\n",
       "0  2020-02-07 23:47         1  1225845943334924288        1   \n",
       "1  2020-02-07 23:43         0  1225845158333177856        1   \n",
       "2  2020-02-07 17:51         0  1225756525764857858        0   \n",
       "3  2020-02-07 14:50        19  1225710925824417793        2   \n",
       "4  2020-02-07 13:34         1  1225691670735286272        0   \n",
       "\n",
       "                                                text  \\\n",
       "0  Which team going to win Under 19 Cricket World...   \n",
       "1  Can you guess '''' INDIA VS BANGLADESH Which t...   \n",
       "2  Best thing I like about yasashwi jaiswal is hi...   \n",
       "3  Feeling of Winning! Awesome! Congratulations! ...   \n",
       "4  All the Stats you need to know as we lookahead...   \n",
       "\n",
       "                                           Processed TeamTag  length  \\\n",
       "0  Which team going to win Under 19 Cricket World...     IND      95   \n",
       "1  Can you guess  INDIA VS BANGLADESH Which team ...     IND     100   \n",
       "2  Best thing I like about yasashwi jaiswal is hi...     IND     218   \n",
       "3  Feeling of Winning Awesome Congratulations            BAN      52   \n",
       "4  All the Stats you need to know as we lookahead...     IND      92   \n",
       "\n",
       "                                     Processed_Vader  Score_text  \\\n",
       "0  Which team going to win Under 19 Cricket World...        0.65   \n",
       "1  Can you guess '''' INDIA VS BANGLADESH Which t...        0.65   \n",
       "2  Best thing I like about yasashwi jaiswal is hi...        0.32   \n",
       "3  Feeling of Winning! Awesome! Congratulations! ...        0.75   \n",
       "4  All the Stats you need to know as we lookahead...        0.00   \n",
       "\n",
       "   Score_text_vader Sign_text Sign_vader  \\\n",
       "0            0.6361  Positive   Positive   \n",
       "1            0.6361  Positive   Positive   \n",
       "2            0.8158  Positive   Positive   \n",
       "3            0.9297  Positive   Positive   \n",
       "4            0.0000   Neutral    Neutral   \n",
       "\n",
       "                                    Processed_Watson  Watson_Score  \n",
       "0  Which team going to win Under 19 Cricket World...      0.000000  \n",
       "1  Can you guess '''' INDIA VS BANGLADESH Which t...      0.000000  \n",
       "2  Best thing I like about yasashwi jaiswal is hi...      0.847488  \n",
       "3  Feeling of Winning! Awesome! Congratulations! ...      0.998779  \n",
       "4  All the Stats you need to know as we lookahead...      0.000000  "
      ]
     },
     "execution_count": 49,
     "metadata": {},
     "output_type": "execute_result"
    }
   ],
   "source": [
    "final.head(5)"
   ]
  },
  {
   "cell_type": "code",
   "execution_count": 50,
   "metadata": {},
   "outputs": [],
   "source": [
    "final['Sign_watson'] = [sign_pos_neg(x) for x in final['Watson_Score']]"
   ]
  },
  {
   "cell_type": "code",
   "execution_count": 51,
   "metadata": {},
   "outputs": [
    {
     "data": {
      "text/html": [
       "<div>\n",
       "<style scoped>\n",
       "    .dataframe tbody tr th:only-of-type {\n",
       "        vertical-align: middle;\n",
       "    }\n",
       "\n",
       "    .dataframe tbody tr th {\n",
       "        vertical-align: top;\n",
       "    }\n",
       "\n",
       "    .dataframe thead th {\n",
       "        text-align: right;\n",
       "    }\n",
       "</style>\n",
       "<table border=\"1\" class=\"dataframe\">\n",
       "  <thead>\n",
       "    <tr style=\"text-align: right;\">\n",
       "      <th>Sign_watson</th>\n",
       "      <th>Negative</th>\n",
       "      <th>Neutral</th>\n",
       "      <th>Positive</th>\n",
       "    </tr>\n",
       "    <tr>\n",
       "      <th>TeamTag</th>\n",
       "      <th></th>\n",
       "      <th></th>\n",
       "      <th></th>\n",
       "    </tr>\n",
       "  </thead>\n",
       "  <tbody>\n",
       "    <tr>\n",
       "      <td>BAN</td>\n",
       "      <td>-0.628692</td>\n",
       "      <td>0.0</td>\n",
       "      <td>0.800148</td>\n",
       "    </tr>\n",
       "    <tr>\n",
       "      <td>IND</td>\n",
       "      <td>-0.692539</td>\n",
       "      <td>0.0</td>\n",
       "      <td>0.757922</td>\n",
       "    </tr>\n",
       "  </tbody>\n",
       "</table>\n",
       "</div>"
      ],
      "text/plain": [
       "Sign_watson  Negative  Neutral  Positive\n",
       "TeamTag                                 \n",
       "BAN         -0.628692      0.0  0.800148\n",
       "IND         -0.692539      0.0  0.757922"
      ]
     },
     "execution_count": 51,
     "metadata": {},
     "output_type": "execute_result"
    }
   ],
   "source": [
    "summary_watson = pd.pivot_table(final, index = 'TeamTag', columns= 'Sign_watson', values = 'Watson_Score',aggfunc ='mean')\n",
    "\n",
    "summary_watson\n"
   ]
  },
  {
   "cell_type": "code",
   "execution_count": 52,
   "metadata": {},
   "outputs": [
    {
     "data": {
      "text/html": [
       "<div>\n",
       "<style scoped>\n",
       "    .dataframe tbody tr th:only-of-type {\n",
       "        vertical-align: middle;\n",
       "    }\n",
       "\n",
       "    .dataframe tbody tr th {\n",
       "        vertical-align: top;\n",
       "    }\n",
       "\n",
       "    .dataframe thead th {\n",
       "        text-align: right;\n",
       "    }\n",
       "</style>\n",
       "<table border=\"1\" class=\"dataframe\">\n",
       "  <thead>\n",
       "    <tr style=\"text-align: right;\">\n",
       "      <th>Sign_watson</th>\n",
       "      <th>Negative</th>\n",
       "      <th>Neutral</th>\n",
       "      <th>Positive</th>\n",
       "    </tr>\n",
       "    <tr>\n",
       "      <th>TeamTag</th>\n",
       "      <th></th>\n",
       "      <th></th>\n",
       "      <th></th>\n",
       "    </tr>\n",
       "  </thead>\n",
       "  <tbody>\n",
       "    <tr>\n",
       "      <td>BAN</td>\n",
       "      <td>73</td>\n",
       "      <td>485</td>\n",
       "      <td>407</td>\n",
       "    </tr>\n",
       "    <tr>\n",
       "      <td>IND</td>\n",
       "      <td>94</td>\n",
       "      <td>320</td>\n",
       "      <td>209</td>\n",
       "    </tr>\n",
       "  </tbody>\n",
       "</table>\n",
       "</div>"
      ],
      "text/plain": [
       "Sign_watson  Negative  Neutral  Positive\n",
       "TeamTag                                 \n",
       "BAN                73      485       407\n",
       "IND                94      320       209"
      ]
     },
     "execution_count": 52,
     "metadata": {},
     "output_type": "execute_result"
    }
   ],
   "source": [
    "summary_watson_count = pd.pivot_table(final, index = 'TeamTag', columns= 'Sign_watson', values = 'Watson_Score',aggfunc ='count')\n",
    "\n",
    "summary_watson_count\n"
   ]
  },
  {
   "cell_type": "code",
   "execution_count": 53,
   "metadata": {},
   "outputs": [
    {
     "name": "stdout",
     "output_type": "stream",
     "text": [
      "BAN is a winner with probability 0.5184198895817062\n"
     ]
    }
   ],
   "source": [
    "# Arrival at decision using Watson sentiment analyser\n",
    "team1 = 'IND'\n",
    "team2 = 'BAN'\n",
    "p_team1 = float(summary_watson.loc[team1, 'Positive'])\n",
    "n_team1 = float(summary_watson.loc[team1, 'Negative'])\n",
    "p_team2 = float(summary_watson.loc[team2, 'Positive'])\n",
    "n_team2 = float(summary_watson.loc[team2, 'Negative'])\n",
    "\n",
    "winner(team1, team2, p_team1, n_team1, p_team2, n_team2)"
   ]
  }
 ],
 "metadata": {
  "kernelspec": {
   "display_name": "Python 3",
   "language": "python",
   "name": "python3"
  },
  "language_info": {
   "codemirror_mode": {
    "name": "ipython",
    "version": 3
   },
   "file_extension": ".py",
   "mimetype": "text/x-python",
   "name": "python",
   "nbconvert_exporter": "python",
   "pygments_lexer": "ipython3",
   "version": "3.7.2"
  },
  "pycharm": {
   "stem_cell": {
    "cell_type": "raw",
    "metadata": {
     "collapsed": false
    },
    "source": []
   }
  }
 },
 "nbformat": 4,
 "nbformat_minor": 1
}
